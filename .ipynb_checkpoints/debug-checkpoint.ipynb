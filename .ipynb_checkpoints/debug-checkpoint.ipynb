{
 "cells": [
  {
   "cell_type": "code",
   "execution_count": 1,
   "metadata": {},
   "outputs": [],
   "source": [
    "import awkward as ak"
   ]
  },
  {
   "cell_type": "code",
   "execution_count": 2,
   "metadata": {},
   "outputs": [],
   "source": [
    "from coffea.nanoevents import NanoAODSchema, NanoEventsFactory"
   ]
  },
  {
   "cell_type": "code",
   "execution_count": 3,
   "metadata": {},
   "outputs": [],
   "source": [
    "events = NanoEventsFactory.from_root(\n",
    "    \"/commonfs/store/mc/RunIISummer20UL18NanoAODv9/TTToSemiLeptonic_TuneCP5_13TeV-powheg-pythia8/NANOAODSIM/106X_upgrade2018_realistic_v16_L1v1-v1/120000/0520A050-AF68-EF43-AA5B-5AA77C74ED73.root\",\n",
    "    schemaclass=NanoAODSchema,\n",
    "    metadata={'dataset':'TTToSemiLeptonic_18'}\n",
    ").events()"
   ]
  },
  {
   "cell_type": "code",
   "execution_count": 4,
   "metadata": {},
   "outputs": [
    {
     "data": {
      "text/plain": [
       "['MetUnclustEnUpDeltaX',\n",
       " 'MetUnclustEnUpDeltaY',\n",
       " 'covXX',\n",
       " 'covXY',\n",
       " 'covYY',\n",
       " 'phi',\n",
       " 'pt',\n",
       " 'significance',\n",
       " 'sumEt',\n",
       " 'sumPtUnclustered',\n",
       " 'fiducialGenPhi',\n",
       " 'fiducialGenPt']"
      ]
     },
     "execution_count": 4,
     "metadata": {},
     "output_type": "execute_result"
    }
   ],
   "source": [
    "events.MET.fields"
   ]
  },
  {
   "cell_type": "code",
   "execution_count": 5,
   "metadata": {},
   "outputs": [
    {
     "data": {
      "text/plain": [
       "['ndof', 'x', 'y', 'z', 'chi2', 'score', 'npvs', 'npvsGood']"
      ]
     },
     "execution_count": 5,
     "metadata": {},
     "output_type": "execute_result"
    }
   ],
   "source": [
    "events.PV.fields"
   ]
  },
  {
   "cell_type": "code",
   "execution_count": 6,
   "metadata": {},
   "outputs": [
    {
     "data": {
      "text/plain": [
       "<Array [26, 12, 15, 8, 35, ... 15, 48, 28, 34] type='1294000 * int32[parameters=...'>"
      ]
     },
     "execution_count": 6,
     "metadata": {},
     "output_type": "execute_result"
    }
   ],
   "source": [
    "events.PV.npvs"
   ]
  },
  {
   "cell_type": "code",
   "execution_count": 7,
   "metadata": {},
   "outputs": [],
   "source": [
    "from coffea import util\n",
    "from coffea.processor import accumulate\n",
    "from monoHbb.utils.crossSections import lumis, crossSections\n",
    "import hist\n",
    "from plotting import GroupBy\n",
    "import numpy as np\n",
    "from plottingTool import plotWithRatio"
   ]
  },
  {
   "cell_type": "code",
   "execution_count": 8,
   "metadata": {},
   "outputs": [],
   "source": [
    "outputData = accumulate([\n",
    "    util.load(\"coffea_files/ver9/CR_DataA_BCatTope_2018_from_1_to_50.coffea\"),\n",
    "    util.load(\"coffea_files/ver9/CR_DataA_BCatTope_2018_from_51_to_100.coffea\"),\n",
    "    util.load(\"coffea_files/ver9/CR_DataA_BCatTope_2018_from_101_to_150.coffea\"),\n",
    "    util.load(\"coffea_files/ver9/CR_DataA_BCatTope_2018_from_151_to_200.coffea\"),\n",
    "    util.load(\"coffea_files/ver9/CR_DataA_BCatTope_2018_from_201_to_226.coffea\"),\n",
    "    util.load(\"coffea_files/ver9/CR_DataB_BCatTope_2018_from_1_to_50.coffea\"),\n",
    "    util.load(\"coffea_files/ver9/CR_DataB_BCatTope_2018_from_51_to_74.coffea\"),\n",
    "    util.load(\"coffea_files/ver9/CR_DataC_BCatTope_2018_from_1_to_50.coffea\"),\n",
    "    util.load(\"coffea_files/ver9/CR_DataC_BCatTope_2018_from_51_to_83.coffea\"),\n",
    "    util.load(\"coffea_files/ver9/CR_DataD_BCatTope_2018_from_1_to_50.coffea\"),\n",
    "    util.load(\"coffea_files/ver9/CR_DataD_BCatTope_2018_from_51_to_100.coffea\"),\n",
    "    util.load(\"coffea_files/ver9/CR_DataD_BCatTope_2018_from_101_to_150.coffea\"),\n",
    "    util.load(\"coffea_files/ver9/CR_DataD_BCatTope_2018_from_151_to_200.coffea\"),\n",
    "    util.load(\"coffea_files/ver9/CR_DataD_BCatTope_2018_from_201_to_250.coffea\"),\n",
    "    util.load(\"coffea_files/ver9/CR_DataD_BCatTope_2018_from_251_to_300.coffea\"),\n",
    "    util.load(\"coffea_files/ver9/CR_DataD_BCatTope_2018_from_301_to_355.coffea\"),\n",
    "])"
   ]
  },
  {
   "cell_type": "code",
   "execution_count": 9,
   "metadata": {},
   "outputs": [],
   "source": [
    "outputMC = accumulate([\n",
    "    util.load(\"coffea_files/ver9/CR_MCTTbar1l1v_BCatTope_2018_from_1_to_47.coffea\"),\n",
    "    util.load(\"coffea_files/ver9/CR_MCSingleTop1_BCatTope_2018_from_1_to_50.coffea\"),\n",
    "    util.load(\"coffea_files/ver9/CR_MCSingleTop1_BCatTope_2018_from_51_to_100.coffea\"),\n",
    "    util.load(\"coffea_files/ver9/CR_MCSingleTop1_BCatTope_2018_from_101_to_150.coffea\"),\n",
    "    util.load(\"coffea_files/ver9/CR_MCSingleTop1_BCatTope_2018_from_151_to_200.coffea\"),\n",
    "    util.load(\"coffea_files/ver9/CR_MCSingleTop1_BCatTope_2018_from_201_to_250.coffea\"),\n",
    "    util.load(\"coffea_files/ver9/CR_MCSingleTop1_BCatTope_2018_from_251_to_279.coffea\"),\n",
    "    util.load(\"coffea_files/ver9/CR_MCSingleTop2_BCatTope_2018_from_1_to_52.coffea\"),\n",
    "    util.load(\"coffea_files/ver9/CR_MCSingleTop2_BCatTope_2018_from_53_to_75.coffea\"),\n",
    "    util.load(\"coffea_files/ver9/CR_MCWlvJets_BCatTope_2018_from_1_to_50.coffea\"),\n",
    "    util.load(\"coffea_files/ver9/CR_MCWlvJets_BCatTope_2018_from_51_to_100.coffea\"),\n",
    "    util.load(\"coffea_files/ver9/CR_MCWlvJets_BCatTope_2018_from_101_to_164.coffea\"),\n",
    "])"
   ]
  },
  {
   "cell_type": "code",
   "execution_count": 10,
   "metadata": {},
   "outputs": [],
   "source": [
    "# specify the MC grouping\n",
    "groupingMC = {\n",
    "    \"WJets_WpT\": [\n",
    "        \"WJets_LNu_WPt_100To250_18\",\n",
    "        \"WJets_LNu_WPt_250To400_18\",\n",
    "        \"WJets_LNu_WPt_400To600_18\",\n",
    "        \"WJets_LNu_WPt_600Toinf_18\",\n",
    "    ],\n",
    "    \"SingleTop\": [\n",
    "       \"ST_tW_top_18\",  \n",
    "       \"ST_tW_antitop_18\",\n",
    "       \"ST_tchannel_top_18\",  \n",
    "       \"ST_tchannel_antitop_18\",  \n",
    "    ],\n",
    "    \"tt\": [\n",
    "        \"TTToSemiLeptonic_18\",\n",
    "        #\"TTTo2L2Nu_18\",\n",
    "        #\"TTToHadronic_18\",\n",
    "    ],\n",
    "}"
   ]
  },
  {
   "cell_type": "code",
   "execution_count": 11,
   "metadata": {},
   "outputs": [],
   "source": [
    "dataset_list = []\n",
    "for key , value in groupingMC.items():\n",
    "    dataset_list += value\n",
    "#scale with xsec and luminosity\n",
    "for dataset_name in dataset_list:\n",
    "    # Calculate luminosity scale factor\n",
    "    lumi_sf = (\n",
    "        crossSections[dataset_name]\n",
    "        * lumis[2018]\n",
    "        / outputMC[dataset_name][\"EventCount\"].value\n",
    "    )\n",
    "\n",
    "    for key, obj in outputMC[dataset_name].items():\n",
    "        if isinstance(obj, hist.Hist):\n",
    "            obj *= lumi_sf\n"
   ]
  },
  {
   "cell_type": "code",
   "execution_count": 12,
   "metadata": {},
   "outputs": [],
   "source": [
    "# Separate the debug histograms from the main histograms\n",
    "temp = {}\n",
    "debug_temp = {}\n",
    "for key in outputData.keys():\n",
    "    temp[key]={}\n",
    "    debug_temp[key]={}\n",
    "    for subkey in outputData[key].keys():\n",
    "        if subkey.startswith(\"debug\"):\n",
    "            debug_temp[key][subkey] = outputData[key][subkey]\n",
    "        else:\n",
    "            temp[key][subkey] = outputData[key][subkey]\n",
    "outputData=temp.copy()\n",
    "debug_outputData=debug_temp.copy()\n",
    "\n",
    "temp = {}\n",
    "debug_temp = {}\n",
    "for key in outputMC.keys():\n",
    "    temp[key]={}\n",
    "    debug_temp[key]={}\n",
    "    for subkey in outputMC[key].keys():\n",
    "        if subkey.startswith(\"debug\"):\n",
    "            debug_temp[key][subkey] = outputMC[key][subkey]\n",
    "        else :\n",
    "            temp[key][subkey] = outputMC[key][subkey]\n",
    "outputMC=temp.copy()\n",
    "debug_outputMC=debug_temp.copy()"
   ]
  },
  {
   "cell_type": "code",
   "execution_count": 13,
   "metadata": {},
   "outputs": [
    {
     "name": "stderr",
     "output_type": "stream",
     "text": [
      "/home/prayag/shivani_code/plotting.py:12: UserWarning: Please use 'Double()' instead of 'Double'\n",
      "  hnew = hist.Hist(\n",
      "/opt/conda/lib/python3.10/site-packages/hist/basehist.py:400: UserWarning: List indexing selection is experimental. Removed bins are not placed in overflow.\n",
      "  return super().__getitem__(self._index_transform(index))\n"
     ]
    }
   ],
   "source": [
    "#----------------------------------------\n",
    "## Group MC samples and Data eras ## #Modified by Prayag#\n",
    "#----------------------------------------\n",
    "histList = []\n",
    "for samp, sampList in groupingMC.items():\n",
    "    histList += [outputMC[s] for s in sampList]\n",
    "outputHistMC = accumulate(histList)\n",
    "\n",
    "debug_histList = []\n",
    "for samp, sampList in groupingMC.items():\n",
    "    debug_histList += [debug_outputMC[s] for s in sampList]\n",
    "debug_outputHistMC = accumulate(debug_histList)\n",
    "\n",
    "for key, histo in outputHistMC.items():\n",
    "    if isinstance(histo, hist.Hist):\n",
    "        outputHistMC[key] = GroupBy(histo, 'dataset', 'dataset', groupingMC)\n",
    "outputHistData = accumulate([histo for key, histo in outputData.items()])\n",
    "\n",
    "for key, histo in debug_outputHistMC.items():\n",
    "    if isinstance(histo, hist.Hist):\n",
    "        debug_outputHistMC[key] = GroupBy(histo, 'dataset', 'dataset', groupingMC)\n",
    "debug_outputHistData = accumulate([histo for key, histo in debug_outputData.items()])"
   ]
  },
  {
   "cell_type": "code",
   "execution_count": 14,
   "metadata": {},
   "outputs": [
    {
     "data": {
      "text/plain": [
       "dict_keys(['EventCount', 'Cutflow_BCat_CRTope', 'Mbb', 'MET_pT', 'MET_Phi', 'Recoil', 'Recoil_Phi', 'HT', 'FJet_pT', 'FJet_Eta', 'FJet_Phi', 'FJet_Msd', 'FJet_M', 'dPhi_met_FJet', 'dPhi_Electron_FJet', 'FJet_Area', 'FJet_btagHbb', 'FJet_deepTag_H', 'FJet_particleNet_HbbvsQCD', 'FJet_TauN', 'FJet_TauNM', 'FJet_n2b1_n3b1', 'Electron_pT', 'Electron_Eta', 'Electron_Phi', 'Electron_M', 'dPhi_met_Electron', 'dPhi_recoil_Electron', 'bJet_N', 'bJet_pT', 'bJet_Eta', 'bJet_Phi', 'bJet_M', 'bJet_btagDeepB', 'dPhi_met_bJet', 'Jet_N', 'Jet_pT', 'Jet_Eta', 'Jet_Phi', 'Jet_M', 'Jet_btagDeepB', 'dPhi_met_Jet', 'bJet_N_BCatMinus2', 'bJet_pT_BCatMinus2', 'bJet_Eta_BCatMinus2', 'bJet_Phi_BCatMinus2', 'bJet_M_BCatMinus2', 'bJet_btagDeepB_BCatMinus2', 'dPhi_met_bJet_BCatMinus2', 'bJet_N_BCatMinus1', 'bJet_pT_BCatMinus1', 'bJet_Eta_BCatMinus1', 'bJet_Phi_BCatMinus1', 'bJet_M_BCatMinus1', 'bJet_btagDeepB_BCatMinus1', 'Jet_N_BCatMinus2', 'Jet_pT_BCatMinus2', 'Jet_Eta_BCatMinus2', 'Jet_Phi_BCatMinus2', 'Jet_M_BCatMinus2', 'Jet_btagDeepB_BCatMinus2', 'dPhi_met_Jet_BCatMinus2', 'FJet_pT_BCatMinus2', 'FJet_Eta_BCatMinus2', 'FJet_Phi_BCatMinus2', 'FJet_Msd_BCatMinus2', 'FJet_M_BCatMinus2', 'dPhi_met_FJet_BCatMinus2', 'dPhi_Electron_FJet_BCatMinus2', 'FJet_Area_BCatMinus2', 'FJet_btagHbb_BCatMinus2', 'FJet_deepTag_H_BCatMinus2', 'FJet_particleNet_HbbvsQCD_BCatMinus2', 'FJet_TauN_BCatMinus2', 'FJet_TauNM_BCatMinus2', 'FJet_n2b1_n3b1_BCatMinus2'])"
      ]
     },
     "execution_count": 14,
     "metadata": {},
     "output_type": "execute_result"
    }
   ],
   "source": [
    "outputHistMC.keys()"
   ]
  },
  {
   "cell_type": "code",
   "execution_count": 15,
   "metadata": {},
   "outputs": [
    {
     "data": {
      "text/plain": [
       "dict_keys(['EventCount', 'Cutflow_BCat_CRTope', 'Mbb', 'MET_pT', 'MET_Phi', 'Recoil', 'Recoil_Phi', 'HT', 'FJet_pT', 'FJet_Eta', 'FJet_Phi', 'FJet_Msd', 'FJet_M', 'dPhi_met_FJet', 'dPhi_Electron_FJet', 'FJet_Area', 'FJet_btagHbb', 'FJet_deepTag_H', 'FJet_particleNet_HbbvsQCD', 'FJet_TauN', 'FJet_TauNM', 'FJet_n2b1_n3b1', 'Electron_pT', 'Electron_Eta', 'Electron_Phi', 'Electron_M', 'dPhi_met_Electron', 'dPhi_recoil_Electron', 'bJet_N', 'bJet_pT', 'bJet_Eta', 'bJet_Phi', 'bJet_M', 'bJet_btagDeepB', 'dPhi_met_bJet', 'Jet_N', 'Jet_pT', 'Jet_Eta', 'Jet_Phi', 'Jet_M', 'Jet_btagDeepB', 'dPhi_met_Jet', 'bJet_N_BCatMinus2', 'bJet_pT_BCatMinus2', 'bJet_Eta_BCatMinus2', 'bJet_Phi_BCatMinus2', 'bJet_M_BCatMinus2', 'bJet_btagDeepB_BCatMinus2', 'dPhi_met_bJet_BCatMinus2', 'bJet_N_BCatMinus1', 'bJet_pT_BCatMinus1', 'bJet_Eta_BCatMinus1', 'bJet_Phi_BCatMinus1', 'bJet_M_BCatMinus1', 'bJet_btagDeepB_BCatMinus1', 'Jet_N_BCatMinus2', 'Jet_pT_BCatMinus2', 'Jet_Eta_BCatMinus2', 'Jet_Phi_BCatMinus2', 'Jet_M_BCatMinus2', 'Jet_btagDeepB_BCatMinus2', 'dPhi_met_Jet_BCatMinus2', 'FJet_pT_BCatMinus2', 'FJet_Eta_BCatMinus2', 'FJet_Phi_BCatMinus2', 'FJet_Msd_BCatMinus2', 'FJet_M_BCatMinus2', 'dPhi_met_FJet_BCatMinus2', 'dPhi_Electron_FJet_BCatMinus2', 'FJet_Area_BCatMinus2', 'FJet_btagHbb_BCatMinus2', 'FJet_deepTag_H_BCatMinus2', 'FJet_particleNet_HbbvsQCD_BCatMinus2', 'FJet_TauN_BCatMinus2', 'FJet_TauNM_BCatMinus2', 'FJet_n2b1_n3b1_BCatMinus2'])"
      ]
     },
     "execution_count": 15,
     "metadata": {},
     "output_type": "execute_result"
    }
   ],
   "source": [
    "outputHistData.keys()"
   ]
  },
  {
   "cell_type": "code",
   "execution_count": 16,
   "metadata": {},
   "outputs": [
    {
     "data": {
      "text/html": [
       "<html>\n",
       "<div style=\"display:flex; align-items:center;\">\n",
       "<div style=\"width:290px;\">\n",
       "<svg xmlns=\"http://www.w3.org/2000/svg\" viewBox=\"-20 -270 290 290\">\n",
       "<text text-anchor=\"middle\" x=\"0\" y=\"13\" style=\"fill:currentColor;\">\n",
       "0\n",
       "</text>\n",
       "<text text-anchor=\"middle\" x=\"250\" y=\"13\" style=\"fill:currentColor;\">\n",
       "3\n",
       "</text>\n",
       "<text text-anchor=\"middle\" x=\"-10\" y=\"0\" style=\"fill:currentColor;\">\n",
       "0\n",
       "</text>\n",
       "<text text-anchor=\"middle\" x=\"-10\" y=\"-250\" style=\"fill:currentColor;\">\n",
       "15\n",
       "</text>\n",
       "<text text-anchor=\"middle\" x=\"125.0\" y=\"13\" style=\"fill:currentColor;\">\n",
       "dataset\n",
       "</text>\n",
       "<text text-anchor=\"middle\" x=\"-10\" y=\"-125.0\" transform=\"rotate(-90,-10,-125.0)\" style=\"fill:currentColor;\">\n",
       "Cut\n",
       "</text>\n",
       "<rect x=\"0.0\" y=\"-16.666666666666668\" width=\"83.333\" height=\"16.667\" opacity=\"1.0\" fill=\"currentColor\" stroke-width=\"0.1\"/>\n",
       "<rect x=\"83.33333333333333\" y=\"-16.666666666666668\" width=\"83.333\" height=\"16.667\" opacity=\"0.3661609860771496\" fill=\"currentColor\" stroke-width=\"0.1\"/>\n",
       "<rect x=\"166.66666666666666\" y=\"-16.666666666666668\" width=\"83.333\" height=\"16.667\" opacity=\"0.4569838814312092\" fill=\"currentColor\" stroke-width=\"0.1\"/>\n",
       "<rect x=\"0.0\" y=\"-33.333333333333336\" width=\"83.333\" height=\"16.667\" opacity=\"0.17814972522310318\" fill=\"currentColor\" stroke-width=\"0.1\"/>\n",
       "<rect x=\"83.33333333333333\" y=\"-33.333333333333336\" width=\"83.333\" height=\"16.667\" opacity=\"0.021294460103690474\" fill=\"currentColor\" stroke-width=\"0.1\"/>\n",
       "<rect x=\"166.66666666666666\" y=\"-33.333333333333336\" width=\"83.333\" height=\"16.667\" opacity=\"0.07082264066816335\" fill=\"currentColor\" stroke-width=\"0.1\"/>\n",
       "<rect x=\"0.0\" y=\"-50.0\" width=\"83.333\" height=\"16.667\" opacity=\"0.0026771410283126166\" fill=\"currentColor\" stroke-width=\"0.1\"/>\n",
       "<rect x=\"83.33333333333333\" y=\"-50.0\" width=\"83.333\" height=\"16.667\" opacity=\"0.0006073105139401084\" fill=\"currentColor\" stroke-width=\"0.1\"/>\n",
       "<rect x=\"166.66666666666666\" y=\"-50.0\" width=\"83.333\" height=\"16.667\" opacity=\"0.005573314887804299\" fill=\"currentColor\" stroke-width=\"0.1\"/>\n",
       "<rect x=\"0.0\" y=\"-66.66666666666667\" width=\"83.333\" height=\"16.667\" opacity=\"0.002344763989299042\" fill=\"currentColor\" stroke-width=\"0.1\"/>\n",
       "<rect x=\"83.33333333333333\" y=\"-66.66666666666667\" width=\"83.333\" height=\"16.667\" opacity=\"0.00044220890043207035\" fill=\"currentColor\" stroke-width=\"0.1\"/>\n",
       "<rect x=\"166.66666666666666\" y=\"-66.66666666666667\" width=\"83.333\" height=\"16.667\" opacity=\"0.0032204308730532974\" fill=\"currentColor\" stroke-width=\"0.1\"/>\n",
       "<rect x=\"0.0\" y=\"-83.33333333333333\" width=\"83.333\" height=\"16.667\" opacity=\"0.00036064530835515173\" fill=\"currentColor\" stroke-width=\"0.1\"/>\n",
       "<rect x=\"83.33333333333333\" y=\"-83.33333333333333\" width=\"83.333\" height=\"16.667\" opacity=\"0.00023014539450318816\" fill=\"currentColor\" stroke-width=\"0.1\"/>\n",
       "<rect x=\"166.66666666666666\" y=\"-83.33333333333333\" width=\"83.333\" height=\"16.667\" opacity=\"0.0019031563067780878\" fill=\"currentColor\" stroke-width=\"0.1\"/>\n",
       "<rect x=\"0.0\" y=\"-100.0\" width=\"83.333\" height=\"16.667\" opacity=\"0.0002788951972785008\" fill=\"currentColor\" stroke-width=\"0.1\"/>\n",
       "<rect x=\"83.33333333333333\" y=\"-100.0\" width=\"83.333\" height=\"16.667\" opacity=\"0.00017766718811755268\" fill=\"currentColor\" stroke-width=\"0.1\"/>\n",
       "<rect x=\"166.66666666666666\" y=\"-100.0\" width=\"83.333\" height=\"16.667\" opacity=\"0.0014929964506546836\" fill=\"currentColor\" stroke-width=\"0.1\"/>\n",
       "<rect x=\"0.0\" y=\"-116.66666666666667\" width=\"83.333\" height=\"16.667\" opacity=\"0.0002084873296946564\" fill=\"currentColor\" stroke-width=\"0.1\"/>\n",
       "<rect x=\"83.33333333333333\" y=\"-116.66666666666667\" width=\"83.333\" height=\"16.667\" opacity=\"0.00013477034922964725\" fill=\"currentColor\" stroke-width=\"0.1\"/>\n",
       "<rect x=\"166.66666666666666\" y=\"-116.66666666666667\" width=\"83.333\" height=\"16.667\" opacity=\"0.001104411306854396\" fill=\"currentColor\" stroke-width=\"0.1\"/>\n",
       "<rect x=\"0.0\" y=\"-133.33333333333334\" width=\"83.333\" height=\"16.667\" opacity=\"9.222738808194108e-05\" fill=\"currentColor\" stroke-width=\"0.1\"/>\n",
       "<rect x=\"83.33333333333333\" y=\"-133.33333333333334\" width=\"83.333\" height=\"16.667\" opacity=\"4.799712176739371e-05\" fill=\"currentColor\" stroke-width=\"0.1\"/>\n",
       "<rect x=\"166.66666666666666\" y=\"-133.33333333333334\" width=\"83.333\" height=\"16.667\" opacity=\"0.0003129069757448582\" fill=\"currentColor\" stroke-width=\"0.1\"/>\n",
       "<rect x=\"0.0\" y=\"-150.0\" width=\"83.333\" height=\"16.667\" opacity=\"9.21146665124223e-05\" fill=\"currentColor\" stroke-width=\"0.1\"/>\n",
       "<rect x=\"83.33333333333333\" y=\"-150.0\" width=\"83.333\" height=\"16.667\" opacity=\"4.7943525522022436e-05\" fill=\"currentColor\" stroke-width=\"0.1\"/>\n",
       "<rect x=\"166.66666666666666\" y=\"-150.0\" width=\"83.333\" height=\"16.667\" opacity=\"0.0003126976630489458\" fill=\"currentColor\" stroke-width=\"0.1\"/>\n",
       "<rect x=\"0.0\" y=\"-166.66666666666666\" width=\"83.333\" height=\"16.667\" opacity=\"9.139763899025099e-05\" fill=\"currentColor\" stroke-width=\"0.1\"/>\n",
       "<rect x=\"83.33333333333333\" y=\"-166.66666666666666\" width=\"83.333\" height=\"16.667\" opacity=\"4.710367632813234e-05\" fill=\"currentColor\" stroke-width=\"0.1\"/>\n",
       "<rect x=\"166.66666666666666\" y=\"-166.66666666666666\" width=\"83.333\" height=\"16.667\" opacity=\"0.0003094339354571269\" fill=\"currentColor\" stroke-width=\"0.1\"/>\n",
       "<rect x=\"0.0\" y=\"-183.33333333333331\" width=\"83.333\" height=\"16.667\" opacity=\"9.076995760900595e-05\" fill=\"currentColor\" stroke-width=\"0.1\"/>\n",
       "<rect x=\"83.33333333333333\" y=\"-183.33333333333331\" width=\"83.333\" height=\"16.667\" opacity=\"4.6806735430731286e-05\" fill=\"currentColor\" stroke-width=\"0.1\"/>\n",
       "<rect x=\"166.66666666666666\" y=\"-183.33333333333331\" width=\"83.333\" height=\"16.667\" opacity=\"0.0003082943441127151\" fill=\"currentColor\" stroke-width=\"0.1\"/>\n",
       "<rect x=\"0.0\" y=\"-200.0\" width=\"83.333\" height=\"16.667\" opacity=\"8.41459192295338e-05\" fill=\"currentColor\" stroke-width=\"0.1\"/>\n",
       "<rect x=\"83.33333333333333\" y=\"-200.0\" width=\"83.333\" height=\"16.667\" opacity=\"4.417867952848992e-05\" fill=\"currentColor\" stroke-width=\"0.1\"/>\n",
       "<rect x=\"166.66666666666666\" y=\"-200.0\" width=\"83.333\" height=\"16.667\" opacity=\"0.0002904019847732425\" fill=\"currentColor\" stroke-width=\"0.1\"/>\n",
       "<rect x=\"0.0\" y=\"-216.66666666666669\" width=\"83.333\" height=\"16.667\" opacity=\"0.0\" fill=\"currentColor\" stroke-width=\"0.1\"/>\n",
       "<rect x=\"83.33333333333333\" y=\"-216.66666666666669\" width=\"83.333\" height=\"16.667\" opacity=\"0.0\" fill=\"currentColor\" stroke-width=\"0.1\"/>\n",
       "<rect x=\"166.66666666666666\" y=\"-216.66666666666669\" width=\"83.333\" height=\"16.667\" opacity=\"0.0\" fill=\"currentColor\" stroke-width=\"0.1\"/>\n",
       "<rect x=\"0.0\" y=\"-233.33333333333334\" width=\"83.333\" height=\"16.667\" opacity=\"0.0\" fill=\"currentColor\" stroke-width=\"0.1\"/>\n",
       "<rect x=\"83.33333333333333\" y=\"-233.33333333333334\" width=\"83.333\" height=\"16.667\" opacity=\"0.0\" fill=\"currentColor\" stroke-width=\"0.1\"/>\n",
       "<rect x=\"166.66666666666666\" y=\"-233.33333333333334\" width=\"83.333\" height=\"16.667\" opacity=\"0.0\" fill=\"currentColor\" stroke-width=\"0.1\"/>\n",
       "<rect x=\"0.0\" y=\"-250.0\" width=\"83.333\" height=\"16.667\" opacity=\"0.0\" fill=\"currentColor\" stroke-width=\"0.1\"/>\n",
       "<rect x=\"83.33333333333333\" y=\"-250.0\" width=\"83.333\" height=\"16.667\" opacity=\"0.0\" fill=\"currentColor\" stroke-width=\"0.1\"/>\n",
       "<rect x=\"166.66666666666666\" y=\"-250.0\" width=\"83.333\" height=\"16.667\" opacity=\"0.0\" fill=\"currentColor\" stroke-width=\"0.1\"/>\n",
       "</svg>\n",
       "</div>\n",
       "<div style=\"flex=grow:1;\">\n",
       "StrCategory(['WJets_WpT', 'SingleTop', 'tt'], name='dataset')<br/>\n",
       "Regular(15, 0, 15, name='cut', label='Cut')<br/>\n",
       "<hr style=\"margin-top:.2em; margin-bottom:.2em;\"/>\n",
       "Double() Σ=101499646.78942877\n",
       "\n",
       "</div>\n",
       "</div>\n",
       "</html>"
      ],
      "text/plain": [
       "Hist(\n",
       "  StrCategory(['WJets_WpT', 'SingleTop', 'tt'], name='dataset'),\n",
       "  Regular(15, 0, 15, name='cut', label='Cut'),\n",
       "  storage=Double()) # Sum: 101499646.78942877"
      ]
     },
     "execution_count": 16,
     "metadata": {},
     "output_type": "execute_result"
    }
   ],
   "source": [
    "outputHistMC[\"Cutflow_BCat_CRTope\"]"
   ]
  },
  {
   "cell_type": "code",
   "execution_count": 17,
   "metadata": {},
   "outputs": [
    {
     "data": {
      "text/html": [
       "<html>\n",
       "<div style=\"display:flex; align-items:center;\">\n",
       "<div style=\"width:290px;\">\n",
       "<svg xmlns=\"http://www.w3.org/2000/svg\" viewBox=\"-10 -105 270 120\">\n",
       "<line x1=\"-5\" y1=\"0\" x2=\"255\" y2=\"0\" style=\"fill:none;stroke-width:2;stroke:currentColor\"/>\n",
       "<text text-anchor=\"middle\" x=\"0\" y=\"15\" style=\"fill:currentColor;\">\n",
       "0\n",
       "</text>\n",
       "<text text-anchor=\"middle\" x=\"250\" y=\"15\" style=\"fill:currentColor;\">\n",
       "15\n",
       "</text>\n",
       "<text text-anchor=\"middle\" x=\"125.0\" y=\"15\" style=\"fill:currentColor;\">\n",
       "Cut\n",
       "</text>\n",
       "<polyline points=\"  0,0   0,-100 16.6667,-100 16.6667,-14.8 33.3333,-14.8 33.3333,-0.486  50,-0.486  50,-0.33 66.6667,-0.33 66.6667,-0.137 83.3333,-0.137 83.3333,-0.107 100,-0.107 100,-0.0794 116.667,-0.0794 116.667,-0.0249 133.333,-0.0249 133.333,-0.0248 150,-0.0248 150,-0.0246 166.667,-0.0246 166.667,-0.0245 183.333,-0.0245 183.333,-0.023 200,-0.023 200,-0 216.667,-0 216.667,-0 233.333,-0 233.333,-0 250,-0 250,0\" style=\"fill:none; stroke:currentColor;\"/>\n",
       "</svg>\n",
       "</div>\n",
       "<div style=\"flex=grow:1;\">\n",
       "Regular(15, 0, 15, name='cut', label='Cut')<br/>\n",
       "<hr style=\"margin-top:.2em; margin-bottom:.2em;\"/>\n",
       "Double() Σ=101499646.78942877\n",
       "\n",
       "</div>\n",
       "</div>\n",
       "</html>"
      ],
      "text/plain": [
       "Hist(Regular(15, 0, 15, name='cut', label='Cut'), storage=Double()) # Sum: 101499646.78942877"
      ]
     },
     "execution_count": 17,
     "metadata": {},
     "output_type": "execute_result"
    }
   ],
   "source": [
    "outputHistMC[\"Cutflow_BCat_CRTope\"][{\"dataset\":sum}]"
   ]
  },
  {
   "cell_type": "code",
   "execution_count": 18,
   "metadata": {},
   "outputs": [
    {
     "data": {
      "text/html": [
       "<div>\n",
       "<style scoped>\n",
       "    .dataframe tbody tr th:only-of-type {\n",
       "        vertical-align: middle;\n",
       "    }\n",
       "\n",
       "    .dataframe tbody tr th {\n",
       "        vertical-align: top;\n",
       "    }\n",
       "\n",
       "    .dataframe thead th {\n",
       "        text-align: right;\n",
       "    }\n",
       "</style>\n",
       "<table border=\"1\" class=\"dataframe\">\n",
       "  <thead>\n",
       "    <tr style=\"text-align: right;\">\n",
       "      <th></th>\n",
       "      <th>Bin</th>\n",
       "      <th>Selection</th>\n",
       "      <th>NEvts_data</th>\n",
       "      <th>NEvts_bkg</th>\n",
       "      <th>Ratio</th>\n",
       "    </tr>\n",
       "  </thead>\n",
       "  <tbody>\n",
       "    <tr>\n",
       "      <th>0</th>\n",
       "      <td>0.0</td>\n",
       "      <td>NoCut</td>\n",
       "      <td>1.393159e+09</td>\n",
       "      <td>8.743609e+07</td>\n",
       "      <td>15.933449</td>\n",
       "    </tr>\n",
       "    <tr>\n",
       "      <th>1</th>\n",
       "      <td>1.0</td>\n",
       "      <td>MET-Filter</td>\n",
       "      <td>1.380052e+09</td>\n",
       "      <td>1.296171e+07</td>\n",
       "      <td>106.471429</td>\n",
       "    </tr>\n",
       "    <tr>\n",
       "      <th>2</th>\n",
       "      <td>2.0</td>\n",
       "      <td>Electron-Trigger</td>\n",
       "      <td>6.253660e+08</td>\n",
       "      <td>4.248091e+05</td>\n",
       "      <td>1472.110792</td>\n",
       "    </tr>\n",
       "    <tr>\n",
       "      <th>3</th>\n",
       "      <td>3.0</td>\n",
       "      <td>N(FatJet)=1</td>\n",
       "      <td>1.039751e+06</td>\n",
       "      <td>2.881087e+05</td>\n",
       "      <td>3.608884</td>\n",
       "    </tr>\n",
       "    <tr>\n",
       "      <th>4</th>\n",
       "      <td>4.0</td>\n",
       "      <td>$N_{IsoAddjet}\\leq2$</td>\n",
       "      <td>7.434740e+05</td>\n",
       "      <td>1.196070e+05</td>\n",
       "      <td>6.215971</td>\n",
       "    </tr>\n",
       "    <tr>\n",
       "      <th>5</th>\n",
       "      <td>5.0</td>\n",
       "      <td>$N_{IsoLooseBtagjet}=1$</td>\n",
       "      <td>2.417570e+05</td>\n",
       "      <td>9.349877e+04</td>\n",
       "      <td>2.585670</td>\n",
       "    </tr>\n",
       "    <tr>\n",
       "      <th>6</th>\n",
       "      <td>6.0</td>\n",
       "      <td>$N_{e}=1$ and $N_{\\mu}=0$</td>\n",
       "      <td>1.152210e+05</td>\n",
       "      <td>6.942867e+04</td>\n",
       "      <td>1.659559</td>\n",
       "    </tr>\n",
       "    <tr>\n",
       "      <th>7</th>\n",
       "      <td>7.0</td>\n",
       "      <td>$p_{T}^{miss}&gt;50$GeV</td>\n",
       "      <td>7.893600e+04</td>\n",
       "      <td>2.173170e+04</td>\n",
       "      <td>3.632297</td>\n",
       "    </tr>\n",
       "    <tr>\n",
       "      <th>8</th>\n",
       "      <td>8.0</td>\n",
       "      <td>Recoil$&gt;250$GeV</td>\n",
       "      <td>2.338100e+04</td>\n",
       "      <td>2.171369e+04</td>\n",
       "      <td>1.076786</td>\n",
       "    </tr>\n",
       "    <tr>\n",
       "      <th>9</th>\n",
       "      <td>9.0</td>\n",
       "      <td>$N_{tau}=0$</td>\n",
       "      <td>2.297800e+04</td>\n",
       "      <td>2.148250e+04</td>\n",
       "      <td>1.069615</td>\n",
       "    </tr>\n",
       "    <tr>\n",
       "      <th>10</th>\n",
       "      <td>10.0</td>\n",
       "      <td>$N_{\\gamma}=0$</td>\n",
       "      <td>2.282100e+04</td>\n",
       "      <td>2.138350e+04</td>\n",
       "      <td>1.067225</td>\n",
       "    </tr>\n",
       "    <tr>\n",
       "      <th>11</th>\n",
       "      <td>11.0</td>\n",
       "      <td>HEM-veto</td>\n",
       "      <td>2.010000e+04</td>\n",
       "      <td>2.008168e+04</td>\n",
       "      <td>1.000912</td>\n",
       "    </tr>\n",
       "  </tbody>\n",
       "</table>\n",
       "</div>"
      ],
      "text/plain": [
       "     Bin                  Selection    NEvts_data     NEvts_bkg        Ratio\n",
       "0    0.0                      NoCut  1.393159e+09  8.743609e+07    15.933449\n",
       "1    1.0                 MET-Filter  1.380052e+09  1.296171e+07   106.471429\n",
       "2    2.0           Electron-Trigger  6.253660e+08  4.248091e+05  1472.110792\n",
       "3    3.0                N(FatJet)=1  1.039751e+06  2.881087e+05     3.608884\n",
       "4    4.0       $N_{IsoAddjet}\\leq2$  7.434740e+05  1.196070e+05     6.215971\n",
       "5    5.0    $N_{IsoLooseBtagjet}=1$  2.417570e+05  9.349877e+04     2.585670\n",
       "6    6.0  $N_{e}=1$ and $N_{\\mu}=0$  1.152210e+05  6.942867e+04     1.659559\n",
       "7    7.0       $p_{T}^{miss}>50$GeV  7.893600e+04  2.173170e+04     3.632297\n",
       "8    8.0            Recoil$>250$GeV  2.338100e+04  2.171369e+04     1.076786\n",
       "9    9.0                $N_{tau}=0$  2.297800e+04  2.148250e+04     1.069615\n",
       "10  10.0             $N_{\\gamma}=0$  2.282100e+04  2.138350e+04     1.067225\n",
       "11  11.0                   HEM-veto  2.010000e+04  2.008168e+04     1.000912"
      ]
     },
     "execution_count": 18,
     "metadata": {},
     "output_type": "execute_result"
    }
   ],
   "source": [
    "#make cutflow table\n",
    "key = \"Cutflow_BCat_CRTope\"\n",
    "Nevents_MC = outputHistMC[key][{\"dataset\": sum}].values()\n",
    "Nevents_Data = outputHistData[key][{\"dataset\": sum}].values()\n",
    "Ratio_DataMC = Nevents_Data[:12]/Nevents_MC[:12]\n",
    "\n",
    "bins_B_1eCR = np.linspace(0,11,12)\n",
    "\n",
    "sels_B_1eCR = [\n",
    "    \"NoCut\",\n",
    "    #\"MET-Trigger\",\n",
    "    \"MET-Filter\",\n",
    "    \"Electron-Trigger\",\n",
    "    r\"N(FatJet)=1\",\n",
    "    r\"$N_{IsoAddjet}\\leq2$\",\n",
    "    r\"$N_{IsoLooseBtagjet}=1$\",\n",
    "    r\"$N_{e}=1$ and $N_{\\mu}=0$\",\n",
    "    r\"$p_{T}^{miss}>50$GeV\",\n",
    "    r\"Recoil$>250$GeV\",\n",
    "    r\"$N_{tau}=0$\",\n",
    "    r\"$N_{\\gamma}=0$\",\n",
    "    \"HEM-veto\"\n",
    "]\n",
    "import pandas as pd \n",
    "Dict = {'Bin': bins_B_1eCR, 'Selection': sels_B_1eCR, 'NEvts_data': Nevents_Data[:12], 'NEvts_bkg': Nevents_MC[:12], 'Ratio': Ratio_DataMC}\n",
    "#print(Dict)\n",
    "df = pd.DataFrame(Dict)\n",
    "df"
   ]
  },
  {
   "cell_type": "code",
   "execution_count": 19,
   "metadata": {},
   "outputs": [
    {
     "name": "stderr",
     "output_type": "stream",
     "text": [
      "/home/prayag/shivani_code/plottingTool.py:204: RuntimeWarning: invalid value encountered in divide\n",
      "  ratio_mcStatUp = np.append(1 + np.sqrt(h[{overlay:sum}].variances())/h[{overlay:sum}].values(),[0])\n",
      "/home/prayag/shivani_code/plottingTool.py:205: RuntimeWarning: invalid value encountered in divide\n",
      "  ratio_mcStatDo = np.append(1 - np.sqrt(h[{overlay:sum}].variances())/h[{overlay:sum}].values(),[0])\n",
      "/home/prayag/shivani_code/plottingTool.py:222: RuntimeWarning: invalid value encountered in divide\n",
      "  ratios = ak.where(hist_2_values>0, hist_1_values/hist_2_values, 10)\n"
     ]
    },
    {
     "data": {
      "image/png": "[encoded data removed]",
      "text/plain": [
       "<Figure size 700x700 with 2 Axes>"
      ]
     },
     "metadata": {},
     "output_type": "display_data"
    }
   ],
   "source": [
    "# make cutflow plot\n",
    "hMC = outputHistMC[key]\n",
    "hData = outputHistData[key][{'dataset':sum}]\n",
    "plotWithRatio(h=hMC, hData=hData, overlay='dataset', logY=True, xLabel='Selection Bin', xRange=None, colors_cat='Topmu', extraText=None, lumi=59.83, year=2018)"
   ]
  },
  {
   "cell_type": "code",
   "execution_count": 20,
   "metadata": {},
   "outputs": [],
   "source": [
    "import os.path\n",
    "from coffea import util\n",
    "from coffea.btag_tools import BTagScaleFactor\n",
    "from coffea.jetmet_tools import CorrectedJetsFactory, JECStack\n",
    "from coffea.lookup_tools import extractor\n",
    "import pickle\n"
   ]
  },
  {
   "cell_type": "code",
   "execution_count": 21,
   "metadata": {},
   "outputs": [
    {
     "data": {
      "text/plain": [
       "2 dimensional histogram with axes:\n",
       "\t1: [-2.5   -2.    -1.566 -1.444 -1.    -0.5    0.     0.5    1.     1.444\n",
       "  1.566  2.     2.5  ]\n",
       "\t2: [ 20.  45.  75. 100. 500.]"
      ]
     },
     "execution_count": 21,
     "metadata": {},
     "output_type": "execute_result"
    }
   ],
   "source": [
    "#Electron Reconstruction SF\n",
    "cwd = 'monoHbb/efficiencies'\n",
    "ex = extractor()\n",
    "ex.add_weight_sets([f\"ElectronrecoSF EGamma_SF2D {cwd}/egammaEffi_ptAbove20_UL2018.root\"])\n",
    "ex.finalize()\n",
    "evaluator = ex.make_evaluator()\n",
    "ElectronrecoEffLookup_18 = evaluator['ElectronrecoSF']\n",
    "ElectronrecoEffLookup_18"
   ]
  },
  {
   "cell_type": "code",
   "execution_count": 22,
   "metadata": {},
   "outputs": [
    {
     "data": {
      "text/plain": [
       "<Array [True, True, False, ... True, True] type='8 * bool'>"
      ]
     },
     "execution_count": 22,
     "metadata": {},
     "output_type": "execute_result"
    }
   ],
   "source": [
    "selections = ak.Array([True,True,False,True,True,False,True,True])\n",
    "selections"
   ]
  },
  {
   "cell_type": "code",
   "execution_count": 23,
   "metadata": {},
   "outputs": [
    {
     "data": {
      "text/plain": [
       "<Array [1.01, 0.98, 0.97, ... 0.97, 0.99, 0.95] type='8 * float64'>"
      ]
     },
     "execution_count": 23,
     "metadata": {},
     "output_type": "execute_result"
    }
   ],
   "source": [
    "weights = ak.Array([1.01,0.98,0.97,1.03,1.02,0.97,0.99,0.95])\n",
    "weights"
   ]
  },
  {
   "cell_type": "code",
   "execution_count": 24,
   "metadata": {},
   "outputs": [
    {
     "data": {
      "text/plain": [
       "<Array [1.01, 0.98, 1.03, 1.02, 0.99, 0.95] type='6 * float64'>"
      ]
     },
     "execution_count": 24,
     "metadata": {},
     "output_type": "execute_result"
    }
   ],
   "source": [
    " weights[selections]"
   ]
  },
  {
   "cell_type": "code",
   "execution_count": 26,
   "metadata": {},
   "outputs": [
    {
     "data": {
      "text/plain": [
       "5.98"
      ]
     },
     "execution_count": 26,
     "metadata": {},
     "output_type": "execute_result"
    }
   ],
   "source": [
    " ak.sum(weights[selections])"
   ]
  },
  {
   "cell_type": "code",
   "execution_count": 27,
   "metadata": {},
   "outputs": [],
   "source": [
    "from coffea.analysis_tools import PackedSelection, Weights"
   ]
  },
  {
   "cell_type": "code",
   "execution_count": 28,
   "metadata": {},
   "outputs": [],
   "source": [
    "weights_CR = Weights(len(events))\n",
    "weights_CR.add(\"NoWeight\", weight=np.ones(len(events)))"
   ]
  },
  {
   "cell_type": "code",
   "execution_count": 32,
   "metadata": {},
   "outputs": [],
   "source": [
    "def get_electron_weight(tight_electrons, lookup_table):\n",
    "    '''\n",
    "    Provides the electron trigger or reco scale factor in appropriate event weight format.\n",
    "    '''\n",
    "    a =  ak.mask(tight_electrons, ak.num(tight_electrons) == 1)\n",
    "    b = lookup_table(abs(a.eta),a.pt)\n",
    "    c = ak.fill_none(b,[-1] , axis = 0)\n",
    "    d = ak.flatten(c)\n",
    "    e = ak.mask(d, d>0)\n",
    "    return e\n",
    "\n",
    "ElectronrecoSFWeight = get_electron_weight(events.Electron,ElectronrecoEffLookup_18)\n",
    "\n",
    "ElectronrecoSF_err = ak.where(ElectronrecoSFWeight>0, 0.01, 0.00) # assigning 1 % uncertainty to all\n",
    "\n",
    "\n",
    "ElectronrecoSFWeight_Up = (ElectronrecoSFWeight + ElectronrecoSF_err)\n",
    "ElectronrecoSFWeight_Down = (ElectronrecoSFWeight - ElectronrecoSF_err)\n",
    " \n",
    "weights_CR.add(\"ElectronrecoSFWeight\",weight=ElectronrecoSFWeight,weightUp=ElectronrecoSFWeight_Up,weightDown=ElectronrecoSFWeight_Down,)      "
   ]
  },
  {
   "cell_type": "code",
   "execution_count": 37,
   "metadata": {},
   "outputs": [
    {
     "data": {
      "text/plain": [
       "array([1.        , 0.987526  , 1.        , ..., 0.98770493, 1.        ,\n",
       "       1.        ])"
      ]
     },
     "execution_count": 37,
     "metadata": {},
     "output_type": "execute_result"
    }
   ],
   "source": [
    "weights_CR.weight()"
   ]
  },
  {
   "cell_type": "code",
   "execution_count": null,
   "metadata": {},
   "outputs": [],
   "source": []
  }
 ],
 "metadata": {
  "kernelspec": {
   "display_name": "Python 3 (ipykernel)",
   "language": "python",
   "name": "python3"
  },
  "language_info": {
   "codemirror_mode": {
    "name": "ipython",
    "version": 3
   },
   "file_extension": ".py",
   "mimetype": "text/x-python",
   "name": "python",
   "nbconvert_exporter": "python",
   "pygments_lexer": "ipython3",
   "version": "3.10.8"
  }
 },
 "nbformat": 4,
 "nbformat_minor": 4
}
