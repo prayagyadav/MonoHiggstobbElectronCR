{
 "cells": [
  {
   "cell_type": "code",
   "execution_count": 3,
   "id": "69906737-0ec7-49e9-817c-5c88a29b0aa7",
   "metadata": {},
   "outputs": [],
   "source": [
    "import fileList_MCbkg_18 as fileset\n",
    "import json"
   ]
  },
  {
   "cell_type": "code",
   "execution_count": 5,
   "id": "2e0e8c44-de6e-45a6-8c3b-eb42d5df9f25",
   "metadata": {},
   "outputs": [],
   "source": [
    "file_dict = fileset.fileList_MC_18"
   ]
  },
  {
   "cell_type": "code",
   "execution_count": 6,
   "id": "a05b909d-8fd4-4253-8baf-7290e0696a7f",
   "metadata": {},
   "outputs": [],
   "source": [
    "with open(\"2018_samples.json\", \"w\") as outfile: \n",
    "    json.dump(file_dict, outfile)"
   ]
  },
  {
   "cell_type": "code",
   "execution_count": null,
   "id": "f427c686-8ef4-4e28-bc37-aba34668570a",
   "metadata": {},
   "outputs": [],
   "source": []
  }
 ],
 "metadata": {
  "kernelspec": {
   "display_name": "Python 3 (ipykernel)",
   "language": "python",
   "name": "python3"
  },
  "language_info": {
   "codemirror_mode": {
    "name": "ipython",
    "version": 3
   },
   "file_extension": ".py",
   "mimetype": "text/x-python",
   "name": "python",
   "nbconvert_exporter": "python",
   "pygments_lexer": "ipython3",
   "version": "3.10.8"
  }
 },
 "nbformat": 4,
 "nbformat_minor": 5
}
