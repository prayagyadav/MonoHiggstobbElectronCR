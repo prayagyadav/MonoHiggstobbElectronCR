{
 "cells": [
  {
   "cell_type": "code",
   "execution_count": 2,
   "id": "17c01fc4-b744-4707-8fe2-4bad74e08bbf",
   "metadata": {},
   "outputs": [],
   "source": [
    "import hist\n",
    "import awkward as ak\n",
    "import uproot as ur\n",
    "import matplotlib.pyplot as plt\n",
    "import mplhep as hep\n",
    "from coffea.nanoevents import NanoAODSchema, NanoEventsFactory\n",
    "import awkward as ak"
   ]
  },
  {
   "cell_type": "code",
   "execution_count": 3,
   "id": "4e59a179-c81b-418a-8349-d69551b7bc87",
   "metadata": {},
   "outputs": [],
   "source": [
    "events = NanoEventsFactory.from_root(\n",
    "    \"/commonfs/store/mc/RunIISummer20UL18NanoAODv9/TTToSemiLeptonic_TuneCP5_13TeV-powheg-pythia8/NANOAODSIM/106X_upgrade2018_realistic_v16_L1v1-v1/120000/0520A050-AF68-EF43-AA5B-5AA77C74ED73.root\",\n",
    "    schemaclass=NanoAODSchema.v6,\n",
    "    metadata={'dataset':'TTToSemiLeptonic'}\n",
    ").events()"
   ]
  },
  {
   "cell_type": "code",
   "execution_count": 4,
   "id": "a0e39210-cdc5-44df-84c0-45cc48a22c74",
   "metadata": {},
   "outputs": [],
   "source": [
    "from scalefactors import (\n",
    "    jerjesCorrection,\n",
    "    pileupSF,\n",
    "    triggerEffLookup_18,\n",
    "    triggerEffLookup_17,\n",
    "    taggingEffLookupLooseWP_18,\n",
    "    taggingEffLookupLooseWP_17,\n",
    ")"
   ]
  },
  {
   "cell_type": "code",
   "execution_count": 5,
   "id": "90d16eec-9b01-4401-8d49-621eeac069cd",
   "metadata": {},
   "outputs": [
    {
     "data": {
      "text/plain": [
       "'/home/prayag/shivani_code/monoHbb'"
      ]
     },
     "execution_count": 5,
     "metadata": {},
     "output_type": "execute_result"
    }
   ],
   "source": [
    "import os\n",
    "os.getcwd()"
   ]
  },
  {
   "cell_type": "code",
   "execution_count": 6,
   "id": "66f883da-c67d-4dfb-9ad4-71e4d3e577e2",
   "metadata": {},
   "outputs": [
    {
     "data": {
      "text/plain": [
       "1 dimensional histogram with axes:\n",
       "\t1: [  0.  50. 100. 150. 200. 250. 300. 350. 400. 450. 500. 550. 600. 650.\n",
       " 700. 750. 800. 850. 900. 950.]"
      ]
     },
     "execution_count": 6,
     "metadata": {},
     "output_type": "execute_result"
    }
   ],
   "source": [
    "triggerEffLookup_18"
   ]
  },
  {
   "cell_type": "code",
   "execution_count": 7,
   "id": "d90669ed-c638-4cb7-9774-7a69b55ab82e",
   "metadata": {},
   "outputs": [],
   "source": [
    "from coffea.lookup_tools import extractor, dense_lookup\n",
    "import pickle"
   ]
  },
  {
   "cell_type": "code",
   "execution_count": 8,
   "id": "f5d89445-3266-4769-a21f-04b5f83a8fbf",
   "metadata": {},
   "outputs": [
    {
     "data": {
      "text/plain": [
       "<Array [45.4, 45.4, 45.4, ... 4.76, 45.4, 4.76] type='1294000 * float64'>"
      ]
     },
     "execution_count": 8,
     "metadata": {},
     "output_type": "execute_result"
    }
   ],
   "source": [
    "triggerEffLookup_18(events.MET.pt)"
   ]
  },
  {
   "cell_type": "code",
   "execution_count": 9,
   "id": "92738645-1561-4aa2-bc7b-ba4898f2a432",
   "metadata": {},
   "outputs": [
    {
     "data": {
      "text/plain": [
       "['EleTriggSF_abseta_pt;1']"
      ]
     },
     "execution_count": 9,
     "metadata": {},
     "output_type": "execute_result"
    }
   ],
   "source": [
    "file = ur.open(\"efficiencies/EleTriggSF.root\")\n",
    "file.keys()"
   ]
  },
  {
   "cell_type": "code",
   "execution_count": 10,
   "id": "89bed81a-e337-4116-ae87-6b24c362abfe",
   "metadata": {},
   "outputs": [
    {
     "data": {
      "text/plain": [
       "ColormeshArtists(pcolormesh=<matplotlib.collections.QuadMesh object at 0x7f4361c235e0>, cbar=<matplotlib.colorbar.Colorbar object at 0x7f4361c26da0>, text=[])"
      ]
     },
     "execution_count": 10,
     "metadata": {},
     "output_type": "execute_result"
    },
    {
     "data": {
      "image/png": "[encoded data removed]",
      "text/plain": [
       "<Figure size 640x480 with 2 Axes>"
      ]
     },
     "metadata": {},
     "output_type": "display_data"
    }
   ],
   "source": [
    "file['EleTriggSF_abseta_pt'].to_hist().plot2d()"
   ]
  },
  {
   "cell_type": "code",
   "execution_count": 11,
   "id": "276bad29-8410-4b15-8e7a-beadb1e0f62d",
   "metadata": {},
   "outputs": [
    {
     "data": {
      "text/plain": [
       "(array([[0.75, 0.92, 0.95, 0.96, 0.96, 0.97, 0.96, 0.97, 0.97, 0.98, 0.93],\n",
       "        [0.64, 0.91, 0.94, 0.95, 0.95, 0.96, 0.96, 0.96, 0.96, 0.97, 1.  ],\n",
       "        [0.63, 0.91, 0.94, 0.95, 0.95, 0.95, 0.96, 0.96, 0.99, 0.97, 1.  ],\n",
       "        [0.5 , 0.83, 0.89, 0.9 , 0.92, 0.93, 0.94, 0.94, 0.96, 1.  , 1.  ]],\n",
       "       dtype=float32),\n",
       " array([0. , 0.8, 1.5, 2. , 3.5]),\n",
       " array([  0.,  40.,  50.,  60.,  70.,  80.,  90., 100., 150., 200., 250.,\n",
       "        300.]))"
      ]
     },
     "execution_count": 11,
     "metadata": {},
     "output_type": "execute_result"
    }
   ],
   "source": [
    "table = file['EleTriggSF_abseta_pt'].to_numpy()\n",
    "table"
   ]
  },
  {
   "cell_type": "code",
   "execution_count": 12,
   "id": "32d4be9d-689d-43d7-9722-5645abc259f8",
   "metadata": {},
   "outputs": [],
   "source": [
    "SF, mod_eta_edges, pt_edges = table"
   ]
  },
  {
   "cell_type": "code",
   "execution_count": 13,
   "id": "9ec425f5-716b-4b06-b679-3e46a619d471",
   "metadata": {},
   "outputs": [],
   "source": [
    "ElectrontriggerEffLookup = dense_lookup.dense_lookup( SF, [mod_eta_edges , pt_edges] )"
   ]
  },
  {
   "cell_type": "code",
   "execution_count": 14,
   "id": "c05beab1-12c6-4869-b52a-3f6e57814a2c",
   "metadata": {},
   "outputs": [
    {
     "data": {
      "text/plain": [
       "2 dimensional histogram with axes:\n",
       "\t1: [0.  0.8 1.5 2.  3.5]\n",
       "\t2: [  0.  40.  50.  60.  70.  80.  90. 100. 150. 200. 250. 300.]"
      ]
     },
     "execution_count": 14,
     "metadata": {},
     "output_type": "execute_result"
    }
   ],
   "source": [
    "ElectrontriggerEffLookup"
   ]
  },
  {
   "cell_type": "code",
   "execution_count": 15,
   "id": "0e8d9fe4-bddf-4362-9981-07bc13967d88",
   "metadata": {},
   "outputs": [
    {
     "data": {
      "text/plain": [
       "<Array [[], [0.75], [0.94, ... [0.63], [], []] type='1294000 * var * float32'>"
      ]
     },
     "execution_count": 15,
     "metadata": {},
     "output_type": "execute_result"
    }
   ],
   "source": [
    "ElectrontriggerEffLookup(abs(events.Electron.eta),events.Electron.pt)"
   ]
  },
  {
   "cell_type": "code",
   "execution_count": 16,
   "id": "487a0dfb-8fbe-4f29-b81e-a6de68efb286",
   "metadata": {},
   "outputs": [
    {
     "data": {
      "text/plain": [
       "<coffea.lookup_tools.extractor.extractor at 0x7f4359a8f190>"
      ]
     },
     "execution_count": 16,
     "metadata": {},
     "output_type": "execute_result"
    }
   ],
   "source": [
    "ex = extractor()\n",
    "ex"
   ]
  },
  {
   "cell_type": "code",
   "execution_count": 17,
   "id": "1350df30-8ec5-45c2-89c0-6e2cc4abed3a",
   "metadata": {},
   "outputs": [],
   "source": [
    "ex.add_weight_sets([\"ElectronTriggerSF EleTriggSF_abseta_pt efficiencies/EleTriggSF.root\"])"
   ]
  },
  {
   "cell_type": "code",
   "execution_count": 18,
   "id": "1709d894-4b7e-4a4b-9d69-1609665bdf88",
   "metadata": {},
   "outputs": [],
   "source": [
    "ex.finalize()"
   ]
  },
  {
   "cell_type": "code",
   "execution_count": 19,
   "id": "c3a2eddb-6a3c-4d79-9e31-a8af4fd0561a",
   "metadata": {},
   "outputs": [],
   "source": [
    "evaluator = ex.make_evaluator()"
   ]
  },
  {
   "cell_type": "code",
   "execution_count": 20,
   "id": "ca804905-df7e-4d5c-bde0-ebe741148ed2",
   "metadata": {},
   "outputs": [
    {
     "data": {
      "text/plain": [
       "2 dimensional histogram with axes:\n",
       "\t1: [0.  0.8 1.5 2.  3.5]\n",
       "\t2: [  0.  40.  50.  60.  70.  80.  90. 100. 150. 200. 250. 300.]"
      ]
     },
     "execution_count": 20,
     "metadata": {},
     "output_type": "execute_result"
    }
   ],
   "source": [
    "evaluator['ElectronTriggerSF']"
   ]
  },
  {
   "cell_type": "code",
   "execution_count": 21,
   "id": "ff8e1954-58d4-408c-a66b-2fb8631423b8",
   "metadata": {},
   "outputs": [],
   "source": [
    "single_e = events.Electron[events.HLT.Ele32_WPTight_Gsf]"
   ]
  },
  {
   "cell_type": "code",
   "execution_count": 22,
   "id": "c7e4ee26-a378-433c-b2f1-a75314abd393",
   "metadata": {},
   "outputs": [
    {
     "data": {
      "text/plain": [
       "<Array [[0.94, 0.95], ... [0.92, 0.75]] type='200738 * var * float32'>"
      ]
     },
     "execution_count": 22,
     "metadata": {},
     "output_type": "execute_result"
    }
   ],
   "source": [
    "scale = evaluator['ElectronTriggerSF'](abs(single_e.eta),single_e.pt) \n",
    "scale"
   ]
  },
  {
   "cell_type": "code",
   "execution_count": 23,
   "id": "47340199-6e0a-4cc5-b735-d2ca92a7fb26",
   "metadata": {},
   "outputs": [],
   "source": [
    "elepthist = hist.Hist.new.StrCat(['raw','scaled'], name='type').Regular(100, 0, 500, name='pt',label=r'$p_T$').Double()"
   ]
  },
  {
   "cell_type": "code",
   "execution_count": 24,
   "id": "119169d9-f9b8-4a22-85a0-156c3e1661f8",
   "metadata": {},
   "outputs": [
    {
     "data": {
      "text/html": [
       "<html>\n",
       "<div style=\"display:flex; align-items:center;\">\n",
       "<div style=\"width:290px;\">\n",
       "<svg xmlns=\"http://www.w3.org/2000/svg\" viewBox=\"-20 -270 290 290\">\n",
       "<text text-anchor=\"middle\" x=\"0\" y=\"13\" style=\"fill:currentColor;\">\n",
       "0\n",
       "</text>\n",
       "<text text-anchor=\"middle\" x=\"250\" y=\"13\" style=\"fill:currentColor;\">\n",
       "2\n",
       "</text>\n",
       "<text text-anchor=\"middle\" x=\"-10\" y=\"0\" style=\"fill:currentColor;\">\n",
       "0\n",
       "</text>\n",
       "<text text-anchor=\"middle\" x=\"-10\" y=\"-250\" style=\"fill:currentColor;\">\n",
       "500\n",
       "</text>\n",
       "<text text-anchor=\"middle\" x=\"125.0\" y=\"13\" style=\"fill:currentColor;\">\n",
       "type\n",
       "</text>\n",
       "<text text-anchor=\"middle\" x=\"-10\" y=\"-125.0\" transform=\"rotate(-90,-10,-125.0)\" style=\"fill:currentColor;\">\n",
       "$p_T$\n",
       "</text>\n",
       "<rect x=\"0.0\" y=\"-2.5\" width=\"125.0\" height=\"2.5\" opacity=\"0.00515663055345595\" fill=\"currentColor\" stroke-width=\"0.1\"/>\n",
       "<rect x=\"125.0\" y=\"-2.5\" width=\"125.0\" height=\"2.5\" opacity=\"0.0\" fill=\"currentColor\" stroke-width=\"0.1\"/>\n",
       "<rect x=\"0.0\" y=\"-5.0\" width=\"125.0\" height=\"2.5\" opacity=\"1.0\" fill=\"currentColor\" stroke-width=\"0.1\"/>\n",
       "<rect x=\"125.0\" y=\"-5.0\" width=\"125.0\" height=\"2.5\" opacity=\"0.0\" fill=\"currentColor\" stroke-width=\"0.1\"/>\n",
       "<rect x=\"0.0\" y=\"-7.5\" width=\"125.0\" height=\"2.5\" opacity=\"0.5537918871252204\" fill=\"currentColor\" stroke-width=\"0.1\"/>\n",
       "<rect x=\"125.0\" y=\"-7.5\" width=\"125.0\" height=\"2.5\" opacity=\"0.0\" fill=\"currentColor\" stroke-width=\"0.1\"/>\n",
       "<rect x=\"0.0\" y=\"-10.0\" width=\"125.0\" height=\"2.5\" opacity=\"0.333148568069203\" fill=\"currentColor\" stroke-width=\"0.1\"/>\n",
       "<rect x=\"125.0\" y=\"-10.0\" width=\"125.0\" height=\"2.5\" opacity=\"0.0\" fill=\"currentColor\" stroke-width=\"0.1\"/>\n",
       "<rect x=\"0.0\" y=\"-12.5\" width=\"125.0\" height=\"2.5\" opacity=\"0.22366675065087765\" fill=\"currentColor\" stroke-width=\"0.1\"/>\n",
       "<rect x=\"125.0\" y=\"-12.5\" width=\"125.0\" height=\"2.5\" opacity=\"0.0\" fill=\"currentColor\" stroke-width=\"0.1\"/>\n",
       "<rect x=\"0.0\" y=\"-15.0\" width=\"125.0\" height=\"2.5\" opacity=\"0.15196103132611072\" fill=\"currentColor\" stroke-width=\"0.1\"/>\n",
       "<rect x=\"125.0\" y=\"-15.0\" width=\"125.0\" height=\"2.5\" opacity=\"0.0\" fill=\"currentColor\" stroke-width=\"0.1\"/>\n",
       "<rect x=\"0.0\" y=\"-17.5\" width=\"125.0\" height=\"2.5\" opacity=\"0.22877299067775259\" fill=\"currentColor\" stroke-width=\"0.1\"/>\n",
       "<rect x=\"125.0\" y=\"-17.5\" width=\"125.0\" height=\"2.5\" opacity=\"0.0\" fill=\"currentColor\" stroke-width=\"0.1\"/>\n",
       "<rect x=\"0.0\" y=\"-20.0\" width=\"125.0\" height=\"2.5\" opacity=\"0.4242210464432687\" fill=\"currentColor\" stroke-width=\"0.1\"/>\n",
       "<rect x=\"125.0\" y=\"-20.0\" width=\"125.0\" height=\"2.5\" opacity=\"0.0\" fill=\"currentColor\" stroke-width=\"0.1\"/>\n",
       "<rect x=\"0.0\" y=\"-22.5\" width=\"125.0\" height=\"2.5\" opacity=\"0.38617619887461163\" fill=\"currentColor\" stroke-width=\"0.1\"/>\n",
       "<rect x=\"125.0\" y=\"-22.5\" width=\"125.0\" height=\"2.5\" opacity=\"0.0\" fill=\"currentColor\" stroke-width=\"0.1\"/>\n",
       "<rect x=\"0.0\" y=\"-25.0\" width=\"125.0\" height=\"2.5\" opacity=\"0.33758293440833126\" fill=\"currentColor\" stroke-width=\"0.1\"/>\n",
       "<rect x=\"125.0\" y=\"-25.0\" width=\"125.0\" height=\"2.5\" opacity=\"0.0\" fill=\"currentColor\" stroke-width=\"0.1\"/>\n",
       "<rect x=\"0.0\" y=\"-27.5\" width=\"125.0\" height=\"2.5\" opacity=\"0.3051650289745528\" fill=\"currentColor\" stroke-width=\"0.1\"/>\n",
       "<rect x=\"125.0\" y=\"-27.5\" width=\"125.0\" height=\"2.5\" opacity=\"0.0\" fill=\"currentColor\" stroke-width=\"0.1\"/>\n",
       "<rect x=\"0.0\" y=\"-30.0\" width=\"125.0\" height=\"2.5\" opacity=\"0.2781893004115227\" fill=\"currentColor\" stroke-width=\"0.1\"/>\n",
       "<rect x=\"125.0\" y=\"-30.0\" width=\"125.0\" height=\"2.5\" opacity=\"0.0\" fill=\"currentColor\" stroke-width=\"0.1\"/>\n",
       "<rect x=\"0.0\" y=\"-32.5\" width=\"125.0\" height=\"2.5\" opacity=\"0.2406315612664819\" fill=\"currentColor\" stroke-width=\"0.1\"/>\n",
       "<rect x=\"125.0\" y=\"-32.5\" width=\"125.0\" height=\"2.5\" opacity=\"0.0\" fill=\"currentColor\" stroke-width=\"0.1\"/>\n",
       "<rect x=\"0.0\" y=\"-35.0\" width=\"125.0\" height=\"2.5\" opacity=\"0.21209372637944068\" fill=\"currentColor\" stroke-width=\"0.1\"/>\n",
       "<rect x=\"125.0\" y=\"-35.0\" width=\"125.0\" height=\"2.5\" opacity=\"0.0\" fill=\"currentColor\" stroke-width=\"0.1\"/>\n",
       "<rect x=\"0.0\" y=\"-37.5\" width=\"125.0\" height=\"2.5\" opacity=\"0.1847148736037625\" fill=\"currentColor\" stroke-width=\"0.1\"/>\n",
       "<rect x=\"125.0\" y=\"-37.5\" width=\"125.0\" height=\"2.5\" opacity=\"0.0\" fill=\"currentColor\" stroke-width=\"0.1\"/>\n",
       "<rect x=\"0.0\" y=\"-40.0\" width=\"125.0\" height=\"2.5\" opacity=\"0.16343327454438566\" fill=\"currentColor\" stroke-width=\"0.1\"/>\n",
       "<rect x=\"125.0\" y=\"-40.0\" width=\"125.0\" height=\"2.5\" opacity=\"0.0\" fill=\"currentColor\" stroke-width=\"0.1\"/>\n",
       "<rect x=\"0.0\" y=\"-42.5\" width=\"125.0\" height=\"2.5\" opacity=\"0.13959855547157135\" fill=\"currentColor\" stroke-width=\"0.1\"/>\n",
       "<rect x=\"125.0\" y=\"-42.5\" width=\"125.0\" height=\"2.5\" opacity=\"0.0\" fill=\"currentColor\" stroke-width=\"0.1\"/>\n",
       "<rect x=\"0.0\" y=\"-45.0\" width=\"125.0\" height=\"2.5\" opacity=\"0.12162593432434704\" fill=\"currentColor\" stroke-width=\"0.1\"/>\n",
       "<rect x=\"125.0\" y=\"-45.0\" width=\"125.0\" height=\"2.5\" opacity=\"0.0\" fill=\"currentColor\" stroke-width=\"0.1\"/>\n",
       "<rect x=\"0.0\" y=\"-47.5\" width=\"125.0\" height=\"2.5\" opacity=\"0.10227597211724197\" fill=\"currentColor\" stroke-width=\"0.1\"/>\n",
       "<rect x=\"125.0\" y=\"-47.5\" width=\"125.0\" height=\"2.5\" opacity=\"0.0\" fill=\"currentColor\" stroke-width=\"0.1\"/>\n",
       "<rect x=\"0.0\" y=\"-50.0\" width=\"125.0\" height=\"2.5\" opacity=\"0.09001427731586463\" fill=\"currentColor\" stroke-width=\"0.1\"/>\n",
       "<rect x=\"125.0\" y=\"-50.0\" width=\"125.0\" height=\"2.5\" opacity=\"0.0\" fill=\"currentColor\" stroke-width=\"0.1\"/>\n",
       "<rect x=\"0.0\" y=\"-52.5\" width=\"125.0\" height=\"2.5\" opacity=\"0.0773830519862266\" fill=\"currentColor\" stroke-width=\"0.1\"/>\n",
       "<rect x=\"125.0\" y=\"-52.5\" width=\"125.0\" height=\"2.5\" opacity=\"0.0\" fill=\"currentColor\" stroke-width=\"0.1\"/>\n",
       "<rect x=\"0.0\" y=\"-55.0\" width=\"125.0\" height=\"2.5\" opacity=\"0.06641471403376166\" fill=\"currentColor\" stroke-width=\"0.1\"/>\n",
       "<rect x=\"125.0\" y=\"-55.0\" width=\"125.0\" height=\"2.5\" opacity=\"0.0\" fill=\"currentColor\" stroke-width=\"0.1\"/>\n",
       "<rect x=\"0.0\" y=\"-57.5\" width=\"125.0\" height=\"2.5\" opacity=\"0.06013269505332998\" fill=\"currentColor\" stroke-width=\"0.1\"/>\n",
       "<rect x=\"125.0\" y=\"-57.5\" width=\"125.0\" height=\"2.5\" opacity=\"0.0\" fill=\"currentColor\" stroke-width=\"0.1\"/>\n",
       "<rect x=\"0.0\" y=\"-60.0\" width=\"125.0\" height=\"2.5\" opacity=\"0.04840849920215\" fill=\"currentColor\" stroke-width=\"0.1\"/>\n",
       "<rect x=\"125.0\" y=\"-60.0\" width=\"125.0\" height=\"2.5\" opacity=\"0.0\" fill=\"currentColor\" stroke-width=\"0.1\"/>\n",
       "<rect x=\"0.0\" y=\"-62.5\" width=\"125.0\" height=\"2.5\" opacity=\"0.042613588645334675\" fill=\"currentColor\" stroke-width=\"0.1\"/>\n",
       "<rect x=\"125.0\" y=\"-62.5\" width=\"125.0\" height=\"2.5\" opacity=\"0.0\" fill=\"currentColor\" stroke-width=\"0.1\"/>\n",
       "<rect x=\"0.0\" y=\"-65.0\" width=\"125.0\" height=\"2.5\" opacity=\"0.03811203493743177\" fill=\"currentColor\" stroke-width=\"0.1\"/>\n",
       "<rect x=\"125.0\" y=\"-65.0\" width=\"125.0\" height=\"2.5\" opacity=\"0.0\" fill=\"currentColor\" stroke-width=\"0.1\"/>\n",
       "<rect x=\"0.0\" y=\"-67.5\" width=\"125.0\" height=\"2.5\" opacity=\"0.030553455950281347\" fill=\"currentColor\" stroke-width=\"0.1\"/>\n",
       "<rect x=\"125.0\" y=\"-67.5\" width=\"125.0\" height=\"2.5\" opacity=\"0.0\" fill=\"currentColor\" stroke-width=\"0.1\"/>\n",
       "<rect x=\"0.0\" y=\"-70.0\" width=\"125.0\" height=\"2.5\" opacity=\"0.02677416645670614\" fill=\"currentColor\" stroke-width=\"0.1\"/>\n",
       "<rect x=\"125.0\" y=\"-70.0\" width=\"125.0\" height=\"2.5\" opacity=\"0.0\" fill=\"currentColor\" stroke-width=\"0.1\"/>\n",
       "<rect x=\"0.0\" y=\"-72.5\" width=\"125.0\" height=\"2.5\" opacity=\"0.02376753170403964\" fill=\"currentColor\" stroke-width=\"0.1\"/>\n",
       "<rect x=\"125.0\" y=\"-72.5\" width=\"125.0\" height=\"2.5\" opacity=\"0.0\" fill=\"currentColor\" stroke-width=\"0.1\"/>\n",
       "<rect x=\"0.0\" y=\"-75.0\" width=\"125.0\" height=\"2.5\" opacity=\"0.020676912740404802\" fill=\"currentColor\" stroke-width=\"0.1\"/>\n",
       "<rect x=\"125.0\" y=\"-75.0\" width=\"125.0\" height=\"2.5\" opacity=\"0.0\" fill=\"currentColor\" stroke-width=\"0.1\"/>\n",
       "<rect x=\"0.0\" y=\"-77.5\" width=\"125.0\" height=\"2.5\" opacity=\"0.018426135886453348\" fill=\"currentColor\" stroke-width=\"0.1\"/>\n",
       "<rect x=\"125.0\" y=\"-77.5\" width=\"125.0\" height=\"2.5\" opacity=\"0.0\" fill=\"currentColor\" stroke-width=\"0.1\"/>\n",
       "<rect x=\"0.0\" y=\"-80.0\" width=\"125.0\" height=\"2.5\" opacity=\"0.01610817166372722\" fill=\"currentColor\" stroke-width=\"0.1\"/>\n",
       "<rect x=\"125.0\" y=\"-80.0\" width=\"125.0\" height=\"2.5\" opacity=\"0.0\" fill=\"currentColor\" stroke-width=\"0.1\"/>\n",
       "<rect x=\"0.0\" y=\"-82.5\" width=\"125.0\" height=\"2.5\" opacity=\"0.01360544217687075\" fill=\"currentColor\" stroke-width=\"0.1\"/>\n",
       "<rect x=\"125.0\" y=\"-82.5\" width=\"125.0\" height=\"2.5\" opacity=\"0.0\" fill=\"currentColor\" stroke-width=\"0.1\"/>\n",
       "<rect x=\"0.0\" y=\"-85.0\" width=\"125.0\" height=\"2.5\" opacity=\"0.011959351641891325\" fill=\"currentColor\" stroke-width=\"0.1\"/>\n",
       "<rect x=\"125.0\" y=\"-85.0\" width=\"125.0\" height=\"2.5\" opacity=\"0.0\" fill=\"currentColor\" stroke-width=\"0.1\"/>\n",
       "<rect x=\"0.0\" y=\"-87.5\" width=\"125.0\" height=\"2.5\" opacity=\"0.010296464264718233\" fill=\"currentColor\" stroke-width=\"0.1\"/>\n",
       "<rect x=\"125.0\" y=\"-87.5\" width=\"125.0\" height=\"2.5\" opacity=\"0.0\" fill=\"currentColor\" stroke-width=\"0.1\"/>\n",
       "<rect x=\"0.0\" y=\"-90.0\" width=\"125.0\" height=\"2.5\" opacity=\"0.009305450575291845\" fill=\"currentColor\" stroke-width=\"0.1\"/>\n",
       "<rect x=\"125.0\" y=\"-90.0\" width=\"125.0\" height=\"2.5\" opacity=\"0.0\" fill=\"currentColor\" stroke-width=\"0.1\"/>\n",
       "<rect x=\"0.0\" y=\"-92.5\" width=\"125.0\" height=\"2.5\" opacity=\"0.008398421096833796\" fill=\"currentColor\" stroke-width=\"0.1\"/>\n",
       "<rect x=\"125.0\" y=\"-92.5\" width=\"125.0\" height=\"2.5\" opacity=\"0.0\" fill=\"currentColor\" stroke-width=\"0.1\"/>\n",
       "<rect x=\"0.0\" y=\"-95.0\" width=\"125.0\" height=\"2.5\" opacity=\"0.007205845301083397\" fill=\"currentColor\" stroke-width=\"0.1\"/>\n",
       "<rect x=\"125.0\" y=\"-95.0\" width=\"125.0\" height=\"2.5\" opacity=\"0.0\" fill=\"currentColor\" stroke-width=\"0.1\"/>\n",
       "<rect x=\"0.0\" y=\"-97.5\" width=\"125.0\" height=\"2.5\" opacity=\"0.006785924246241706\" fill=\"currentColor\" stroke-width=\"0.1\"/>\n",
       "<rect x=\"125.0\" y=\"-97.5\" width=\"125.0\" height=\"2.5\" opacity=\"0.0\" fill=\"currentColor\" stroke-width=\"0.1\"/>\n",
       "<rect x=\"0.0\" y=\"-100.0\" width=\"125.0\" height=\"2.5\" opacity=\"0.005811707399008987\" fill=\"currentColor\" stroke-width=\"0.1\"/>\n",
       "<rect x=\"125.0\" y=\"-100.0\" width=\"125.0\" height=\"2.5\" opacity=\"0.0\" fill=\"currentColor\" stroke-width=\"0.1\"/>\n",
       "<rect x=\"0.0\" y=\"-102.5\" width=\"125.0\" height=\"2.5\" opacity=\"0.005123036869068615\" fill=\"currentColor\" stroke-width=\"0.1\"/>\n",
       "<rect x=\"125.0\" y=\"-102.5\" width=\"125.0\" height=\"2.5\" opacity=\"0.0\" fill=\"currentColor\" stroke-width=\"0.1\"/>\n",
       "<rect x=\"0.0\" y=\"-105.0\" width=\"125.0\" height=\"2.5\" opacity=\"0.004837490551776267\" fill=\"currentColor\" stroke-width=\"0.1\"/>\n",
       "<rect x=\"125.0\" y=\"-105.0\" width=\"125.0\" height=\"2.5\" opacity=\"0.0\" fill=\"currentColor\" stroke-width=\"0.1\"/>\n",
       "<rect x=\"0.0\" y=\"-107.5\" width=\"125.0\" height=\"2.5\" opacity=\"0.0040984294952548924\" fill=\"currentColor\" stroke-width=\"0.1\"/>\n",
       "<rect x=\"125.0\" y=\"-107.5\" width=\"125.0\" height=\"2.5\" opacity=\"0.0\" fill=\"currentColor\" stroke-width=\"0.1\"/>\n",
       "<rect x=\"0.0\" y=\"-110.0\" width=\"125.0\" height=\"2.5\" opacity=\"0.0037624926513815404\" fill=\"currentColor\" stroke-width=\"0.1\"/>\n",
       "<rect x=\"125.0\" y=\"-110.0\" width=\"125.0\" height=\"2.5\" opacity=\"0.0\" fill=\"currentColor\" stroke-width=\"0.1\"/>\n",
       "<rect x=\"0.0\" y=\"-112.5\" width=\"125.0\" height=\"2.5\" opacity=\"0.0026874947509868147\" fill=\"currentColor\" stroke-width=\"0.1\"/>\n",
       "<rect x=\"125.0\" y=\"-112.5\" width=\"125.0\" height=\"2.5\" opacity=\"0.0\" fill=\"currentColor\" stroke-width=\"0.1\"/>\n",
       "<rect x=\"0.0\" y=\"-115.0\" width=\"125.0\" height=\"2.5\" opacity=\"0.002872260015117158\" fill=\"currentColor\" stroke-width=\"0.1\"/>\n",
       "<rect x=\"125.0\" y=\"-115.0\" width=\"125.0\" height=\"2.5\" opacity=\"0.0\" fill=\"currentColor\" stroke-width=\"0.1\"/>\n",
       "<rect x=\"0.0\" y=\"-117.5\" width=\"125.0\" height=\"2.5\" opacity=\"0.0025699168556311417\" fill=\"currentColor\" stroke-width=\"0.1\"/>\n",
       "<rect x=\"125.0\" y=\"-117.5\" width=\"125.0\" height=\"2.5\" opacity=\"0.0\" fill=\"currentColor\" stroke-width=\"0.1\"/>\n",
       "<rect x=\"0.0\" y=\"-120.0\" width=\"125.0\" height=\"2.5\" opacity=\"0.002334761064919795\" fill=\"currentColor\" stroke-width=\"0.1\"/>\n",
       "<rect x=\"125.0\" y=\"-120.0\" width=\"125.0\" height=\"2.5\" opacity=\"0.0\" fill=\"currentColor\" stroke-width=\"0.1\"/>\n",
       "<rect x=\"0.0\" y=\"-122.5\" width=\"125.0\" height=\"2.5\" opacity=\"0.0022003863273704545\" fill=\"currentColor\" stroke-width=\"0.1\"/>\n",
       "<rect x=\"125.0\" y=\"-122.5\" width=\"125.0\" height=\"2.5\" opacity=\"0.0\" fill=\"currentColor\" stroke-width=\"0.1\"/>\n",
       "<rect x=\"0.0\" y=\"-125.0\" width=\"125.0\" height=\"2.5\" opacity=\"0.0016964810615604266\" fill=\"currentColor\" stroke-width=\"0.1\"/>\n",
       "<rect x=\"125.0\" y=\"-125.0\" width=\"125.0\" height=\"2.5\" opacity=\"0.0\" fill=\"currentColor\" stroke-width=\"0.1\"/>\n",
       "<rect x=\"0.0\" y=\"-127.5\" width=\"125.0\" height=\"2.5\" opacity=\"0.0019652305366591083\" fill=\"currentColor\" stroke-width=\"0.1\"/>\n",
       "<rect x=\"125.0\" y=\"-127.5\" width=\"125.0\" height=\"2.5\" opacity=\"0.0\" fill=\"currentColor\" stroke-width=\"0.1\"/>\n",
       "<rect x=\"0.0\" y=\"-130.0\" width=\"125.0\" height=\"2.5\" opacity=\"0.0013941379020744101\" fill=\"currentColor\" stroke-width=\"0.1\"/>\n",
       "<rect x=\"125.0\" y=\"-130.0\" width=\"125.0\" height=\"2.5\" opacity=\"0.0\" fill=\"currentColor\" stroke-width=\"0.1\"/>\n",
       "<rect x=\"0.0\" y=\"-132.5\" width=\"125.0\" height=\"2.5\" opacity=\"0.001360544217687075\" fill=\"currentColor\" stroke-width=\"0.1\"/>\n",
       "<rect x=\"125.0\" y=\"-132.5\" width=\"125.0\" height=\"2.5\" opacity=\"0.0\" fill=\"currentColor\" stroke-width=\"0.1\"/>\n",
       "<rect x=\"0.0\" y=\"-135.0\" width=\"125.0\" height=\"2.5\" opacity=\"0.0013269505332997398\" fill=\"currentColor\" stroke-width=\"0.1\"/>\n",
       "<rect x=\"125.0\" y=\"-135.0\" width=\"125.0\" height=\"2.5\" opacity=\"0.0\" fill=\"currentColor\" stroke-width=\"0.1\"/>\n",
       "<rect x=\"0.0\" y=\"-137.5\" width=\"125.0\" height=\"2.5\" opacity=\"0.0011421852691693962\" fill=\"currentColor\" stroke-width=\"0.1\"/>\n",
       "<rect x=\"125.0\" y=\"-137.5\" width=\"125.0\" height=\"2.5\" opacity=\"0.0\" fill=\"currentColor\" stroke-width=\"0.1\"/>\n",
       "<rect x=\"0.0\" y=\"-140.0\" width=\"125.0\" height=\"2.5\" opacity=\"0.0012429663223314017\" fill=\"currentColor\" stroke-width=\"0.1\"/>\n",
       "<rect x=\"125.0\" y=\"-140.0\" width=\"125.0\" height=\"2.5\" opacity=\"0.0\" fill=\"currentColor\" stroke-width=\"0.1\"/>\n",
       "<rect x=\"0.0\" y=\"-142.5\" width=\"125.0\" height=\"2.5\" opacity=\"0.0008062484252960444\" fill=\"currentColor\" stroke-width=\"0.1\"/>\n",
       "<rect x=\"125.0\" y=\"-142.5\" width=\"125.0\" height=\"2.5\" opacity=\"0.0\" fill=\"currentColor\" stroke-width=\"0.1\"/>\n",
       "<rect x=\"0.0\" y=\"-145.0\" width=\"125.0\" height=\"2.5\" opacity=\"0.0005207021080036953\" fill=\"currentColor\" stroke-width=\"0.1\"/>\n",
       "<rect x=\"125.0\" y=\"-145.0\" width=\"125.0\" height=\"2.5\" opacity=\"0.0\" fill=\"currentColor\" stroke-width=\"0.1\"/>\n",
       "<rect x=\"0.0\" y=\"-147.5\" width=\"125.0\" height=\"2.5\" opacity=\"0.0007558578987150416\" fill=\"currentColor\" stroke-width=\"0.1\"/>\n",
       "<rect x=\"125.0\" y=\"-147.5\" width=\"125.0\" height=\"2.5\" opacity=\"0.0\" fill=\"currentColor\" stroke-width=\"0.1\"/>\n",
       "<rect x=\"0.0\" y=\"-150.0\" width=\"125.0\" height=\"2.5\" opacity=\"0.0005710926345846981\" fill=\"currentColor\" stroke-width=\"0.1\"/>\n",
       "<rect x=\"125.0\" y=\"-150.0\" width=\"125.0\" height=\"2.5\" opacity=\"0.0\" fill=\"currentColor\" stroke-width=\"0.1\"/>\n",
       "<rect x=\"0.0\" y=\"-152.5\" width=\"125.0\" height=\"2.5\" opacity=\"0.000739061056521374\" fill=\"currentColor\" stroke-width=\"0.1\"/>\n",
       "<rect x=\"125.0\" y=\"-152.5\" width=\"125.0\" height=\"2.5\" opacity=\"0.0\" fill=\"currentColor\" stroke-width=\"0.1\"/>\n",
       "<rect x=\"0.0\" y=\"-155.0\" width=\"125.0\" height=\"2.5\" opacity=\"0.00045351473922902497\" fill=\"currentColor\" stroke-width=\"0.1\"/>\n",
       "<rect x=\"125.0\" y=\"-155.0\" width=\"125.0\" height=\"2.5\" opacity=\"0.0\" fill=\"currentColor\" stroke-width=\"0.1\"/>\n",
       "<rect x=\"0.0\" y=\"-157.5\" width=\"125.0\" height=\"2.5\" opacity=\"0.0005374989501973629\" fill=\"currentColor\" stroke-width=\"0.1\"/>\n",
       "<rect x=\"125.0\" y=\"-157.5\" width=\"125.0\" height=\"2.5\" opacity=\"0.0\" fill=\"currentColor\" stroke-width=\"0.1\"/>\n",
       "<rect x=\"0.0\" y=\"-160.0\" width=\"125.0\" height=\"2.5\" opacity=\"0.00038632737045435464\" fill=\"currentColor\" stroke-width=\"0.1\"/>\n",
       "<rect x=\"125.0\" y=\"-160.0\" width=\"125.0\" height=\"2.5\" opacity=\"0.0\" fill=\"currentColor\" stroke-width=\"0.1\"/>\n",
       "<rect x=\"0.0\" y=\"-162.5\" width=\"125.0\" height=\"2.5\" opacity=\"0.0005710926345846981\" fill=\"currentColor\" stroke-width=\"0.1\"/>\n",
       "<rect x=\"125.0\" y=\"-162.5\" width=\"125.0\" height=\"2.5\" opacity=\"0.0\" fill=\"currentColor\" stroke-width=\"0.1\"/>\n",
       "<rect x=\"0.0\" y=\"-165.0\" width=\"125.0\" height=\"2.5\" opacity=\"0.00045351473922902497\" fill=\"currentColor\" stroke-width=\"0.1\"/>\n",
       "<rect x=\"125.0\" y=\"-165.0\" width=\"125.0\" height=\"2.5\" opacity=\"0.0\" fill=\"currentColor\" stroke-width=\"0.1\"/>\n",
       "<rect x=\"0.0\" y=\"-167.5\" width=\"125.0\" height=\"2.5\" opacity=\"0.0003023431594860167\" fill=\"currentColor\" stroke-width=\"0.1\"/>\n",
       "<rect x=\"125.0\" y=\"-167.5\" width=\"125.0\" height=\"2.5\" opacity=\"0.0\" fill=\"currentColor\" stroke-width=\"0.1\"/>\n",
       "<rect x=\"0.0\" y=\"-170.0\" width=\"125.0\" height=\"2.5\" opacity=\"0.00028554631729234904\" fill=\"currentColor\" stroke-width=\"0.1\"/>\n",
       "<rect x=\"125.0\" y=\"-170.0\" width=\"125.0\" height=\"2.5\" opacity=\"0.0\" fill=\"currentColor\" stroke-width=\"0.1\"/>\n",
       "<rect x=\"0.0\" y=\"-172.5\" width=\"125.0\" height=\"2.5\" opacity=\"0.0003023431594860167\" fill=\"currentColor\" stroke-width=\"0.1\"/>\n",
       "<rect x=\"125.0\" y=\"-172.5\" width=\"125.0\" height=\"2.5\" opacity=\"0.0\" fill=\"currentColor\" stroke-width=\"0.1\"/>\n",
       "<rect x=\"0.0\" y=\"-175.0\" width=\"125.0\" height=\"2.5\" opacity=\"0.0003023431594860167\" fill=\"currentColor\" stroke-width=\"0.1\"/>\n",
       "<rect x=\"125.0\" y=\"-175.0\" width=\"125.0\" height=\"2.5\" opacity=\"0.0\" fill=\"currentColor\" stroke-width=\"0.1\"/>\n",
       "<rect x=\"0.0\" y=\"-177.5\" width=\"125.0\" height=\"2.5\" opacity=\"0.00031914000167968426\" fill=\"currentColor\" stroke-width=\"0.1\"/>\n",
       "<rect x=\"125.0\" y=\"-177.5\" width=\"125.0\" height=\"2.5\" opacity=\"0.0\" fill=\"currentColor\" stroke-width=\"0.1\"/>\n",
       "<rect x=\"0.0\" y=\"-180.0\" width=\"125.0\" height=\"2.5\" opacity=\"0.0002015621063240111\" fill=\"currentColor\" stroke-width=\"0.1\"/>\n",
       "<rect x=\"125.0\" y=\"-180.0\" width=\"125.0\" height=\"2.5\" opacity=\"0.0\" fill=\"currentColor\" stroke-width=\"0.1\"/>\n",
       "<rect x=\"0.0\" y=\"-182.5\" width=\"125.0\" height=\"2.5\" opacity=\"0.0001847652641303435\" fill=\"currentColor\" stroke-width=\"0.1\"/>\n",
       "<rect x=\"125.0\" y=\"-182.5\" width=\"125.0\" height=\"2.5\" opacity=\"0.0\" fill=\"currentColor\" stroke-width=\"0.1\"/>\n",
       "<rect x=\"0.0\" y=\"-185.0\" width=\"125.0\" height=\"2.5\" opacity=\"0.0002015621063240111\" fill=\"currentColor\" stroke-width=\"0.1\"/>\n",
       "<rect x=\"125.0\" y=\"-185.0\" width=\"125.0\" height=\"2.5\" opacity=\"0.0\" fill=\"currentColor\" stroke-width=\"0.1\"/>\n",
       "<rect x=\"0.0\" y=\"-187.5\" width=\"125.0\" height=\"2.5\" opacity=\"0.0001847652641303435\" fill=\"currentColor\" stroke-width=\"0.1\"/>\n",
       "<rect x=\"125.0\" y=\"-187.5\" width=\"125.0\" height=\"2.5\" opacity=\"0.0\" fill=\"currentColor\" stroke-width=\"0.1\"/>\n",
       "<rect x=\"0.0\" y=\"-190.0\" width=\"125.0\" height=\"2.5\" opacity=\"0.0002519526329050139\" fill=\"currentColor\" stroke-width=\"0.1\"/>\n",
       "<rect x=\"125.0\" y=\"-190.0\" width=\"125.0\" height=\"2.5\" opacity=\"0.0\" fill=\"currentColor\" stroke-width=\"0.1\"/>\n",
       "<rect x=\"0.0\" y=\"-192.5\" width=\"125.0\" height=\"2.5\" opacity=\"0.00016796842193667592\" fill=\"currentColor\" stroke-width=\"0.1\"/>\n",
       "<rect x=\"125.0\" y=\"-192.5\" width=\"125.0\" height=\"2.5\" opacity=\"0.0\" fill=\"currentColor\" stroke-width=\"0.1\"/>\n",
       "<rect x=\"0.0\" y=\"-195.0\" width=\"125.0\" height=\"2.5\" opacity=\"0.00010078105316200556\" fill=\"currentColor\" stroke-width=\"0.1\"/>\n",
       "<rect x=\"125.0\" y=\"-195.0\" width=\"125.0\" height=\"2.5\" opacity=\"0.0\" fill=\"currentColor\" stroke-width=\"0.1\"/>\n",
       "<rect x=\"0.0\" y=\"-197.5\" width=\"125.0\" height=\"2.5\" opacity=\"0.00011757789535567314\" fill=\"currentColor\" stroke-width=\"0.1\"/>\n",
       "<rect x=\"125.0\" y=\"-197.5\" width=\"125.0\" height=\"2.5\" opacity=\"0.0\" fill=\"currentColor\" stroke-width=\"0.1\"/>\n",
       "<rect x=\"0.0\" y=\"-200.0\" width=\"125.0\" height=\"2.5\" opacity=\"8.398421096833796e-05\" fill=\"currentColor\" stroke-width=\"0.1\"/>\n",
       "<rect x=\"125.0\" y=\"-200.0\" width=\"125.0\" height=\"2.5\" opacity=\"0.0\" fill=\"currentColor\" stroke-width=\"0.1\"/>\n",
       "<rect x=\"0.0\" y=\"-202.5\" width=\"125.0\" height=\"2.5\" opacity=\"0.0001847652641303435\" fill=\"currentColor\" stroke-width=\"0.1\"/>\n",
       "<rect x=\"125.0\" y=\"-202.5\" width=\"125.0\" height=\"2.5\" opacity=\"0.0\" fill=\"currentColor\" stroke-width=\"0.1\"/>\n",
       "<rect x=\"0.0\" y=\"-205.0\" width=\"125.0\" height=\"2.5\" opacity=\"8.398421096833796e-05\" fill=\"currentColor\" stroke-width=\"0.1\"/>\n",
       "<rect x=\"125.0\" y=\"-205.0\" width=\"125.0\" height=\"2.5\" opacity=\"0.0\" fill=\"currentColor\" stroke-width=\"0.1\"/>\n",
       "<rect x=\"0.0\" y=\"-207.5\" width=\"125.0\" height=\"2.5\" opacity=\"0.00011757789535567314\" fill=\"currentColor\" stroke-width=\"0.1\"/>\n",
       "<rect x=\"125.0\" y=\"-207.5\" width=\"125.0\" height=\"2.5\" opacity=\"0.0\" fill=\"currentColor\" stroke-width=\"0.1\"/>\n",
       "<rect x=\"0.0\" y=\"-210.0\" width=\"125.0\" height=\"2.5\" opacity=\"0.00013437473754934073\" fill=\"currentColor\" stroke-width=\"0.1\"/>\n",
       "<rect x=\"125.0\" y=\"-210.0\" width=\"125.0\" height=\"2.5\" opacity=\"0.0\" fill=\"currentColor\" stroke-width=\"0.1\"/>\n",
       "<rect x=\"0.0\" y=\"-212.5\" width=\"125.0\" height=\"2.5\" opacity=\"0.00015117157974300834\" fill=\"currentColor\" stroke-width=\"0.1\"/>\n",
       "<rect x=\"125.0\" y=\"-212.5\" width=\"125.0\" height=\"2.5\" opacity=\"0.0\" fill=\"currentColor\" stroke-width=\"0.1\"/>\n",
       "<rect x=\"0.0\" y=\"-215.0\" width=\"125.0\" height=\"2.5\" opacity=\"0.0002015621063240111\" fill=\"currentColor\" stroke-width=\"0.1\"/>\n",
       "<rect x=\"125.0\" y=\"-215.0\" width=\"125.0\" height=\"2.5\" opacity=\"0.0\" fill=\"currentColor\" stroke-width=\"0.1\"/>\n",
       "<rect x=\"0.0\" y=\"-217.5\" width=\"125.0\" height=\"2.5\" opacity=\"0.00011757789535567314\" fill=\"currentColor\" stroke-width=\"0.1\"/>\n",
       "<rect x=\"125.0\" y=\"-217.5\" width=\"125.0\" height=\"2.5\" opacity=\"0.0\" fill=\"currentColor\" stroke-width=\"0.1\"/>\n",
       "<rect x=\"0.0\" y=\"-220.0\" width=\"125.0\" height=\"2.5\" opacity=\"5.039052658100278e-05\" fill=\"currentColor\" stroke-width=\"0.1\"/>\n",
       "<rect x=\"125.0\" y=\"-220.0\" width=\"125.0\" height=\"2.5\" opacity=\"0.0\" fill=\"currentColor\" stroke-width=\"0.1\"/>\n",
       "<rect x=\"0.0\" y=\"-222.5\" width=\"125.0\" height=\"2.5\" opacity=\"0.00013437473754934073\" fill=\"currentColor\" stroke-width=\"0.1\"/>\n",
       "<rect x=\"125.0\" y=\"-222.5\" width=\"125.0\" height=\"2.5\" opacity=\"0.0\" fill=\"currentColor\" stroke-width=\"0.1\"/>\n",
       "<rect x=\"0.0\" y=\"-225.0\" width=\"125.0\" height=\"2.5\" opacity=\"6.718736877467037e-05\" fill=\"currentColor\" stroke-width=\"0.1\"/>\n",
       "<rect x=\"125.0\" y=\"-225.0\" width=\"125.0\" height=\"2.5\" opacity=\"0.0\" fill=\"currentColor\" stroke-width=\"0.1\"/>\n",
       "<rect x=\"0.0\" y=\"-227.5\" width=\"125.0\" height=\"2.5\" opacity=\"3.359368438733518e-05\" fill=\"currentColor\" stroke-width=\"0.1\"/>\n",
       "<rect x=\"125.0\" y=\"-227.5\" width=\"125.0\" height=\"2.5\" opacity=\"0.0\" fill=\"currentColor\" stroke-width=\"0.1\"/>\n",
       "<rect x=\"0.0\" y=\"-230.0\" width=\"125.0\" height=\"2.5\" opacity=\"0.0001847652641303435\" fill=\"currentColor\" stroke-width=\"0.1\"/>\n",
       "<rect x=\"125.0\" y=\"-230.0\" width=\"125.0\" height=\"2.5\" opacity=\"0.0\" fill=\"currentColor\" stroke-width=\"0.1\"/>\n",
       "<rect x=\"0.0\" y=\"-232.5\" width=\"125.0\" height=\"2.5\" opacity=\"0.0\" fill=\"currentColor\" stroke-width=\"0.1\"/>\n",
       "<rect x=\"125.0\" y=\"-232.5\" width=\"125.0\" height=\"2.5\" opacity=\"0.0\" fill=\"currentColor\" stroke-width=\"0.1\"/>\n",
       "<rect x=\"0.0\" y=\"-235.0\" width=\"125.0\" height=\"2.5\" opacity=\"6.718736877467037e-05\" fill=\"currentColor\" stroke-width=\"0.1\"/>\n",
       "<rect x=\"125.0\" y=\"-235.0\" width=\"125.0\" height=\"2.5\" opacity=\"0.0\" fill=\"currentColor\" stroke-width=\"0.1\"/>\n",
       "<rect x=\"0.0\" y=\"-237.5\" width=\"125.0\" height=\"2.5\" opacity=\"1.679684219366759e-05\" fill=\"currentColor\" stroke-width=\"0.1\"/>\n",
       "<rect x=\"125.0\" y=\"-237.5\" width=\"125.0\" height=\"2.5\" opacity=\"0.0\" fill=\"currentColor\" stroke-width=\"0.1\"/>\n",
       "<rect x=\"0.0\" y=\"-240.0\" width=\"125.0\" height=\"2.5\" opacity=\"6.718736877467037e-05\" fill=\"currentColor\" stroke-width=\"0.1\"/>\n",
       "<rect x=\"125.0\" y=\"-240.0\" width=\"125.0\" height=\"2.5\" opacity=\"0.0\" fill=\"currentColor\" stroke-width=\"0.1\"/>\n",
       "<rect x=\"0.0\" y=\"-242.5\" width=\"125.0\" height=\"2.5\" opacity=\"0.0\" fill=\"currentColor\" stroke-width=\"0.1\"/>\n",
       "<rect x=\"125.0\" y=\"-242.5\" width=\"125.0\" height=\"2.5\" opacity=\"0.0\" fill=\"currentColor\" stroke-width=\"0.1\"/>\n",
       "<rect x=\"0.0\" y=\"-245.0\" width=\"125.0\" height=\"2.5\" opacity=\"0.0\" fill=\"currentColor\" stroke-width=\"0.1\"/>\n",
       "<rect x=\"125.0\" y=\"-245.0\" width=\"125.0\" height=\"2.5\" opacity=\"0.0\" fill=\"currentColor\" stroke-width=\"0.1\"/>\n",
       "<rect x=\"0.0\" y=\"-247.5\" width=\"125.0\" height=\"2.5\" opacity=\"3.359368438733518e-05\" fill=\"currentColor\" stroke-width=\"0.1\"/>\n",
       "<rect x=\"125.0\" y=\"-247.5\" width=\"125.0\" height=\"2.5\" opacity=\"0.0\" fill=\"currentColor\" stroke-width=\"0.1\"/>\n",
       "<rect x=\"0.0\" y=\"-250.0\" width=\"125.0\" height=\"2.5\" opacity=\"5.039052658100278e-05\" fill=\"currentColor\" stroke-width=\"0.1\"/>\n",
       "<rect x=\"125.0\" y=\"-250.0\" width=\"125.0\" height=\"2.5\" opacity=\"0.0\" fill=\"currentColor\" stroke-width=\"0.1\"/>\n",
       "</svg>\n",
       "</div>\n",
       "<div style=\"flex=grow:1;\">\n",
       "StrCategory(['raw', 'scaled'], name='type')<br/>\n",
       "Regular(100, 0, 500, name='pt', label='$p_T$')<br/>\n",
       "<hr style=\"margin-top:.2em; margin-bottom:.2em;\"/>\n",
       "Double() Σ=361739.0 <em>(361768.0 with flow)</em>\n",
       "\n",
       "</div>\n",
       "</div>\n",
       "</html>"
      ],
      "text/plain": [
       "Hist(\n",
       "  StrCategory(['raw', 'scaled'], name='type'),\n",
       "  Regular(100, 0, 500, name='pt', label='$p_T$'),\n",
       "  storage=Double()) # Sum: 361739.0 (361768.0 with flow)"
      ]
     },
     "execution_count": 24,
     "metadata": {},
     "output_type": "execute_result"
    }
   ],
   "source": [
    "elepthist.fill(type='raw' , pt=ak.flatten(single_e.pt))"
   ]
  },
  {
   "cell_type": "code",
   "execution_count": 25,
   "id": "8d20c996-2a24-47b5-8d1d-03b2a1a10ba7",
   "metadata": {},
   "outputs": [
    {
     "data": {
      "text/html": [
       "<html>\n",
       "<div style=\"display:flex; align-items:center;\">\n",
       "<div style=\"width:290px;\">\n",
       "<svg xmlns=\"http://www.w3.org/2000/svg\" viewBox=\"-20 -270 290 290\">\n",
       "<text text-anchor=\"middle\" x=\"0\" y=\"13\" style=\"fill:currentColor;\">\n",
       "0\n",
       "</text>\n",
       "<text text-anchor=\"middle\" x=\"250\" y=\"13\" style=\"fill:currentColor;\">\n",
       "2\n",
       "</text>\n",
       "<text text-anchor=\"middle\" x=\"-10\" y=\"0\" style=\"fill:currentColor;\">\n",
       "0\n",
       "</text>\n",
       "<text text-anchor=\"middle\" x=\"-10\" y=\"-250\" style=\"fill:currentColor;\">\n",
       "500\n",
       "</text>\n",
       "<text text-anchor=\"middle\" x=\"125.0\" y=\"13\" style=\"fill:currentColor;\">\n",
       "type\n",
       "</text>\n",
       "<text text-anchor=\"middle\" x=\"-10\" y=\"-125.0\" transform=\"rotate(-90,-10,-125.0)\" style=\"fill:currentColor;\">\n",
       "$p_T$\n",
       "</text>\n",
       "<rect x=\"0.0\" y=\"-2.5\" width=\"125.0\" height=\"2.5\" opacity=\"0.005156630553455949\" fill=\"currentColor\" stroke-width=\"0.1\"/>\n",
       "<rect x=\"125.0\" y=\"-2.5\" width=\"125.0\" height=\"2.5\" opacity=\"0.5967246157722348\" fill=\"currentColor\" stroke-width=\"0.1\"/>\n",
       "<rect x=\"0.0\" y=\"-5.0\" width=\"125.0\" height=\"2.5\" opacity=\"1.0\" fill=\"currentColor\" stroke-width=\"0.1\"/>\n",
       "<rect x=\"125.0\" y=\"-5.0\" width=\"125.0\" height=\"2.5\" opacity=\"0.9614848408499201\" fill=\"currentColor\" stroke-width=\"0.1\"/>\n",
       "<rect x=\"0.0\" y=\"-7.5\" width=\"125.0\" height=\"2.5\" opacity=\"0.5537918871252203\" fill=\"currentColor\" stroke-width=\"0.1\"/>\n",
       "<rect x=\"125.0\" y=\"-7.5\" width=\"125.0\" height=\"2.5\" opacity=\"0.44755186025027294\" fill=\"currentColor\" stroke-width=\"0.1\"/>\n",
       "<rect x=\"0.0\" y=\"-10.0\" width=\"125.0\" height=\"2.5\" opacity=\"0.33314856806920295\" fill=\"currentColor\" stroke-width=\"0.1\"/>\n",
       "<rect x=\"125.0\" y=\"-10.0\" width=\"125.0\" height=\"2.5\" opacity=\"0.2892584194171496\" fill=\"currentColor\" stroke-width=\"0.1\"/>\n",
       "<rect x=\"0.0\" y=\"-12.5\" width=\"125.0\" height=\"2.5\" opacity=\"0.2236667506508776\" fill=\"currentColor\" stroke-width=\"0.1\"/>\n",
       "<rect x=\"125.0\" y=\"-12.5\" width=\"125.0\" height=\"2.5\" opacity=\"0.33724699756445786\" fill=\"currentColor\" stroke-width=\"0.1\"/>\n",
       "<rect x=\"0.0\" y=\"-15.0\" width=\"125.0\" height=\"2.5\" opacity=\"0.1519610313261107\" fill=\"currentColor\" stroke-width=\"0.1\"/>\n",
       "<rect x=\"125.0\" y=\"-15.0\" width=\"125.0\" height=\"2.5\" opacity=\"0.2884521709918535\" fill=\"currentColor\" stroke-width=\"0.1\"/>\n",
       "<rect x=\"0.0\" y=\"-17.5\" width=\"125.0\" height=\"2.5\" opacity=\"0.22877299067775256\" fill=\"currentColor\" stroke-width=\"0.1\"/>\n",
       "<rect x=\"125.0\" y=\"-17.5\" width=\"125.0\" height=\"2.5\" opacity=\"0.015621063240110858\" fill=\"currentColor\" stroke-width=\"0.1\"/>\n",
       "<rect x=\"0.0\" y=\"-20.0\" width=\"125.0\" height=\"2.5\" opacity=\"0.42422104644326863\" fill=\"currentColor\" stroke-width=\"0.1\"/>\n",
       "<rect x=\"125.0\" y=\"-20.0\" width=\"125.0\" height=\"2.5\" opacity=\"0.30330057949105566\" fill=\"currentColor\" stroke-width=\"0.1\"/>\n",
       "<rect x=\"0.0\" y=\"-22.5\" width=\"125.0\" height=\"2.5\" opacity=\"0.3861761988746115\" fill=\"currentColor\" stroke-width=\"0.1\"/>\n",
       "<rect x=\"125.0\" y=\"-22.5\" width=\"125.0\" height=\"2.5\" opacity=\"0.3621735113798606\" fill=\"currentColor\" stroke-width=\"0.1\"/>\n",
       "<rect x=\"0.0\" y=\"-25.0\" width=\"125.0\" height=\"2.5\" opacity=\"0.3375829344083312\" fill=\"currentColor\" stroke-width=\"0.1\"/>\n",
       "<rect x=\"125.0\" y=\"-25.0\" width=\"125.0\" height=\"2.5\" opacity=\"0.23964054757705547\" fill=\"currentColor\" stroke-width=\"0.1\"/>\n",
       "<rect x=\"0.0\" y=\"-27.5\" width=\"125.0\" height=\"2.5\" opacity=\"0.3051650289745528\" fill=\"currentColor\" stroke-width=\"0.1\"/>\n",
       "<rect x=\"125.0\" y=\"-27.5\" width=\"125.0\" height=\"2.5\" opacity=\"0.3011337868480725\" fill=\"currentColor\" stroke-width=\"0.1\"/>\n",
       "<rect x=\"0.0\" y=\"-30.0\" width=\"125.0\" height=\"2.5\" opacity=\"0.2781893004115226\" fill=\"currentColor\" stroke-width=\"0.1\"/>\n",
       "<rect x=\"125.0\" y=\"-30.0\" width=\"125.0\" height=\"2.5\" opacity=\"0.24090031074158055\" fill=\"currentColor\" stroke-width=\"0.1\"/>\n",
       "<rect x=\"0.0\" y=\"-32.5\" width=\"125.0\" height=\"2.5\" opacity=\"0.24063156126648189\" fill=\"currentColor\" stroke-width=\"0.1\"/>\n",
       "<rect x=\"125.0\" y=\"-32.5\" width=\"125.0\" height=\"2.5\" opacity=\"0.22648862013941376\" fill=\"currentColor\" stroke-width=\"0.1\"/>\n",
       "<rect x=\"0.0\" y=\"-35.0\" width=\"125.0\" height=\"2.5\" opacity=\"0.21209372637944066\" fill=\"currentColor\" stroke-width=\"0.1\"/>\n",
       "<rect x=\"125.0\" y=\"-35.0\" width=\"125.0\" height=\"2.5\" opacity=\"0.2015453094818174\" fill=\"currentColor\" stroke-width=\"0.1\"/>\n",
       "<rect x=\"0.0\" y=\"-37.5\" width=\"125.0\" height=\"2.5\" opacity=\"0.18471487360376249\" fill=\"currentColor\" stroke-width=\"0.1\"/>\n",
       "<rect x=\"125.0\" y=\"-37.5\" width=\"125.0\" height=\"2.5\" opacity=\"0.17551020408163265\" fill=\"currentColor\" stroke-width=\"0.1\"/>\n",
       "<rect x=\"0.0\" y=\"-40.0\" width=\"125.0\" height=\"2.5\" opacity=\"0.16343327454438566\" fill=\"currentColor\" stroke-width=\"0.1\"/>\n",
       "<rect x=\"125.0\" y=\"-40.0\" width=\"125.0\" height=\"2.5\" opacity=\"0.1348954396573444\" fill=\"currentColor\" stroke-width=\"0.1\"/>\n",
       "<rect x=\"0.0\" y=\"-42.5\" width=\"125.0\" height=\"2.5\" opacity=\"0.13959855547157132\" fill=\"currentColor\" stroke-width=\"0.1\"/>\n",
       "<rect x=\"125.0\" y=\"-42.5\" width=\"125.0\" height=\"2.5\" opacity=\"0.1307130259511212\" fill=\"currentColor\" stroke-width=\"0.1\"/>\n",
       "<rect x=\"0.0\" y=\"-45.0\" width=\"125.0\" height=\"2.5\" opacity=\"0.12162593432434701\" fill=\"currentColor\" stroke-width=\"0.1\"/>\n",
       "<rect x=\"125.0\" y=\"-45.0\" width=\"125.0\" height=\"2.5\" opacity=\"0.1177962543041908\" fill=\"currentColor\" stroke-width=\"0.1\"/>\n",
       "<rect x=\"0.0\" y=\"-47.5\" width=\"125.0\" height=\"2.5\" opacity=\"0.10227597211724195\" fill=\"currentColor\" stroke-width=\"0.1\"/>\n",
       "<rect x=\"125.0\" y=\"-47.5\" width=\"125.0\" height=\"2.5\" opacity=\"0.09663223314016965\" fill=\"currentColor\" stroke-width=\"0.1\"/>\n",
       "<rect x=\"0.0\" y=\"-50.0\" width=\"125.0\" height=\"2.5\" opacity=\"0.09001427731586462\" fill=\"currentColor\" stroke-width=\"0.1\"/>\n",
       "<rect x=\"125.0\" y=\"-50.0\" width=\"125.0\" height=\"2.5\" opacity=\"0.07501469723691946\" fill=\"currentColor\" stroke-width=\"0.1\"/>\n",
       "<rect x=\"0.0\" y=\"-52.5\" width=\"125.0\" height=\"2.5\" opacity=\"0.07738305198622658\" fill=\"currentColor\" stroke-width=\"0.1\"/>\n",
       "<rect x=\"125.0\" y=\"-52.5\" width=\"125.0\" height=\"2.5\" opacity=\"0.07108423616360124\" fill=\"currentColor\" stroke-width=\"0.1\"/>\n",
       "<rect x=\"0.0\" y=\"-55.0\" width=\"125.0\" height=\"2.5\" opacity=\"0.06641471403376165\" fill=\"currentColor\" stroke-width=\"0.1\"/>\n",
       "<rect x=\"125.0\" y=\"-55.0\" width=\"125.0\" height=\"2.5\" opacity=\"0.06295456454186613\" fill=\"currentColor\" stroke-width=\"0.1\"/>\n",
       "<rect x=\"0.0\" y=\"-57.5\" width=\"125.0\" height=\"2.5\" opacity=\"0.06013269505332997\" fill=\"currentColor\" stroke-width=\"0.1\"/>\n",
       "<rect x=\"125.0\" y=\"-57.5\" width=\"125.0\" height=\"2.5\" opacity=\"0.05294364659444024\" fill=\"currentColor\" stroke-width=\"0.1\"/>\n",
       "<rect x=\"0.0\" y=\"-60.0\" width=\"125.0\" height=\"2.5\" opacity=\"0.04840849920214999\" fill=\"currentColor\" stroke-width=\"0.1\"/>\n",
       "<rect x=\"125.0\" y=\"-60.0\" width=\"125.0\" height=\"2.5\" opacity=\"0.0448811623414798\" fill=\"currentColor\" stroke-width=\"0.1\"/>\n",
       "<rect x=\"0.0\" y=\"-62.5\" width=\"125.0\" height=\"2.5\" opacity=\"0.042613588645334675\" fill=\"currentColor\" stroke-width=\"0.1\"/>\n",
       "<rect x=\"125.0\" y=\"-62.5\" width=\"125.0\" height=\"2.5\" opacity=\"0.039203829680020154\" fill=\"currentColor\" stroke-width=\"0.1\"/>\n",
       "<rect x=\"0.0\" y=\"-65.0\" width=\"125.0\" height=\"2.5\" opacity=\"0.03811203493743176\" fill=\"currentColor\" stroke-width=\"0.1\"/>\n",
       "<rect x=\"125.0\" y=\"-65.0\" width=\"125.0\" height=\"2.5\" opacity=\"0.0321323591164861\" fill=\"currentColor\" stroke-width=\"0.1\"/>\n",
       "<rect x=\"0.0\" y=\"-67.5\" width=\"125.0\" height=\"2.5\" opacity=\"0.030553455950281343\" fill=\"currentColor\" stroke-width=\"0.1\"/>\n",
       "<rect x=\"125.0\" y=\"-67.5\" width=\"125.0\" height=\"2.5\" opacity=\"0.027916351725875536\" fill=\"currentColor\" stroke-width=\"0.1\"/>\n",
       "<rect x=\"0.0\" y=\"-70.0\" width=\"125.0\" height=\"2.5\" opacity=\"0.026774166456706137\" fill=\"currentColor\" stroke-width=\"0.1\"/>\n",
       "<rect x=\"125.0\" y=\"-70.0\" width=\"125.0\" height=\"2.5\" opacity=\"0.024288233812043335\" fill=\"currentColor\" stroke-width=\"0.1\"/>\n",
       "<rect x=\"0.0\" y=\"-72.5\" width=\"125.0\" height=\"2.5\" opacity=\"0.023767531704039637\" fill=\"currentColor\" stroke-width=\"0.1\"/>\n",
       "<rect x=\"125.0\" y=\"-72.5\" width=\"125.0\" height=\"2.5\" opacity=\"0.02027378852775678\" fill=\"currentColor\" stroke-width=\"0.1\"/>\n",
       "<rect x=\"0.0\" y=\"-75.0\" width=\"125.0\" height=\"2.5\" opacity=\"0.020676912740404802\" fill=\"currentColor\" stroke-width=\"0.1\"/>\n",
       "<rect x=\"125.0\" y=\"-75.0\" width=\"125.0\" height=\"2.5\" opacity=\"0.017250356932896612\" fill=\"currentColor\" stroke-width=\"0.1\"/>\n",
       "<rect x=\"0.0\" y=\"-77.5\" width=\"125.0\" height=\"2.5\" opacity=\"0.018426135886453344\" fill=\"currentColor\" stroke-width=\"0.1\"/>\n",
       "<rect x=\"125.0\" y=\"-77.5\" width=\"125.0\" height=\"2.5\" opacity=\"0.016343327454438564\" fill=\"currentColor\" stroke-width=\"0.1\"/>\n",
       "<rect x=\"0.0\" y=\"-80.0\" width=\"125.0\" height=\"2.5\" opacity=\"0.016108171663727217\" fill=\"currentColor\" stroke-width=\"0.1\"/>\n",
       "<rect x=\"125.0\" y=\"-80.0\" width=\"125.0\" height=\"2.5\" opacity=\"0.013907785336356764\" fill=\"currentColor\" stroke-width=\"0.1\"/>\n",
       "<rect x=\"0.0\" y=\"-82.5\" width=\"125.0\" height=\"2.5\" opacity=\"0.013605442176870748\" fill=\"currentColor\" stroke-width=\"0.1\"/>\n",
       "<rect x=\"125.0\" y=\"-82.5\" width=\"125.0\" height=\"2.5\" opacity=\"0.01261442848744436\" fill=\"currentColor\" stroke-width=\"0.1\"/>\n",
       "<rect x=\"0.0\" y=\"-85.0\" width=\"125.0\" height=\"2.5\" opacity=\"0.011959351641891323\" fill=\"currentColor\" stroke-width=\"0.1\"/>\n",
       "<rect x=\"125.0\" y=\"-85.0\" width=\"125.0\" height=\"2.5\" opacity=\"0.010632401108591583\" fill=\"currentColor\" stroke-width=\"0.1\"/>\n",
       "<rect x=\"0.0\" y=\"-87.5\" width=\"125.0\" height=\"2.5\" opacity=\"0.010296464264718233\" fill=\"currentColor\" stroke-width=\"0.1\"/>\n",
       "<rect x=\"125.0\" y=\"-87.5\" width=\"125.0\" height=\"2.5\" opacity=\"0.009305450575291845\" fill=\"currentColor\" stroke-width=\"0.1\"/>\n",
       "<rect x=\"0.0\" y=\"-90.0\" width=\"125.0\" height=\"2.5\" opacity=\"0.009305450575291845\" fill=\"currentColor\" stroke-width=\"0.1\"/>\n",
       "<rect x=\"125.0\" y=\"-90.0\" width=\"125.0\" height=\"2.5\" opacity=\"0.008868732678256486\" fill=\"currentColor\" stroke-width=\"0.1\"/>\n",
       "<rect x=\"0.0\" y=\"-92.5\" width=\"125.0\" height=\"2.5\" opacity=\"0.008398421096833794\" fill=\"currentColor\" stroke-width=\"0.1\"/>\n",
       "<rect x=\"125.0\" y=\"-92.5\" width=\"125.0\" height=\"2.5\" opacity=\"0.007273032669858066\" fill=\"currentColor\" stroke-width=\"0.1\"/>\n",
       "<rect x=\"0.0\" y=\"-95.0\" width=\"125.0\" height=\"2.5\" opacity=\"0.007205845301083396\" fill=\"currentColor\" stroke-width=\"0.1\"/>\n",
       "<rect x=\"125.0\" y=\"-95.0\" width=\"125.0\" height=\"2.5\" opacity=\"0.006466784244562021\" fill=\"currentColor\" stroke-width=\"0.1\"/>\n",
       "<rect x=\"0.0\" y=\"-97.5\" width=\"125.0\" height=\"2.5\" opacity=\"0.0067859242462417054\" fill=\"currentColor\" stroke-width=\"0.1\"/>\n",
       "<rect x=\"125.0\" y=\"-97.5\" width=\"125.0\" height=\"2.5\" opacity=\"0.004467960023515578\" fill=\"currentColor\" stroke-width=\"0.1\"/>\n",
       "<rect x=\"0.0\" y=\"-100.0\" width=\"125.0\" height=\"2.5\" opacity=\"0.005811707399008986\" fill=\"currentColor\" stroke-width=\"0.1\"/>\n",
       "<rect x=\"125.0\" y=\"-100.0\" width=\"125.0\" height=\"2.5\" opacity=\"0.004887881078357269\" fill=\"currentColor\" stroke-width=\"0.1\"/>\n",
       "<rect x=\"0.0\" y=\"-102.5\" width=\"125.0\" height=\"2.5\" opacity=\"0.005123036869068615\" fill=\"currentColor\" stroke-width=\"0.1\"/>\n",
       "<rect x=\"125.0\" y=\"-102.5\" width=\"125.0\" height=\"2.5\" opacity=\"0.0048206937095825984\" fill=\"currentColor\" stroke-width=\"0.1\"/>\n",
       "<rect x=\"0.0\" y=\"-105.0\" width=\"125.0\" height=\"2.5\" opacity=\"0.004837490551776265\" fill=\"currentColor\" stroke-width=\"0.1\"/>\n",
       "<rect x=\"125.0\" y=\"-105.0\" width=\"125.0\" height=\"2.5\" opacity=\"0.004551944234483916\" fill=\"currentColor\" stroke-width=\"0.1\"/>\n",
       "<rect x=\"0.0\" y=\"-107.5\" width=\"125.0\" height=\"2.5\" opacity=\"0.004098429495254892\" fill=\"currentColor\" stroke-width=\"0.1\"/>\n",
       "<rect x=\"125.0\" y=\"-107.5\" width=\"125.0\" height=\"2.5\" opacity=\"0.003527336860670194\" fill=\"currentColor\" stroke-width=\"0.1\"/>\n",
       "<rect x=\"0.0\" y=\"-110.0\" width=\"125.0\" height=\"2.5\" opacity=\"0.0037624926513815404\" fill=\"currentColor\" stroke-width=\"0.1\"/>\n",
       "<rect x=\"125.0\" y=\"-110.0\" width=\"125.0\" height=\"2.5\" opacity=\"0.0030906189636348363\" fill=\"currentColor\" stroke-width=\"0.1\"/>\n",
       "<rect x=\"0.0\" y=\"-112.5\" width=\"125.0\" height=\"2.5\" opacity=\"0.0026874947509868143\" fill=\"currentColor\" stroke-width=\"0.1\"/>\n",
       "<rect x=\"125.0\" y=\"-112.5\" width=\"125.0\" height=\"2.5\" opacity=\"0.0028050726463424874\" fill=\"currentColor\" stroke-width=\"0.1\"/>\n",
       "<rect x=\"0.0\" y=\"-115.0\" width=\"125.0\" height=\"2.5\" opacity=\"0.0028722600151171577\" fill=\"currentColor\" stroke-width=\"0.1\"/>\n",
       "<rect x=\"125.0\" y=\"-115.0\" width=\"125.0\" height=\"2.5\" opacity=\"0.0025363231712438056\" fill=\"currentColor\" stroke-width=\"0.1\"/>\n",
       "<rect x=\"0.0\" y=\"-117.5\" width=\"125.0\" height=\"2.5\" opacity=\"0.0025699168556311412\" fill=\"currentColor\" stroke-width=\"0.1\"/>\n",
       "<rect x=\"125.0\" y=\"-117.5\" width=\"125.0\" height=\"2.5\" opacity=\"0.002905853699504493\" fill=\"currentColor\" stroke-width=\"0.1\"/>\n",
       "<rect x=\"0.0\" y=\"-120.0\" width=\"125.0\" height=\"2.5\" opacity=\"0.0023347610649197947\" fill=\"currentColor\" stroke-width=\"0.1\"/>\n",
       "<rect x=\"125.0\" y=\"-120.0\" width=\"125.0\" height=\"2.5\" opacity=\"0.002973041068279163\" fill=\"currentColor\" stroke-width=\"0.1\"/>\n",
       "<rect x=\"0.0\" y=\"-122.5\" width=\"125.0\" height=\"2.5\" opacity=\"0.002200386327370454\" fill=\"currentColor\" stroke-width=\"0.1\"/>\n",
       "<rect x=\"125.0\" y=\"-122.5\" width=\"125.0\" height=\"2.5\" opacity=\"0.002385151591500798\" fill=\"currentColor\" stroke-width=\"0.1\"/>\n",
       "<rect x=\"0.0\" y=\"-125.0\" width=\"125.0\" height=\"2.5\" opacity=\"0.0016964810615604264\" fill=\"currentColor\" stroke-width=\"0.1\"/>\n",
       "<rect x=\"125.0\" y=\"-125.0\" width=\"125.0\" height=\"2.5\" opacity=\"0.0006214831611657008\" fill=\"currentColor\" stroke-width=\"0.1\"/>\n",
       "<rect x=\"0.0\" y=\"-127.5\" width=\"125.0\" height=\"2.5\" opacity=\"0.001965230536659108\" fill=\"currentColor\" stroke-width=\"0.1\"/>\n",
       "<rect x=\"125.0\" y=\"-127.5\" width=\"125.0\" height=\"2.5\" opacity=\"0.0016460905349794236\" fill=\"currentColor\" stroke-width=\"0.1\"/>\n",
       "<rect x=\"0.0\" y=\"-130.0\" width=\"125.0\" height=\"2.5\" opacity=\"0.00139413790207441\" fill=\"currentColor\" stroke-width=\"0.1\"/>\n",
       "<rect x=\"125.0\" y=\"-130.0\" width=\"125.0\" height=\"2.5\" opacity=\"0.001259763164525069\" fill=\"currentColor\" stroke-width=\"0.1\"/>\n",
       "<rect x=\"0.0\" y=\"-132.5\" width=\"125.0\" height=\"2.5\" opacity=\"0.0013605442176870747\" fill=\"currentColor\" stroke-width=\"0.1\"/>\n",
       "<rect x=\"125.0\" y=\"-132.5\" width=\"125.0\" height=\"2.5\" opacity=\"0.0011757789535567311\" fill=\"currentColor\" stroke-width=\"0.1\"/>\n",
       "<rect x=\"0.0\" y=\"-135.0\" width=\"125.0\" height=\"2.5\" opacity=\"0.0013269505332997396\" fill=\"currentColor\" stroke-width=\"0.1\"/>\n",
       "<rect x=\"125.0\" y=\"-135.0\" width=\"125.0\" height=\"2.5\" opacity=\"0.001024607373813723\" fill=\"currentColor\" stroke-width=\"0.1\"/>\n",
       "<rect x=\"0.0\" y=\"-137.5\" width=\"125.0\" height=\"2.5\" opacity=\"0.0011421852691693962\" fill=\"currentColor\" stroke-width=\"0.1\"/>\n",
       "<rect x=\"125.0\" y=\"-137.5\" width=\"125.0\" height=\"2.5\" opacity=\"0.0011085915847820608\" fill=\"currentColor\" stroke-width=\"0.1\"/>\n",
       "<rect x=\"0.0\" y=\"-140.0\" width=\"125.0\" height=\"2.5\" opacity=\"0.0012429663223314017\" fill=\"currentColor\" stroke-width=\"0.1\"/>\n",
       "<rect x=\"125.0\" y=\"-140.0\" width=\"125.0\" height=\"2.5\" opacity=\"0.001024607373813723\" fill=\"currentColor\" stroke-width=\"0.1\"/>\n",
       "<rect x=\"0.0\" y=\"-142.5\" width=\"125.0\" height=\"2.5\" opacity=\"0.0008062484252960443\" fill=\"currentColor\" stroke-width=\"0.1\"/>\n",
       "<rect x=\"125.0\" y=\"-142.5\" width=\"125.0\" height=\"2.5\" opacity=\"0.0006718736877467036\" fill=\"currentColor\" stroke-width=\"0.1\"/>\n",
       "<rect x=\"0.0\" y=\"-145.0\" width=\"125.0\" height=\"2.5\" opacity=\"0.0005207021080036953\" fill=\"currentColor\" stroke-width=\"0.1\"/>\n",
       "<rect x=\"125.0\" y=\"-145.0\" width=\"125.0\" height=\"2.5\" opacity=\"0.0007054673721340387\" fill=\"currentColor\" stroke-width=\"0.1\"/>\n",
       "<rect x=\"0.0\" y=\"-147.5\" width=\"125.0\" height=\"2.5\" opacity=\"0.0007558578987150415\" fill=\"currentColor\" stroke-width=\"0.1\"/>\n",
       "<rect x=\"125.0\" y=\"-147.5\" width=\"125.0\" height=\"2.5\" opacity=\"0.0004535147392290249\" fill=\"currentColor\" stroke-width=\"0.1\"/>\n",
       "<rect x=\"0.0\" y=\"-150.0\" width=\"125.0\" height=\"2.5\" opacity=\"0.0005710926345846981\" fill=\"currentColor\" stroke-width=\"0.1\"/>\n",
       "<rect x=\"125.0\" y=\"-150.0\" width=\"125.0\" height=\"2.5\" opacity=\"0.0005039052658100277\" fill=\"currentColor\" stroke-width=\"0.1\"/>\n",
       "<rect x=\"0.0\" y=\"-152.5\" width=\"125.0\" height=\"2.5\" opacity=\"0.0007390610565213739\" fill=\"currentColor\" stroke-width=\"0.1\"/>\n",
       "<rect x=\"125.0\" y=\"-152.5\" width=\"125.0\" height=\"2.5\" opacity=\"0.0005374989501973628\" fill=\"currentColor\" stroke-width=\"0.1\"/>\n",
       "<rect x=\"0.0\" y=\"-155.0\" width=\"125.0\" height=\"2.5\" opacity=\"0.0004535147392290249\" fill=\"currentColor\" stroke-width=\"0.1\"/>\n",
       "<rect x=\"125.0\" y=\"-155.0\" width=\"125.0\" height=\"2.5\" opacity=\"0.0003191400016796842\" fill=\"currentColor\" stroke-width=\"0.1\"/>\n",
       "<rect x=\"0.0\" y=\"-157.5\" width=\"125.0\" height=\"2.5\" opacity=\"0.0005374989501973628\" fill=\"currentColor\" stroke-width=\"0.1\"/>\n",
       "<rect x=\"125.0\" y=\"-157.5\" width=\"125.0\" height=\"2.5\" opacity=\"0.00035273368606701937\" fill=\"currentColor\" stroke-width=\"0.1\"/>\n",
       "<rect x=\"0.0\" y=\"-160.0\" width=\"125.0\" height=\"2.5\" opacity=\"0.00038632737045435453\" fill=\"currentColor\" stroke-width=\"0.1\"/>\n",
       "<rect x=\"125.0\" y=\"-160.0\" width=\"125.0\" height=\"2.5\" opacity=\"0.00036953052826068695\" fill=\"currentColor\" stroke-width=\"0.1\"/>\n",
       "<rect x=\"0.0\" y=\"-162.5\" width=\"125.0\" height=\"2.5\" opacity=\"0.0005710926345846981\" fill=\"currentColor\" stroke-width=\"0.1\"/>\n",
       "<rect x=\"125.0\" y=\"-162.5\" width=\"125.0\" height=\"2.5\" opacity=\"0.0004871084236163601\" fill=\"currentColor\" stroke-width=\"0.1\"/>\n",
       "<rect x=\"0.0\" y=\"-165.0\" width=\"125.0\" height=\"2.5\" opacity=\"0.0004535147392290249\" fill=\"currentColor\" stroke-width=\"0.1\"/>\n",
       "<rect x=\"125.0\" y=\"-165.0\" width=\"125.0\" height=\"2.5\" opacity=\"0.00047031158142269255\" fill=\"currentColor\" stroke-width=\"0.1\"/>\n",
       "<rect x=\"0.0\" y=\"-167.5\" width=\"125.0\" height=\"2.5\" opacity=\"0.00030234315948601657\" fill=\"currentColor\" stroke-width=\"0.1\"/>\n",
       "<rect x=\"125.0\" y=\"-167.5\" width=\"125.0\" height=\"2.5\" opacity=\"0.0003359368438733518\" fill=\"currentColor\" stroke-width=\"0.1\"/>\n",
       "<rect x=\"0.0\" y=\"-170.0\" width=\"125.0\" height=\"2.5\" opacity=\"0.00028554631729234904\" fill=\"currentColor\" stroke-width=\"0.1\"/>\n",
       "<rect x=\"125.0\" y=\"-170.0\" width=\"125.0\" height=\"2.5\" opacity=\"0.00030234315948601657\" fill=\"currentColor\" stroke-width=\"0.1\"/>\n",
       "<rect x=\"0.0\" y=\"-172.5\" width=\"125.0\" height=\"2.5\" opacity=\"0.00030234315948601657\" fill=\"currentColor\" stroke-width=\"0.1\"/>\n",
       "<rect x=\"125.0\" y=\"-172.5\" width=\"125.0\" height=\"2.5\" opacity=\"0.00028554631729234904\" fill=\"currentColor\" stroke-width=\"0.1\"/>\n",
       "<rect x=\"0.0\" y=\"-175.0\" width=\"125.0\" height=\"2.5\" opacity=\"0.00030234315948601657\" fill=\"currentColor\" stroke-width=\"0.1\"/>\n",
       "<rect x=\"125.0\" y=\"-175.0\" width=\"125.0\" height=\"2.5\" opacity=\"0.00023515579071134627\" fill=\"currentColor\" stroke-width=\"0.1\"/>\n",
       "<rect x=\"0.0\" y=\"-177.5\" width=\"125.0\" height=\"2.5\" opacity=\"0.0003191400016796842\" fill=\"currentColor\" stroke-width=\"0.1\"/>\n",
       "<rect x=\"125.0\" y=\"-177.5\" width=\"125.0\" height=\"2.5\" opacity=\"0.0003359368438733518\" fill=\"currentColor\" stroke-width=\"0.1\"/>\n",
       "<rect x=\"0.0\" y=\"-180.0\" width=\"125.0\" height=\"2.5\" opacity=\"0.00020156210632401108\" fill=\"currentColor\" stroke-width=\"0.1\"/>\n",
       "<rect x=\"125.0\" y=\"-180.0\" width=\"125.0\" height=\"2.5\" opacity=\"0.0001679684219366759\" fill=\"currentColor\" stroke-width=\"0.1\"/>\n",
       "<rect x=\"0.0\" y=\"-182.5\" width=\"125.0\" height=\"2.5\" opacity=\"0.00018476526413034348\" fill=\"currentColor\" stroke-width=\"0.1\"/>\n",
       "<rect x=\"125.0\" y=\"-182.5\" width=\"125.0\" height=\"2.5\" opacity=\"0.00010078105316200554\" fill=\"currentColor\" stroke-width=\"0.1\"/>\n",
       "<rect x=\"0.0\" y=\"-185.0\" width=\"125.0\" height=\"2.5\" opacity=\"0.00020156210632401108\" fill=\"currentColor\" stroke-width=\"0.1\"/>\n",
       "<rect x=\"125.0\" y=\"-185.0\" width=\"125.0\" height=\"2.5\" opacity=\"0.00010078105316200554\" fill=\"currentColor\" stroke-width=\"0.1\"/>\n",
       "<rect x=\"0.0\" y=\"-187.5\" width=\"125.0\" height=\"2.5\" opacity=\"0.00018476526413034348\" fill=\"currentColor\" stroke-width=\"0.1\"/>\n",
       "<rect x=\"125.0\" y=\"-187.5\" width=\"125.0\" height=\"2.5\" opacity=\"0.0002687494750986814\" fill=\"currentColor\" stroke-width=\"0.1\"/>\n",
       "<rect x=\"0.0\" y=\"-190.0\" width=\"125.0\" height=\"2.5\" opacity=\"0.00025195263290501383\" fill=\"currentColor\" stroke-width=\"0.1\"/>\n",
       "<rect x=\"125.0\" y=\"-190.0\" width=\"125.0\" height=\"2.5\" opacity=\"0.00015117157974300829\" fill=\"currentColor\" stroke-width=\"0.1\"/>\n",
       "<rect x=\"0.0\" y=\"-192.5\" width=\"125.0\" height=\"2.5\" opacity=\"0.0001679684219366759\" fill=\"currentColor\" stroke-width=\"0.1\"/>\n",
       "<rect x=\"125.0\" y=\"-192.5\" width=\"125.0\" height=\"2.5\" opacity=\"0.00018476526413034348\" fill=\"currentColor\" stroke-width=\"0.1\"/>\n",
       "<rect x=\"0.0\" y=\"-195.0\" width=\"125.0\" height=\"2.5\" opacity=\"0.00010078105316200554\" fill=\"currentColor\" stroke-width=\"0.1\"/>\n",
       "<rect x=\"125.0\" y=\"-195.0\" width=\"125.0\" height=\"2.5\" opacity=\"6.718736877467035e-05\" fill=\"currentColor\" stroke-width=\"0.1\"/>\n",
       "<rect x=\"0.0\" y=\"-197.5\" width=\"125.0\" height=\"2.5\" opacity=\"0.00011757789535567314\" fill=\"currentColor\" stroke-width=\"0.1\"/>\n",
       "<rect x=\"125.0\" y=\"-197.5\" width=\"125.0\" height=\"2.5\" opacity=\"0.0001343747375493407\" fill=\"currentColor\" stroke-width=\"0.1\"/>\n",
       "<rect x=\"0.0\" y=\"-200.0\" width=\"125.0\" height=\"2.5\" opacity=\"8.398421096833795e-05\" fill=\"currentColor\" stroke-width=\"0.1\"/>\n",
       "<rect x=\"125.0\" y=\"-200.0\" width=\"125.0\" height=\"2.5\" opacity=\"8.398421096833795e-05\" fill=\"currentColor\" stroke-width=\"0.1\"/>\n",
       "<rect x=\"0.0\" y=\"-202.5\" width=\"125.0\" height=\"2.5\" opacity=\"0.00018476526413034348\" fill=\"currentColor\" stroke-width=\"0.1\"/>\n",
       "<rect x=\"125.0\" y=\"-202.5\" width=\"125.0\" height=\"2.5\" opacity=\"0.00010078105316200554\" fill=\"currentColor\" stroke-width=\"0.1\"/>\n",
       "<rect x=\"0.0\" y=\"-205.0\" width=\"125.0\" height=\"2.5\" opacity=\"8.398421096833795e-05\" fill=\"currentColor\" stroke-width=\"0.1\"/>\n",
       "<rect x=\"125.0\" y=\"-205.0\" width=\"125.0\" height=\"2.5\" opacity=\"3.3593684387335176e-05\" fill=\"currentColor\" stroke-width=\"0.1\"/>\n",
       "<rect x=\"0.0\" y=\"-207.5\" width=\"125.0\" height=\"2.5\" opacity=\"0.00011757789535567314\" fill=\"currentColor\" stroke-width=\"0.1\"/>\n",
       "<rect x=\"125.0\" y=\"-207.5\" width=\"125.0\" height=\"2.5\" opacity=\"0.00015117157974300829\" fill=\"currentColor\" stroke-width=\"0.1\"/>\n",
       "<rect x=\"0.0\" y=\"-210.0\" width=\"125.0\" height=\"2.5\" opacity=\"0.0001343747375493407\" fill=\"currentColor\" stroke-width=\"0.1\"/>\n",
       "<rect x=\"125.0\" y=\"-210.0\" width=\"125.0\" height=\"2.5\" opacity=\"0.00011757789535567314\" fill=\"currentColor\" stroke-width=\"0.1\"/>\n",
       "<rect x=\"0.0\" y=\"-212.5\" width=\"125.0\" height=\"2.5\" opacity=\"0.00015117157974300829\" fill=\"currentColor\" stroke-width=\"0.1\"/>\n",
       "<rect x=\"125.0\" y=\"-212.5\" width=\"125.0\" height=\"2.5\" opacity=\"0.0001679684219366759\" fill=\"currentColor\" stroke-width=\"0.1\"/>\n",
       "<rect x=\"0.0\" y=\"-215.0\" width=\"125.0\" height=\"2.5\" opacity=\"0.00020156210632401108\" fill=\"currentColor\" stroke-width=\"0.1\"/>\n",
       "<rect x=\"125.0\" y=\"-215.0\" width=\"125.0\" height=\"2.5\" opacity=\"0.00015117157974300829\" fill=\"currentColor\" stroke-width=\"0.1\"/>\n",
       "<rect x=\"0.0\" y=\"-217.5\" width=\"125.0\" height=\"2.5\" opacity=\"0.00011757789535567314\" fill=\"currentColor\" stroke-width=\"0.1\"/>\n",
       "<rect x=\"125.0\" y=\"-217.5\" width=\"125.0\" height=\"2.5\" opacity=\"6.718736877467035e-05\" fill=\"currentColor\" stroke-width=\"0.1\"/>\n",
       "<rect x=\"0.0\" y=\"-220.0\" width=\"125.0\" height=\"2.5\" opacity=\"5.039052658100277e-05\" fill=\"currentColor\" stroke-width=\"0.1\"/>\n",
       "<rect x=\"125.0\" y=\"-220.0\" width=\"125.0\" height=\"2.5\" opacity=\"5.039052658100277e-05\" fill=\"currentColor\" stroke-width=\"0.1\"/>\n",
       "<rect x=\"0.0\" y=\"-222.5\" width=\"125.0\" height=\"2.5\" opacity=\"0.0001343747375493407\" fill=\"currentColor\" stroke-width=\"0.1\"/>\n",
       "<rect x=\"125.0\" y=\"-222.5\" width=\"125.0\" height=\"2.5\" opacity=\"6.718736877467035e-05\" fill=\"currentColor\" stroke-width=\"0.1\"/>\n",
       "<rect x=\"0.0\" y=\"-225.0\" width=\"125.0\" height=\"2.5\" opacity=\"6.718736877467035e-05\" fill=\"currentColor\" stroke-width=\"0.1\"/>\n",
       "<rect x=\"125.0\" y=\"-225.0\" width=\"125.0\" height=\"2.5\" opacity=\"3.3593684387335176e-05\" fill=\"currentColor\" stroke-width=\"0.1\"/>\n",
       "<rect x=\"0.0\" y=\"-227.5\" width=\"125.0\" height=\"2.5\" opacity=\"3.3593684387335176e-05\" fill=\"currentColor\" stroke-width=\"0.1\"/>\n",
       "<rect x=\"125.0\" y=\"-227.5\" width=\"125.0\" height=\"2.5\" opacity=\"1.6796842193667588e-05\" fill=\"currentColor\" stroke-width=\"0.1\"/>\n",
       "<rect x=\"0.0\" y=\"-230.0\" width=\"125.0\" height=\"2.5\" opacity=\"0.00018476526413034348\" fill=\"currentColor\" stroke-width=\"0.1\"/>\n",
       "<rect x=\"125.0\" y=\"-230.0\" width=\"125.0\" height=\"2.5\" opacity=\"0.00010078105316200554\" fill=\"currentColor\" stroke-width=\"0.1\"/>\n",
       "<rect x=\"0.0\" y=\"-232.5\" width=\"125.0\" height=\"2.5\" opacity=\"0.0\" fill=\"currentColor\" stroke-width=\"0.1\"/>\n",
       "<rect x=\"125.0\" y=\"-232.5\" width=\"125.0\" height=\"2.5\" opacity=\"1.6796842193667588e-05\" fill=\"currentColor\" stroke-width=\"0.1\"/>\n",
       "<rect x=\"0.0\" y=\"-235.0\" width=\"125.0\" height=\"2.5\" opacity=\"6.718736877467035e-05\" fill=\"currentColor\" stroke-width=\"0.1\"/>\n",
       "<rect x=\"125.0\" y=\"-235.0\" width=\"125.0\" height=\"2.5\" opacity=\"5.039052658100277e-05\" fill=\"currentColor\" stroke-width=\"0.1\"/>\n",
       "<rect x=\"0.0\" y=\"-237.5\" width=\"125.0\" height=\"2.5\" opacity=\"1.6796842193667588e-05\" fill=\"currentColor\" stroke-width=\"0.1\"/>\n",
       "<rect x=\"125.0\" y=\"-237.5\" width=\"125.0\" height=\"2.5\" opacity=\"1.6796842193667588e-05\" fill=\"currentColor\" stroke-width=\"0.1\"/>\n",
       "<rect x=\"0.0\" y=\"-240.0\" width=\"125.0\" height=\"2.5\" opacity=\"6.718736877467035e-05\" fill=\"currentColor\" stroke-width=\"0.1\"/>\n",
       "<rect x=\"125.0\" y=\"-240.0\" width=\"125.0\" height=\"2.5\" opacity=\"3.3593684387335176e-05\" fill=\"currentColor\" stroke-width=\"0.1\"/>\n",
       "<rect x=\"0.0\" y=\"-242.5\" width=\"125.0\" height=\"2.5\" opacity=\"0.0\" fill=\"currentColor\" stroke-width=\"0.1\"/>\n",
       "<rect x=\"125.0\" y=\"-242.5\" width=\"125.0\" height=\"2.5\" opacity=\"3.3593684387335176e-05\" fill=\"currentColor\" stroke-width=\"0.1\"/>\n",
       "<rect x=\"0.0\" y=\"-245.0\" width=\"125.0\" height=\"2.5\" opacity=\"0.0\" fill=\"currentColor\" stroke-width=\"0.1\"/>\n",
       "<rect x=\"125.0\" y=\"-245.0\" width=\"125.0\" height=\"2.5\" opacity=\"3.3593684387335176e-05\" fill=\"currentColor\" stroke-width=\"0.1\"/>\n",
       "<rect x=\"0.0\" y=\"-247.5\" width=\"125.0\" height=\"2.5\" opacity=\"3.3593684387335176e-05\" fill=\"currentColor\" stroke-width=\"0.1\"/>\n",
       "<rect x=\"125.0\" y=\"-247.5\" width=\"125.0\" height=\"2.5\" opacity=\"1.6796842193667588e-05\" fill=\"currentColor\" stroke-width=\"0.1\"/>\n",
       "<rect x=\"0.0\" y=\"-250.0\" width=\"125.0\" height=\"2.5\" opacity=\"5.039052658100277e-05\" fill=\"currentColor\" stroke-width=\"0.1\"/>\n",
       "<rect x=\"125.0\" y=\"-250.0\" width=\"125.0\" height=\"2.5\" opacity=\"6.718736877467035e-05\" fill=\"currentColor\" stroke-width=\"0.1\"/>\n",
       "</svg>\n",
       "</div>\n",
       "<div style=\"flex=grow:1;\">\n",
       "StrCategory(['raw', 'scaled'], name='type')<br/>\n",
       "Regular(100, 0, 500, name='pt', label='$p_T$')<br/>\n",
       "<hr style=\"margin-top:.2em; margin-bottom:.2em;\"/>\n",
       "Double() Σ=723485.0 <em>(723536.0 with flow)</em>\n",
       "\n",
       "</div>\n",
       "</div>\n",
       "</html>"
      ],
      "text/plain": [
       "Hist(\n",
       "  StrCategory(['raw', 'scaled'], name='type'),\n",
       "  Regular(100, 0, 500, name='pt', label='$p_T$'),\n",
       "  storage=Double()) # Sum: 723485.0 (723536.0 with flow)"
      ]
     },
     "execution_count": 25,
     "metadata": {},
     "output_type": "execute_result"
    }
   ],
   "source": [
    "elepthist.fill(type='scaled' , pt=ak.flatten(single_e.pt*scale))"
   ]
  },
  {
   "cell_type": "code",
   "execution_count": 26,
   "id": "548d3b9f-ed94-4a0c-89e0-6cf077106f34",
   "metadata": {},
   "outputs": [
    {
     "data": {
      "text/plain": [
       "<matplotlib.legend.Legend at 0x7f4359aa6410>"
      ]
     },
     "execution_count": 26,
     "metadata": {},
     "output_type": "execute_result"
    },
    {
     "data": {
      "image/png": "[encoded data removed]",
      "text/plain": [
       "<Figure size 640x480 with 1 Axes>"
      ]
     },
     "metadata": {},
     "output_type": "display_data"
    }
   ],
   "source": [
    "fig ,ax = plt.subplots()\n",
    "hep.histplot(\n",
    "    [elepthist['raw',:][::hist.rebin(4)],elepthist['scaled',:][::hist.rebin(4)]],\n",
    "    color=['red','green'],\n",
    "    label=['raw pt','scaled pt'],\n",
    "    ax=ax\n",
    ")\n",
    "ax.set_ylabel('Events')\n",
    "ax.legend()"
   ]
  },
  {
   "cell_type": "code",
   "execution_count": 27,
   "id": "25f46d0c-e8b1-4dc7-94cd-75627f78cf84",
   "metadata": {},
   "outputs": [
    {
     "data": {
      "text/plain": [
       "<matplotlib.legend.Legend at 0x7f43597ddc30>"
      ]
     },
     "execution_count": 27,
     "metadata": {},
     "output_type": "execute_result"
    },
    {
     "data": {
      "image/png": "[encoded data removed]",
      "text/plain": [
       "<Figure size 640x480 with 1 Axes>"
      ]
     },
     "metadata": {},
     "output_type": "display_data"
    }
   ],
   "source": [
    "single_e = events.Electron[events.HLT.Ele32_WPTight_Gsf]\n",
    "elepthist = hist.Hist.new.StrCat(['raw','scaled'], name='type').Regular(100, 0, 500, name='pt',label=r'$p_T$').Double()\n",
    "\n",
    "from coffea.lookup_tools import extractor, dense_lookup\n",
    "ex = extractor()\n",
    "ex.add_weight_sets([\"ElectronTriggerSF EleTriggSF_abseta_pt efficiencies/EleTriggSF.root\"])\n",
    "ex.finalize()\n",
    "evaluator = ex.make_evaluator()\n",
    "scale = evaluator['ElectronTriggerSF'](abs(single_e.eta),single_e.pt)\n",
    "\n",
    "elepthist.fill(type='raw' , pt=ak.flatten(single_e.pt))\n",
    "elepthist.fill(type='scaled' , pt=ak.flatten(single_e.pt*scale))\n",
    "\n",
    "fig ,ax = plt.subplots()\n",
    "hep.histplot(\n",
    "    [elepthist['raw',:][::hist.rebin(4)],elepthist['scaled',:][::hist.rebin(4)]],\n",
    "    color=['red','green'],\n",
    "    label=['raw pt','scaled pt'],\n",
    "    ax=ax\n",
    ")\n",
    "ax.set_ylabel('Events')\n",
    "ax.legend()"
   ]
  },
  {
   "cell_type": "code",
   "execution_count": 28,
   "id": "1807cb74-6034-4458-a677-9da88bdfdef4",
   "metadata": {},
   "outputs": [
    {
     "data": {
      "text/plain": [
       "<Array [[1], [1, 3], [], [4], []] type='5 * var * int64'>"
      ]
     },
     "execution_count": 28,
     "metadata": {},
     "output_type": "execute_result"
    }
   ],
   "source": [
    "a= ak.Array(\n",
    "    [\n",
    "        [1],\n",
    "        [1,3],\n",
    "        [],\n",
    "        [4],\n",
    "        []\n",
    "    ]\n",
    ")\n",
    "a"
   ]
  },
  {
   "cell_type": "code",
   "execution_count": 29,
   "id": "778c3bac-34c0-4bd6-8389-adeeb9c2baf3",
   "metadata": {},
   "outputs": [
    {
     "data": {
      "text/plain": [
       "<Array [[1], [1, 3], [None], [4], [None]] type='5 * var * ?int64'>"
      ]
     },
     "execution_count": 29,
     "metadata": {},
     "output_type": "execute_result"
    }
   ],
   "source": [
    "ak.pad_none(a,1,axis=1)"
   ]
  },
  {
   "cell_type": "code",
   "execution_count": 30,
   "id": "7146e793-c41e-4b35-98ef-f7d7f5e92226",
   "metadata": {},
   "outputs": [
    {
     "data": {
      "text/plain": [
       "<Array [1, 1, 3, None, 4, None] type='6 * ?int64'>"
      ]
     },
     "execution_count": 30,
     "metadata": {},
     "output_type": "execute_result"
    }
   ],
   "source": [
    "ak.flatten(ak.pad_none(a,1,axis=1))"
   ]
  },
  {
   "cell_type": "code",
   "execution_count": 31,
   "id": "82a5d512-a8a9-4992-ba6f-4f09743ec3db",
   "metadata": {},
   "outputs": [
    {
     "data": {
      "text/plain": [
       "<Array [True, True, True, None, True, None] type='6 * ?bool'>"
      ]
     },
     "execution_count": 31,
     "metadata": {},
     "output_type": "execute_result"
    }
   ],
   "source": [
    "ak.flatten(ak.pad_none(a,1,axis=1)) > 0"
   ]
  },
  {
   "cell_type": "code",
   "execution_count": 32,
   "id": "bc6cf031-87ca-4d7b-8b00-efaff6bb917e",
   "metadata": {},
   "outputs": [
    {
     "data": {
      "text/plain": [
       "<Array [1, 1, 3, None, 4, None] type='6 * ?int64'>"
      ]
     },
     "execution_count": 32,
     "metadata": {},
     "output_type": "execute_result"
    }
   ],
   "source": [
    "hoho = ak.flatten(ak.pad_none(a,1,axis=1))[ak.flatten(ak.pad_none(a,1,axis=1)) > 0]\n",
    "hoho"
   ]
  },
  {
   "cell_type": "code",
   "execution_count": 33,
   "id": "2931c20f-f7db-4f3a-8332-aaf81f0dc7b5",
   "metadata": {},
   "outputs": [],
   "source": [
    "def remove_none(array, axis=1):\n",
    "    return array[ak.fill_none(array,-299792458) != -299792458 ]\n"
   ]
  },
  {
   "cell_type": "code",
   "execution_count": 34,
   "id": "f9e3d0b9-2abf-4f50-beae-dab6464e37e4",
   "metadata": {},
   "outputs": [
    {
     "data": {
      "text/plain": [
       "<Array [1, 1, 3, 4] type='4 * ?int64'>"
      ]
     },
     "execution_count": 34,
     "metadata": {},
     "output_type": "execute_result"
    }
   ],
   "source": [
    "remove_none(hoho)"
   ]
  },
  {
   "cell_type": "code",
   "execution_count": 35,
   "id": "2091f409-d6bc-40c4-9019-1c1abe1084a9",
   "metadata": {},
   "outputs": [
    {
     "data": {
      "text/html": [
       "<html>\n",
       "<div style=\"display:flex; align-items:center;\">\n",
       "<div style=\"width:290px;\">\n",
       "<svg xmlns=\"http://www.w3.org/2000/svg\" viewBox=\"-10 -105 270 120\">\n",
       "<line x1=\"-5\" y1=\"0\" x2=\"255\" y2=\"0\" style=\"fill:none;stroke-width:2;stroke:currentColor\"/>\n",
       "<text text-anchor=\"middle\" x=\"0\" y=\"15\" style=\"fill:currentColor;\">\n",
       "0\n",
       "</text>\n",
       "<text text-anchor=\"middle\" x=\"250\" y=\"15\" style=\"fill:currentColor;\">\n",
       "10\n",
       "</text>\n",
       "<text text-anchor=\"middle\" x=\"125.0\" y=\"15\" style=\"fill:currentColor;\">\n",
       "Axis 0\n",
       "</text>\n",
       "<polyline points=\"  0,0   0,-0  25,-0  25,-100  50,-100  50,-0  75,-0  75,-50 100,-50 100,-50 125,-50 125,-0 150,-0 150,-0 175,-0 175,-0 200,-0 200,-0 225,-0 225,-0 250,-0 250,0\" style=\"fill:none; stroke:currentColor;\"/>\n",
       "</svg>\n",
       "</div>\n",
       "<div style=\"flex=grow:1;\">\n",
       "Regular(10, 0, 10, label='Axis 0')<br/>\n",
       "<hr style=\"margin-top:.2em; margin-bottom:.2em;\"/>\n",
       "Double() Σ=4.0\n",
       "\n",
       "</div>\n",
       "</div>\n",
       "</html>"
      ],
      "text/plain": [
       "Hist(Regular(10, 0, 10, label='Axis 0'), storage=Double()) # Sum: 4.0"
      ]
     },
     "execution_count": 35,
     "metadata": {},
     "output_type": "execute_result"
    }
   ],
   "source": [
    "hist.Hist.new.Reg(10,0,10).Double().fill(remove_none(hoho))"
   ]
  },
  {
   "cell_type": "code",
   "execution_count": 36,
   "id": "39beb9a4-9f6d-4fb6-ae0e-1e911aec4192",
   "metadata": {},
   "outputs": [
    {
     "data": {
      "text/plain": [
       "1294000"
      ]
     },
     "execution_count": 36,
     "metadata": {},
     "output_type": "execute_result"
    }
   ],
   "source": [
    "len(events)"
   ]
  },
  {
   "cell_type": "code",
   "execution_count": 37,
   "id": "3f6468bd-c99a-4828-acdd-f0374c562bad",
   "metadata": {},
   "outputs": [
    {
     "data": {
      "text/plain": [
       "<ElectronArray [[], [], [Electron, ... [], []] type='1294000 * var * electron'>"
      ]
     },
     "execution_count": 37,
     "metadata": {},
     "output_type": "execute_result"
    }
   ],
   "source": [
    "events.Electron[events.Electron.pt > 10]"
   ]
  },
  {
   "cell_type": "code",
   "execution_count": 38,
   "id": "d56b3da1-1ee1-4f7c-9c7c-4183641990f0",
   "metadata": {},
   "outputs": [
    {
     "data": {
      "text/plain": [
       "<Array [[], [False], [True, ... [True], [], []] type='1294000 * var * bool'>"
      ]
     },
     "execution_count": 38,
     "metadata": {},
     "output_type": "execute_result"
    }
   ],
   "source": [
    "events.Electron.pt > 10"
   ]
  },
  {
   "cell_type": "code",
   "execution_count": 39,
   "id": "3b8bfe74-9216-4832-bf15-a05a26f2b6df",
   "metadata": {},
   "outputs": [
    {
     "data": {
      "text/plain": [
       "<ElectronArray [[], [Electron], ... [], []] type='1294000 * var * electron'>"
      ]
     },
     "execution_count": 39,
     "metadata": {},
     "output_type": "execute_result"
    }
   ],
   "source": [
    "events.Electron"
   ]
  },
  {
   "cell_type": "code",
   "execution_count": 40,
   "id": "aabcfdae-e011-413d-9e7b-aeedf2292e33",
   "metadata": {},
   "outputs": [
    {
     "data": {
      "text/plain": [
       "<Array [0, 1, 2, 3, 1, 3, ... 0, 2, 0, 1, 0, 0] type='1294000 * int64'>"
      ]
     },
     "execution_count": 40,
     "metadata": {},
     "output_type": "execute_result"
    }
   ],
   "source": [
    "ak.num(events.Electron)"
   ]
  },
  {
   "cell_type": "code",
   "execution_count": 41,
   "id": "002ab7f5-9ac0-42c9-96e4-c1455c3994c8",
   "metadata": {},
   "outputs": [
    {
     "data": {
      "text/plain": [
       "<Array [False, True, False, ... False, False] type='1294000 * bool'>"
      ]
     },
     "execution_count": 41,
     "metadata": {},
     "output_type": "execute_result"
    }
   ],
   "source": [
    "ak.num(events.Electron) == 1"
   ]
  },
  {
   "cell_type": "code",
   "execution_count": 42,
   "id": "0e8d1f9f-f832-47a8-be03-d3f02fcea10c",
   "metadata": {},
   "outputs": [
    {
     "data": {
      "text/plain": [
       "506729"
      ]
     },
     "execution_count": 42,
     "metadata": {},
     "output_type": "execute_result"
    }
   ],
   "source": [
    "sum(ak.num(events.Electron) == 1)"
   ]
  },
  {
   "cell_type": "code",
   "execution_count": 43,
   "id": "97d17352-b311-4f7d-957b-430313fd90af",
   "metadata": {},
   "outputs": [
    {
     "data": {
      "text/plain": [
       "<ElectronArray [[Electron], ... [Electron]] type='506729 * var * electron'>"
      ]
     },
     "execution_count": 43,
     "metadata": {},
     "output_type": "execute_result"
    }
   ],
   "source": [
    "events.Electron[ak.num(events.Electron) == 1]"
   ]
  },
  {
   "cell_type": "code",
   "execution_count": 44,
   "id": "4b59655c-8aa3-49cf-b2cb-2d876ad91d80",
   "metadata": {},
   "outputs": [
    {
     "data": {
      "text/plain": [
       "<ElectronArray [None, [Electron], ... None, None] type='1294000 * option[var * e...'>"
      ]
     },
     "execution_count": 44,
     "metadata": {},
     "output_type": "execute_result"
    }
   ],
   "source": [
    "masked = ak.mask(events.Electron , ak.num(events.Electron) == 1 )\n",
    "masked"
   ]
  },
  {
   "cell_type": "code",
   "execution_count": 45,
   "id": "e23744e6-1150-4f6b-9c0d-02a7e5d19e6e",
   "metadata": {},
   "outputs": [
    {
     "data": {
      "text/plain": [
       "<Array [[], [Electron], ... [], []] type='1294000 * union[var * electron, var * ...'>"
      ]
     },
     "execution_count": 45,
     "metadata": {},
     "output_type": "execute_result"
    }
   ],
   "source": [
    "minus_masked = ak.fill_none(masked , [] , axis = 0)\n",
    "minus_masked"
   ]
  },
  {
   "cell_type": "code",
   "execution_count": 47,
   "id": "326eb386-38d5-47fb-a778-f5a0401db8fc",
   "metadata": {},
   "outputs": [
    {
     "data": {
      "text/plain": [
       "<Array [1, 1, 3, 4] type='4 * int64'>"
      ]
     },
     "execution_count": 47,
     "metadata": {},
     "output_type": "execute_result"
    }
   ],
   "source": [
    "ak.flatten(a)"
   ]
  },
  {
   "cell_type": "code",
   "execution_count": 48,
   "id": "ed97b971-42f7-4a43-a85a-3bb1ab70292b",
   "metadata": {},
   "outputs": [
    {
     "data": {
      "text/plain": [
       "<ElectronArray [Electron, Electron, ... Electron] type='506729 * electron'>"
      ]
     },
     "execution_count": 48,
     "metadata": {},
     "output_type": "execute_result"
    }
   ],
   "source": [
    "ak.flatten(masked)"
   ]
  },
  {
   "cell_type": "code",
   "execution_count": 49,
   "id": "60f23ffa-78eb-40e4-bf09-fd27e8d84a53",
   "metadata": {},
   "outputs": [
    {
     "data": {
      "text/plain": [
       "<Array [8.98, 19.2, 18.9, ... 88.1, 45.7, 12.6] type='506729 * float32[parameter...'>"
      ]
     },
     "execution_count": 49,
     "metadata": {},
     "output_type": "execute_result"
    }
   ],
   "source": [
    "ak.flatten(masked.pt)"
   ]
  },
  {
   "cell_type": "code",
   "execution_count": 52,
   "id": "3c842865-adf2-4a16-a330-33ab39e64823",
   "metadata": {},
   "outputs": [
    {
     "data": {
      "text/plain": [
       "<Array [-1, [8.98], -1, -1, ... [12.6], -1, -1] type='1294000 * union[var * floa...'>"
      ]
     },
     "execution_count": 52,
     "metadata": {},
     "output_type": "execute_result"
    }
   ],
   "source": [
    "ak.fill_none(masked.pt, -1 ,axis =0)"
   ]
  },
  {
   "cell_type": "code",
   "execution_count": 53,
   "id": "0aa591cf-5a48-453c-8105-0b2cb0aa02c9",
   "metadata": {},
   "outputs": [
    {
     "data": {
      "text/plain": [
       "<Array [[], [8.98], [53.3, ... [12.6], [], []] type='1294000 * var * float32[par...'>"
      ]
     },
     "execution_count": 53,
     "metadata": {},
     "output_type": "execute_result"
    }
   ],
   "source": [
    "events.Electron.pt"
   ]
  },
  {
   "cell_type": "code",
   "execution_count": 55,
   "id": "65e3a766-1296-4a74-827b-d092c26fc2c8",
   "metadata": {},
   "outputs": [
    {
     "data": {
      "text/plain": [
       "<Array [[8.98], [19.2], ... [45.7], [12.6]] type='506729 * var * float32[paramet...'>"
      ]
     },
     "execution_count": 55,
     "metadata": {},
     "output_type": "execute_result"
    }
   ],
   "source": [
    "events.Electron.pt[ak.num(events.Electron.pt) == 1]"
   ]
  },
  {
   "cell_type": "code",
   "execution_count": 57,
   "id": "44bb9615-27b7-4607-9bfc-c681dd949e73",
   "metadata": {},
   "outputs": [
    {
     "data": {
      "text/plain": [
       "<Array [None, [8.98], ... 12.6], None, None] type='1294000 * option[var * float3...'>"
      ]
     },
     "execution_count": 57,
     "metadata": {},
     "output_type": "execute_result"
    }
   ],
   "source": [
    "a = ak.mask(events.Electron.pt, ak.num(events.Electron.pt) == 1)\n",
    "a"
   ]
  },
  {
   "cell_type": "code",
   "execution_count": 59,
   "id": "f71dbcd0-8dd1-41d6-9aae-7aa347c97d8d",
   "metadata": {},
   "outputs": [
    {
     "data": {
      "text/plain": [
       "<Array [-1, [8.98], -1, -1, ... [12.6], -1, -1] type='1294000 * union[var * floa...'>"
      ]
     },
     "execution_count": 59,
     "metadata": {},
     "output_type": "execute_result"
    }
   ],
   "source": [
    "b = ak.fill_none(a, -1, axis= 0)\n",
    "b"
   ]
  },
  {
   "cell_type": "code",
   "execution_count": 63,
   "id": "24c34578-9cc7-4db0-96b6-328d5757b1dc",
   "metadata": {},
   "outputs": [
    {
     "ename": "ValueError",
     "evalue": "axis=-1 exceeds the depth (1) of at least one record field (or union possibility) of this array\n\n(https://github.com/scikit-hep/awkward-1.0/blob/1.10.3/src/libawkward/Content.cpp#L1743)",
     "output_type": "error",
     "traceback": [
      "\u001b[0;31m---------------------------------------------------------------------------\u001b[0m",
      "\u001b[0;31mValueError\u001b[0m                                Traceback (most recent call last)",
      "Cell \u001b[0;32mIn[63], line 1\u001b[0m\n\u001b[0;32m----> 1\u001b[0m c \u001b[38;5;241m=\u001b[39m \u001b[43mak\u001b[49m\u001b[38;5;241;43m.\u001b[39;49m\u001b[43mflatten\u001b[49m\u001b[43m(\u001b[49m\u001b[43mb\u001b[49m\u001b[43m \u001b[49m\u001b[43m,\u001b[49m\u001b[43m \u001b[49m\u001b[43maxis\u001b[49m\u001b[38;5;241;43m=\u001b[39;49m\u001b[38;5;241;43m-\u001b[39;49m\u001b[38;5;241;43m1\u001b[39;49m\u001b[43m)\u001b[49m\n\u001b[1;32m      2\u001b[0m c\n",
      "File \u001b[0;32m/opt/conda/lib/python3.10/site-packages/awkward/operations/structure.py:1962\u001b[0m, in \u001b[0;36mflatten\u001b[0;34m(array, axis, highlevel, behavior)\u001b[0m\n\u001b[1;32m   1959\u001b[0m     \u001b[38;5;28;01melse\u001b[39;00m:\n\u001b[1;32m   1960\u001b[0m         out \u001b[38;5;241m=\u001b[39m ak\u001b[38;5;241m.\u001b[39mlayout\u001b[38;5;241m.\u001b[39mNumpyArray(nplike\u001b[38;5;241m.\u001b[39mconcatenate(out))\n\u001b[0;32m-> 1962\u001b[0m \u001b[38;5;28;01melif\u001b[39;00m axis \u001b[38;5;241m==\u001b[39m \u001b[38;5;241m0\u001b[39m \u001b[38;5;129;01mor\u001b[39;00m \u001b[43mlayout\u001b[49m\u001b[38;5;241;43m.\u001b[39;49m\u001b[43maxis_wrap_if_negative\u001b[49m\u001b[43m(\u001b[49m\u001b[43maxis\u001b[49m\u001b[43m)\u001b[49m \u001b[38;5;241m==\u001b[39m \u001b[38;5;241m0\u001b[39m:\n\u001b[1;32m   1964\u001b[0m     \u001b[38;5;28;01mdef\u001b[39;00m \u001b[38;5;21mapply\u001b[39m(layout):\n\u001b[1;32m   1965\u001b[0m         \u001b[38;5;28;01mif\u001b[39;00m \u001b[38;5;28misinstance\u001b[39m(layout, ak\u001b[38;5;241m.\u001b[39m_util\u001b[38;5;241m.\u001b[39mvirtualtypes):\n",
      "\u001b[0;31mValueError\u001b[0m: axis=-1 exceeds the depth (1) of at least one record field (or union possibility) of this array\n\n(https://github.com/scikit-hep/awkward-1.0/blob/1.10.3/src/libawkward/Content.cpp#L1743)"
     ]
    }
   ],
   "source": [
    "c = ak.flatten(b , axis=-1)\n",
    "c"
   ]
  },
  {
   "cell_type": "code",
   "execution_count": 69,
   "id": "0235d352-dca6-450e-96b6-1e6569f415c4",
   "metadata": {},
   "outputs": [],
   "source": [
    "def selectElectrons(events):\n",
    "    # Twiki link: https://twiki.cern.ch/twiki/bin/view/CMS/CutBasedElectronIdentificationRun2#Offline_selection_criteria_for_V  \n",
    "    # CutBased Electron ID\n",
    "    # Impact parameter cuts are explicitly made on dxy and dz\n",
    "    eleEtaGap = (abs(events.Electron.eta) < 1.4442) | (abs(events.Electron.eta) > 1.566)\n",
    "    elePassDXY = (abs(events.Electron.eta) < 1.479) & (abs(events.Electron.dxy) < 0.05) | (abs(events.Electron.eta) > 1.479) & (abs(events.Electron.dxy) < 0.1)\n",
    "    elePassDZ = (abs(events.Electron.eta) < 1.479) & (abs(events.Electron.dz) < 0.1) | (abs(events.Electron.eta) > 1.479) & (abs(events.Electron.dz) < 0.2)\n",
    "    # select tight and loose electrons\n",
    "    electronSelectTight = (\n",
    "        (events.Electron.pt > 40)\n",
    "        & (abs(events.Electron.eta) < 2.5)\n",
    "        & (abs(events.Electron.cutBased) >= 4)\n",
    "        & (eleEtaGap)\n",
    "        & elePassDXY\n",
    "        & elePassDZ\n",
    "    )\n",
    "    electronSelectLoose = (\n",
    "        (events.Electron.pt > 10)\n",
    "        & (abs(events.Electron.eta) < 2.5)\n",
    "        & (events.Electron.cutBased >= 2)\n",
    "        & (eleEtaGap)\n",
    "        & elePassDXY\n",
    "        & elePassDZ\n",
    "        #& np.invert(electronSelectTight)\n",
    "    )\n",
    "    return events.Electron[electronSelectTight], events.Electron[electronSelectLoose]\n",
    "from scalefactors import (\n",
    "    jerjesCorrection,\n",
    "    pileupSF,\n",
    "    triggerEffLookup_18,\n",
    "    triggerEffLookup_17,\n",
    "    taggingEffLookupLooseWP_18,\n",
    "    taggingEffLookupLooseWP_17,\n",
    "    ElectrontriggerEffLookup_18\n",
    ")"
   ]
  },
  {
   "cell_type": "code",
   "execution_count": 65,
   "id": "95b4af6e-3ac1-43d6-836f-d2b027e755cf",
   "metadata": {},
   "outputs": [],
   "source": [
    "tightElectrons, looseElectrons = selectElectrons(events)"
   ]
  },
  {
   "cell_type": "code",
   "execution_count": 66,
   "id": "6505c57d-9045-4122-a684-4df1de9c8142",
   "metadata": {},
   "outputs": [
    {
     "data": {
      "text/plain": [
       "<ElectronArray [[], [], [Electron], ... [], [], []] type='1294000 * var * electron'>"
      ]
     },
     "execution_count": 66,
     "metadata": {},
     "output_type": "execute_result"
    }
   ],
   "source": [
    "tightElectrons"
   ]
  },
  {
   "cell_type": "code",
   "execution_count": 67,
   "id": "86cd3c8c-4799-4c6f-aab1-3abaea1d0db0",
   "metadata": {},
   "outputs": [
    {
     "data": {
      "text/plain": [
       "<ElectronArray [None, None, ... None, None, None] type='1294000 * option[var * e...'>"
      ]
     },
     "execution_count": 67,
     "metadata": {},
     "output_type": "execute_result"
    }
   ],
   "source": [
    "a =  ak.mask(tightElectrons, ak.num(tightElectrons) == 1)\n",
    "a"
   ]
  },
  {
   "cell_type": "code",
   "execution_count": 74,
   "id": "67f1397d-6d2e-4680-991c-78fcf5f78059",
   "metadata": {},
   "outputs": [
    {
     "data": {
      "text/plain": [
       "<Array [None, None, ... None, None, None] type='1294000 * option[var * float32]'>"
      ]
     },
     "execution_count": 74,
     "metadata": {},
     "output_type": "execute_result"
    }
   ],
   "source": [
    "b = ElectrontriggerEffLookup_18(a.eta,a.pt)\n",
    "b"
   ]
  },
  {
   "cell_type": "code",
   "execution_count": 76,
   "id": "42428d89-f19c-4ae6-849a-d8e8ab99b1ea",
   "metadata": {},
   "outputs": [
    {
     "data": {
      "text/plain": [
       "<Array [[-1], [-1], [0.94, ... -1], [-1], [-1]] type='1294000 * var * float64'>"
      ]
     },
     "execution_count": 76,
     "metadata": {},
     "output_type": "execute_result"
    }
   ],
   "source": [
    "c = ak.fill_none(b,[-1] , axis = 0)\n",
    "c"
   ]
  },
  {
   "cell_type": "code",
   "execution_count": 77,
   "id": "a4a25d5f-ff74-4336-ab17-1e55733166d4",
   "metadata": {},
   "outputs": [
    {
     "data": {
      "text/plain": [
       "<Array [-1, -1, 0.94, -1, ... -1, -1, -1, -1] type='1294000 * float64'>"
      ]
     },
     "execution_count": 77,
     "metadata": {},
     "output_type": "execute_result"
    }
   ],
   "source": [
    "d = ak.flatten(c)\n",
    "d"
   ]
  },
  {
   "cell_type": "code",
   "execution_count": 78,
   "id": "a5500b72-014f-4ba5-8b52-e7cc44e01df4",
   "metadata": {},
   "outputs": [
    {
     "data": {
      "text/plain": [
       "<Array [None, None, 0.94, ... None, None, None] type='1294000 * ?float64'>"
      ]
     },
     "execution_count": 78,
     "metadata": {},
     "output_type": "execute_result"
    }
   ],
   "source": [
    "e = ak.mask(d, d>0)\n",
    "e"
   ]
  },
  {
   "cell_type": "code",
   "execution_count": 82,
   "id": "671f8cf5-8cc3-4c71-89bf-7d69e206caf1",
   "metadata": {},
   "outputs": [],
   "source": [
    "def get_electron_trigger_weight(tight_electrons, lookup_table):\n",
    "    '''\n",
    "    Provides the electron trigger scale factor in appropriate event weight format.\n",
    "    '''\n",
    "    a =  ak.mask(tight_electrons, ak.num(tight_electrons) == 1)\n",
    "    b = lookup_table(abs(a.eta),a.pt)\n",
    "    c = ak.fill_none(b,[-1] , axis = 0)\n",
    "    d = ak.flatten(c)\n",
    "    e = ak.mask(d, d>0)\n",
    "    return e"
   ]
  },
  {
   "cell_type": "code",
   "execution_count": 83,
   "id": "8ae01b88-0fe7-41cf-9e87-c7b2fee4eef4",
   "metadata": {},
   "outputs": [
    {
     "data": {
      "text/plain": [
       "<Array [None, None, 0.94, ... None, None, None] type='1294000 * ?float64'>"
      ]
     },
     "execution_count": 83,
     "metadata": {},
     "output_type": "execute_result"
    }
   ],
   "source": [
    "get_electron_trigger_weight(tightElectrons,ElectrontriggerEffLookup_18)"
   ]
  },
  {
   "cell_type": "code",
   "execution_count": 84,
   "id": "3c9236bc-8f45-42d8-98b5-fc0aded42f90",
   "metadata": {},
   "outputs": [
    {
     "ename": "TypeError",
     "evalue": "unsupported operand type(s) for +: 'NoneType' and 'NoneType'",
     "output_type": "error",
     "traceback": [
      "\u001b[0;31m---------------------------------------------------------------------------\u001b[0m",
      "\u001b[0;31mTypeError\u001b[0m                                 Traceback (most recent call last)",
      "Cell \u001b[0;32mIn[84], line 1\u001b[0m\n\u001b[0;32m----> 1\u001b[0m \u001b[38;5;28;43;01mNone\u001b[39;49;00m\u001b[38;5;241;43m+\u001b[39;49m\u001b[38;5;28;43;01mNone\u001b[39;49;00m\n",
      "\u001b[0;31mTypeError\u001b[0m: unsupported operand type(s) for +: 'NoneType' and 'NoneType'"
     ]
    }
   ],
   "source": [
    "None+None"
   ]
  },
  {
   "cell_type": "code",
   "execution_count": 85,
   "id": "1b9df3d3-0fdf-41bb-8e9c-f1d9dc99a9da",
   "metadata": {},
   "outputs": [],
   "source": [
    "a = ak.Array([None,7,8])\n",
    "b = ak.Array([None,1,2])"
   ]
  },
  {
   "cell_type": "code",
   "execution_count": 86,
   "id": "1d2d23dd-6a3b-4872-a8c3-c0d384e7bbb4",
   "metadata": {},
   "outputs": [
    {
     "data": {
      "text/plain": [
       "<Array [None, 8, 10] type='3 * ?int64'>"
      ]
     },
     "execution_count": 86,
     "metadata": {},
     "output_type": "execute_result"
    }
   ],
   "source": [
    "a+b"
   ]
  },
  {
   "cell_type": "code",
   "execution_count": 89,
   "id": "77fc7b97-a62d-4b67-9146-2c38ec8229e5",
   "metadata": {},
   "outputs": [
    {
     "data": {
      "text/plain": [
       "<Array [None, 0.01, 0.01] type='3 * ?float64'>"
      ]
     },
     "execution_count": 89,
     "metadata": {},
     "output_type": "execute_result"
    }
   ],
   "source": [
    "ak.where(a>0 , 0.01,0.00)"
   ]
  },
  {
   "cell_type": "code",
   "execution_count": null,
   "id": "bb83eaa8-cffd-4855-bae2-09936a72928a",
   "metadata": {},
   "outputs": [],
   "source": []
  }
 ],
 "metadata": {
  "kernelspec": {
   "display_name": "Python 3 (ipykernel)",
   "language": "python",
   "name": "python3"
  },
  "language_info": {
   "codemirror_mode": {
    "name": "ipython",
    "version": 3
   },
   "file_extension": ".py",
   "mimetype": "text/x-python",
   "name": "python",
   "nbconvert_exporter": "python",
   "pygments_lexer": "ipython3",
   "version": "3.10.8"
  }
 },
 "nbformat": 4,
 "nbformat_minor": 5
}
