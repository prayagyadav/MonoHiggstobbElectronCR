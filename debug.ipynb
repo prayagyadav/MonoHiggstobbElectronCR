{
 "cells": [
  {
   "cell_type": "code",
   "execution_count": 1,
   "metadata": {},
   "outputs": [
    {
     "ename": "ImportError",
     "evalue": "cannot import name 'accumulate' from 'coffea.processor' (/home/prayag/.env/lib64/python3.9/site-packages/coffea/processor/__init__.py)",
     "output_type": "error",
     "traceback": [
      "\u001b[0;31m---------------------------------------------------------------------------\u001b[0m",
      "\u001b[0;31mImportError\u001b[0m                               Traceback (most recent call last)",
      "Cell \u001b[0;32mIn[1], line 2\u001b[0m\n\u001b[1;32m      1\u001b[0m \u001b[38;5;28;01mfrom\u001b[39;00m \u001b[38;5;21;01mcoffea\u001b[39;00m\u001b[38;5;21;01m.\u001b[39;00m\u001b[38;5;21;01mutil\u001b[39;00m \u001b[38;5;28;01mimport\u001b[39;00m load\n\u001b[0;32m----> 2\u001b[0m \u001b[38;5;28;01mfrom\u001b[39;00m \u001b[38;5;21;01mcoffea\u001b[39;00m\u001b[38;5;21;01m.\u001b[39;00m\u001b[38;5;21;01mprocessor\u001b[39;00m \u001b[38;5;28;01mimport\u001b[39;00m accumulate\n",
      "\u001b[0;31mImportError\u001b[0m: cannot import name 'accumulate' from 'coffea.processor' (/home/prayag/.env/lib64/python3.9/site-packages/coffea/processor/__init__.py)"
     ]
    }
   ],
   "source": [
    "from coffea.util import load\n",
    "from coffea.processor import accumulate"
   ]
  },
  {
   "cell_type": "code",
   "execution_count": 3,
   "metadata": {},
   "outputs": [
    {
     "ename": "NameError",
     "evalue": "name 'accumulate' is not defined",
     "output_type": "error",
     "traceback": [
      "\u001b[0;31m---------------------------------------------------------------------------\u001b[0m",
      "\u001b[0;31mNameError\u001b[0m                                 Traceback (most recent call last)",
      "Cell \u001b[0;32mIn[3], line 1\u001b[0m\n\u001b[0;32m----> 1\u001b[0m outputData \u001b[38;5;241m=\u001b[39m \u001b[43maccumulate\u001b[49m([\n\u001b[1;32m      2\u001b[0m     util\u001b[38;5;241m.\u001b[39mload(\u001b[38;5;124m\"\u001b[39m\u001b[38;5;124mcoffea_files/ver3/output_DataA_BCatTope2018_run20240310_161659.coffea\u001b[39m\u001b[38;5;124m\"\u001b[39m),\n\u001b[1;32m      3\u001b[0m     util\u001b[38;5;241m.\u001b[39mload(\u001b[38;5;124m\"\u001b[39m\u001b[38;5;124mcoffea_files/ver3/output_DataB_BCatTope2018_run20240310_160035.coffea\u001b[39m\u001b[38;5;124m\"\u001b[39m),\n\u001b[1;32m      4\u001b[0m     util\u001b[38;5;241m.\u001b[39mload(\u001b[38;5;124m\"\u001b[39m\u001b[38;5;124mcoffea_files/ver3/output_DataC_BCatTope2018_run20240310_160556.coffea\u001b[39m\u001b[38;5;124m\"\u001b[39m),\n\u001b[1;32m      5\u001b[0m     util\u001b[38;5;241m.\u001b[39mload(\u001b[38;5;124m\"\u001b[39m\u001b[38;5;124mcoffea_files/ver3/output_DataD_BCatTope2018_run20240310_163738.coffea\u001b[39m\u001b[38;5;124m\"\u001b[39m),\n\u001b[1;32m      6\u001b[0m ])\n\u001b[1;32m      7\u001b[0m outputMC \u001b[38;5;241m=\u001b[39m accumulate([\n\u001b[1;32m      8\u001b[0m     util\u001b[38;5;241m.\u001b[39mload(\u001b[38;5;124m\"\u001b[39m\u001b[38;5;124mcoffea_files/ver3/output_MCTTbar1l1v_BCatTope2018_run20240310_181748.coffea\u001b[39m\u001b[38;5;124m\"\u001b[39m),\n\u001b[1;32m      9\u001b[0m     \u001b[38;5;66;03m#util.load(\"coffea_files/ver3/output_MCSingleTop1_BCatTope2018_.coffea\"),\u001b[39;00m\n\u001b[1;32m     10\u001b[0m     \u001b[38;5;66;03m#util.load(\"coffea_files/ver3/output_MCSingleTop2_BCatTope2018_run20240310_170949.coffea\"),\u001b[39;00m\n\u001b[1;32m     11\u001b[0m     util\u001b[38;5;241m.\u001b[39mload(\u001b[38;5;124m\"\u001b[39m\u001b[38;5;124mcoffea_files/ver3/output_MCWlvJets_BCatTope2018_run20240310_205459.coffea\u001b[39m\u001b[38;5;124m\"\u001b[39m),\n\u001b[1;32m     12\u001b[0m ])\n",
      "\u001b[0;31mNameError\u001b[0m: name 'accumulate' is not defined"
     ]
    }
   ],
   "source": [
    "outputData = accumulate([\n",
    "    util.load(\"coffea_files/ver3/output_DataA_BCatTope2018_run20240310_161659.coffea\"),\n",
    "    util.load(\"coffea_files/ver3/output_DataB_BCatTope2018_run20240310_160035.coffea\"),\n",
    "    util.load(\"coffea_files/ver3/output_DataC_BCatTope2018_run20240310_160556.coffea\"),\n",
    "    util.load(\"coffea_files/ver3/output_DataD_BCatTope2018_run20240310_163738.coffea\"),\n",
    "])\n",
    "outputMC = accumulate([\n",
    "    util.load(\"coffea_files/ver3/output_MCTTbar1l1v_BCatTope2018_run20240310_181748.coffea\"),\n",
    "    #util.load(\"coffea_files/ver3/output_MCSingleTop1_BCatTope2018_.coffea\"),\n",
    "    #util.load(\"coffea_files/ver3/output_MCSingleTop2_BCatTope2018_run20240310_170949.coffea\"),\n",
    "    util.load(\"coffea_files/ver3/output_MCWlvJets_BCatTope2018_run20240310_205459.coffea\"),\n",
    "])"
   ]
  },
  {
   "cell_type": "code",
   "execution_count": null,
   "metadata": {},
   "outputs": [],
   "source": []
  }
 ],
 "metadata": {
  "kernelspec": {
   "display_name": "my-env",
   "language": "python",
   "name": "my-env"
  },
  "language_info": {
   "codemirror_mode": {
    "name": "ipython",
    "version": 3
   },
   "file_extension": ".py",
   "mimetype": "text/x-python",
   "name": "python",
   "nbconvert_exporter": "python",
   "pygments_lexer": "ipython3",
   "version": "3.9.18"
  }
 },
 "nbformat": 4,
 "nbformat_minor": 4
}
