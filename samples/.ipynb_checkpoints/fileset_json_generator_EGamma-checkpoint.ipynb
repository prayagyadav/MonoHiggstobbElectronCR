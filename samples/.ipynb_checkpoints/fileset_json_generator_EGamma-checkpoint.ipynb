{
 "cells": [
  {
   "cell_type": "code",
   "execution_count": 1,
   "id": "1b922f06-3e2d-4942-bda5-8d966413465f",
   "metadata": {},
   "outputs": [],
   "source": [
    "import json"
   ]
  },
  {
   "cell_type": "code",
   "execution_count": 2,
   "id": "85673c13-2752-48c1-b958-b028a9402838",
   "metadata": {},
   "outputs": [],
   "source": [
    "with open('2018_MET_samples.json') as file:\n",
    "    f = json.load(file)"
   ]
  },
  {
   "cell_type": "code",
   "execution_count": 4,
   "id": "ed7a64cd-2ba0-40a1-b5a0-877e72dc1170",
   "metadata": {},
   "outputs": [
    {
     "data": {
      "text/plain": [
       "dict_keys(['DataA', 'DataB', 'DataC', 'DataD', 'MCTTbar1l1v', 'MCTTbar0l0v', 'MCTTbar2l2v', 'MCZ1Jets', 'MCZ2Jets', 'MCWlvJets', 'MCDYJets', 'MCDYJets_M4to50', 'MCSingleTop1', 'MCSingleTop2', 'MCVV', 'MCHiggs', 'MCQCD', 'MCDYincl', 'MCDYJetsZpT1', 'MCDYJetsZpT2', 'MCDYJetsZpT3'])"
      ]
     },
     "execution_count": 4,
     "metadata": {},
     "output_type": "execute_result"
    }
   ],
   "source": [
    "f.keys()"
   ]
  },
  {
   "cell_type": "code",
   "execution_count": 6,
   "id": "a0558907-9a43-4b9a-a9b3-2e0d25ee54c9",
   "metadata": {},
   "outputs": [
    {
     "data": {
      "text/plain": [
       "dict_keys(['Data_MET_Run2018A'])"
      ]
     },
     "execution_count": 6,
     "metadata": {},
     "output_type": "execute_result"
    }
   ],
   "source": [
    "f['DataA'].keys()"
   ]
  },
  {
   "cell_type": "code",
   "execution_count": 9,
   "id": "d598db41-8595-423c-845f-426de47550a3",
   "metadata": {},
   "outputs": [
    {
     "data": {
      "text/plain": [
       "40"
      ]
     },
     "execution_count": 9,
     "metadata": {},
     "output_type": "execute_result"
    }
   ],
   "source": [
    "len(f['DataA']['Data_MET_Run2018A'])"
   ]
  },
  {
   "cell_type": "code",
   "execution_count": 10,
   "id": "248f9858-fa74-4afd-adf5-2b940ea38462",
   "metadata": {},
   "outputs": [
    {
     "data": {
      "text/plain": [
       "'root://pubxrootd.hep.wisc.edu///store/data/Run2018A/MET/NANOAOD/UL2018_MiniAODv2_NanoAODv9-v2/110000/0F8C0C8C-63E4-1D4E-A8DF-506BDB55BD43.root'"
      ]
     },
     "execution_count": 10,
     "metadata": {},
     "output_type": "execute_result"
    }
   ],
   "source": [
    "f['DataA']['Data_MET_Run2018A'][0]"
   ]
  },
  {
   "cell_type": "code",
   "execution_count": 17,
   "id": "0ffef35e-cd82-4a4f-8caa-a13878bec2ea",
   "metadata": {},
   "outputs": [],
   "source": [
    "with open('Egamma_2018A.txt') as file:\n",
    "    lines = file.readlines()\n",
    "dataset_A = []\n",
    "redirector=\"root://cmsxrootd.fnal.gov//\"\n",
    "for line in lines:\n",
    "    dataset_A.append(redirector+line.strip())\n",
    "\n",
    "with open('Egamma_2018B.txt') as file:\n",
    "    lines = file.readlines()\n",
    "dataset_B = []\n",
    "redirector=\"root://cmsxrootd.fnal.gov//\"\n",
    "for line in lines:\n",
    "    dataset_B.append(redirector+line.strip())\n",
    "\n",
    "with open('Egamma_2018C.txt') as file:\n",
    "    lines = file.readlines()\n",
    "dataset_C = []\n",
    "redirector=\"root://cmsxrootd.fnal.gov//\"\n",
    "for line in lines:\n",
    "    dataset_C.append(redirector+line.strip())\n",
    "\n",
    "with open('Egamma_2018D.txt') as file:\n",
    "    lines = file.readlines()\n",
    "dataset_D = []\n",
    "redirector=\"root://cmsxrootd.fnal.gov//\"\n",
    "for line in lines:\n",
    "    dataset_D.append(redirector+line.strip())"
   ]
  },
  {
   "cell_type": "code",
   "execution_count": 19,
   "id": "8c588c9c-fb87-43ba-8d3f-361637b054bd",
   "metadata": {},
   "outputs": [
    {
     "name": "stdout",
     "output_type": "stream",
     "text": [
      "226 74 83 355\n"
     ]
    }
   ],
   "source": [
    "print(len(dataset_A), len(dataset_B), len(dataset_C), len(dataset_D))"
   ]
  },
  {
   "cell_type": "code",
   "execution_count": 20,
   "id": "7b22ff8e-a26b-4cb8-80f8-aca95a297935",
   "metadata": {},
   "outputs": [],
   "source": [
    "f['DataA'] = { 'Data_EGM_Run2018A' : dataset_A}\n",
    "f['DataB'] = { 'Data_EGM_Run2018B' : dataset_B}\n",
    "f['DataC'] = { 'Data_EGM_Run2018C' : dataset_C}\n",
    "f['DataD'] = { 'Data_EGM_Run2018D' : dataset_D}"
   ]
  },
  {
   "cell_type": "code",
   "execution_count": 22,
   "id": "809db1f8-ffa2-4902-8a9a-981d31e15911",
   "metadata": {},
   "outputs": [
    {
     "data": {
      "text/plain": [
       "dict_keys(['DataA', 'DataB', 'DataC', 'DataD', 'MCTTbar1l1v', 'MCTTbar0l0v', 'MCTTbar2l2v', 'MCZ1Jets', 'MCZ2Jets', 'MCWlvJets', 'MCDYJets', 'MCDYJets_M4to50', 'MCSingleTop1', 'MCSingleTop2', 'MCVV', 'MCHiggs', 'MCQCD', 'MCDYincl', 'MCDYJetsZpT1', 'MCDYJetsZpT2', 'MCDYJetsZpT3'])"
      ]
     },
     "execution_count": 22,
     "metadata": {},
     "output_type": "execute_result"
    }
   ],
   "source": [
    "f.keys()"
   ]
  },
  {
   "cell_type": "code",
   "execution_count": 23,
   "id": "b2f95bc0-5a4a-444e-9c84-ff76be5b714d",
   "metadata": {},
   "outputs": [
    {
     "data": {
      "text/plain": [
       "dict_keys(['Data_EGM_Run2018A'])"
      ]
     },
     "execution_count": 23,
     "metadata": {},
     "output_type": "execute_result"
    }
   ],
   "source": [
    "f['DataA'].keys()"
   ]
  },
  {
   "cell_type": "code",
   "execution_count": 25,
   "id": "423f4f53-718d-4e28-931f-d39fbaf0f746",
   "metadata": {},
   "outputs": [
    {
     "data": {
      "text/plain": [
       "226"
      ]
     },
     "execution_count": 25,
     "metadata": {},
     "output_type": "execute_result"
    }
   ],
   "source": [
    "len(f['DataA']['Data_EGM_Run2018A'])"
   ]
  },
  {
   "cell_type": "code",
   "execution_count": 27,
   "id": "18b12013-e014-4aba-a184-355631575b63",
   "metadata": {},
   "outputs": [],
   "source": [
    "json_object = json.dumps(f, indent=4)\n",
    "with open('2018_EGM_samples.json','w') as file:\n",
    "    file.write(json_object)"
   ]
  }
 ],
 "metadata": {
  "kernelspec": {
   "display_name": "Python 3 (ipykernel)",
   "language": "python",
   "name": "python3"
  },
  "language_info": {
   "codemirror_mode": {
    "name": "ipython",
    "version": 3
   },
   "file_extension": ".py",
   "mimetype": "text/x-python",
   "name": "python",
   "nbconvert_exporter": "python",
   "pygments_lexer": "ipython3",
   "version": "3.10.12"
  }
 },
 "nbformat": 4,
 "nbformat_minor": 5
}
