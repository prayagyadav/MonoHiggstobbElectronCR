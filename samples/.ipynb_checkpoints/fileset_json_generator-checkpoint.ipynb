{
 "cells": [
  {
   "cell_type": "code",
   "execution_count": 3,
   "id": "7f6401f7-daee-4144-898a-1d0f2abb814d",
   "metadata": {},
   "outputs": [],
   "source": [
    "import files_Data18\n",
    "import files_MC18\n",
    "import json"
   ]
  },
  {
   "cell_type": "code",
   "execution_count": 4,
   "id": "a48d18ad-af3f-4c40-a6b1-a33cdbd36f1d",
   "metadata": {},
   "outputs": [
    {
     "data": {
      "text/plain": [
       "dict_keys(['Data_MET_Run2018A', 'Data_MET_Run2018B', 'Data_MET_Run2018C', 'Data_MET_Run2018D'])"
      ]
     },
     "execution_count": 4,
     "metadata": {},
     "output_type": "execute_result"
    }
   ],
   "source": [
    "data = files_Data18.fileList_Data_18\n",
    "data.keys()"
   ]
  },
  {
   "cell_type": "code",
   "execution_count": 5,
   "id": "930cc980-7fba-4f99-9c3d-bcd3d7de0fec",
   "metadata": {},
   "outputs": [
    {
     "data": {
      "text/plain": [
       "dict_keys(['TTToSemiLeptonic_18', 'TTTo2L2Nu_18', 'TTToHadronic_18', 'Z1Jets_NuNu_ZpT_50To150_18', 'Z1Jets_NuNu_ZpT_150To250_18', 'Z1Jets_NuNu_ZpT_250To400_18', 'Z1Jets_NuNu_ZpT_400Toinf_18', 'Z2Jets_NuNu_ZpT_50To150_18', 'Z2Jets_NuNu_ZpT_150To250_18', 'Z2Jets_NuNu_ZpT_250To400_18', 'Z2Jets_NuNu_ZpT_400Toinf_18', 'WJets_LNu_WPt_100To250_18', 'WJets_LNu_WPt_250To400_18', 'WJets_LNu_WPt_400To600_18', 'WJets_LNu_WPt_600Toinf_18', 'WZ_1L1Nu2Q_18', 'WZ_2L2Q_18', 'WZ_3L1Nu_18', 'ZZ_2L2Nu_18', 'ZZ_2L2Q_18', 'ZZ_2Q2Nu_18', 'ZZ_4L_18', 'WW_2L2Nu_18', 'WW_1L1Nu2Q_18', 'ST_tchannel_top_18', 'ST_tchannel_antitop_18', 'ST_tW_top_18', 'ST_tW_antitop_18', 'DYJets_LL_HT_70To100_18', 'DYJets_LL_HT_100To200_18', 'DYJets_LL_HT_200To400_18', 'DYJets_LL_HT_400To600_18', 'DYJets_LL_HT_600To800_18', 'DYJets_LL_HT_800To1200_18', 'DYJets_LL_HT_1200To2500_18', 'DYJets_LL_HT_2500ToInf_18', 'VBFHToBB_18', 'ttHTobb_18', 'WminusH_HToBB_WToLNu_18', 'WplusH_HToBB_WToLNu_18', 'ggZH_HToBB_ZToNuNu_18', 'ggZH_HToBB_ZToLL_18', 'ZH_HToBB_ZToLL_18', 'ZH_HToBB_ZToNuNu_18', 'QCD_HT100To200_18', 'QCD_HT200To300_18', 'QCD_HT300To500_18', 'QCD_HT500To700_18', 'QCD_HT700To1000_18', 'QCD_HT1000To1500_18', 'QCD_HT1500To2000_18', 'QCD_HT2000Toinf_18', 'DYJetsToLL_inclu_v2_18', 'DYJetsToLL_inclu_v1_18', 'WJetsToLNu_incl_18', 'DYJets_LL_M4to50_HT_70To100_18', 'DYJets_LL_M4to50_HT_100To200_18', 'DYJets_LL_M4to50_HT_200To400_18', 'DYJets_LL_M4to50_HT_400To600_18', 'DYJets_LL_M4to50_HT_600ToInf_18', 'DYJets_LL_ZpT_0To50_18', 'DYJets_LL_ZpT_50To100_18', 'DYJets_LL_ZpT_100To250_18', 'DYJets_LL_ZpT_250To400_18', 'DYJets_LL_ZpT_400To650_18', 'DYJets_LL_ZpT_650Toinf_18'])"
      ]
     },
     "execution_count": 5,
     "metadata": {},
     "output_type": "execute_result"
    }
   ],
   "source": [
    "MC = files_MC18.fileList_MC_18\n",
    "MC.keys()"
   ]
  },
  {
   "cell_type": "code",
   "execution_count": 6,
   "id": "7381c3da-81a7-47f8-b574-bcdee301a0d9",
   "metadata": {},
   "outputs": [
    {
     "data": {
      "text/plain": [
       "dict_keys(['Data_MET_Run2018A', 'Data_MET_Run2018B', 'Data_MET_Run2018C', 'Data_MET_Run2018D', 'TTToSemiLeptonic_18', 'TTTo2L2Nu_18', 'TTToHadronic_18', 'Z1Jets_NuNu_ZpT_50To150_18', 'Z1Jets_NuNu_ZpT_150To250_18', 'Z1Jets_NuNu_ZpT_250To400_18', 'Z1Jets_NuNu_ZpT_400Toinf_18', 'Z2Jets_NuNu_ZpT_50To150_18', 'Z2Jets_NuNu_ZpT_150To250_18', 'Z2Jets_NuNu_ZpT_250To400_18', 'Z2Jets_NuNu_ZpT_400Toinf_18', 'WJets_LNu_WPt_100To250_18', 'WJets_LNu_WPt_250To400_18', 'WJets_LNu_WPt_400To600_18', 'WJets_LNu_WPt_600Toinf_18', 'WZ_1L1Nu2Q_18', 'WZ_2L2Q_18', 'WZ_3L1Nu_18', 'ZZ_2L2Nu_18', 'ZZ_2L2Q_18', 'ZZ_2Q2Nu_18', 'ZZ_4L_18', 'WW_2L2Nu_18', 'WW_1L1Nu2Q_18', 'ST_tchannel_top_18', 'ST_tchannel_antitop_18', 'ST_tW_top_18', 'ST_tW_antitop_18', 'DYJets_LL_HT_70To100_18', 'DYJets_LL_HT_100To200_18', 'DYJets_LL_HT_200To400_18', 'DYJets_LL_HT_400To600_18', 'DYJets_LL_HT_600To800_18', 'DYJets_LL_HT_800To1200_18', 'DYJets_LL_HT_1200To2500_18', 'DYJets_LL_HT_2500ToInf_18', 'VBFHToBB_18', 'ttHTobb_18', 'WminusH_HToBB_WToLNu_18', 'WplusH_HToBB_WToLNu_18', 'ggZH_HToBB_ZToNuNu_18', 'ggZH_HToBB_ZToLL_18', 'ZH_HToBB_ZToLL_18', 'ZH_HToBB_ZToNuNu_18', 'QCD_HT100To200_18', 'QCD_HT200To300_18', 'QCD_HT300To500_18', 'QCD_HT500To700_18', 'QCD_HT700To1000_18', 'QCD_HT1000To1500_18', 'QCD_HT1500To2000_18', 'QCD_HT2000Toinf_18', 'DYJetsToLL_inclu_v2_18', 'DYJetsToLL_inclu_v1_18', 'WJetsToLNu_incl_18', 'DYJets_LL_M4to50_HT_70To100_18', 'DYJets_LL_M4to50_HT_100To200_18', 'DYJets_LL_M4to50_HT_200To400_18', 'DYJets_LL_M4to50_HT_400To600_18', 'DYJets_LL_M4to50_HT_600ToInf_18', 'DYJets_LL_ZpT_0To50_18', 'DYJets_LL_ZpT_50To100_18', 'DYJets_LL_ZpT_100To250_18', 'DYJets_LL_ZpT_250To400_18', 'DYJets_LL_ZpT_400To650_18', 'DYJets_LL_ZpT_650Toinf_18'])"
      ]
     },
     "execution_count": 6,
     "metadata": {},
     "output_type": "execute_result"
    }
   ],
   "source": [
    "#Merge the dictionaries\n",
    "fileset = {**data,**MC}\n",
    "fileset.keys()"
   ]
  },
  {
   "cell_type": "code",
   "execution_count": 7,
   "id": "066e00c6-034d-4fd1-a64d-cd95a8345ab8",
   "metadata": {},
   "outputs": [],
   "source": [
    "mc_group_mapping = {\n",
    "    \"DataA\": ['Data_MET_Run2018A'],\n",
    "    \"DataB\": ['Data_MET_Run2018B'],\n",
    "    \"DataC\": ['Data_MET_Run2018C'],\n",
    "    \"DataD\": ['Data_MET_Run2018D'],\n",
    "    \"MCTTbar1l1v\": ['TTToSemiLeptonic_18'],\n",
    "    \"MCTTbar0l0v\": ['TTToHadronic_18'],\n",
    "    \"MCTTbar2l2v\": ['TTTo2L2Nu_18'],\n",
    "    \"MCZ1Jets\": [\n",
    "        'Z1Jets_NuNu_ZpT_50To150_18',\n",
    "        'Z1Jets_NuNu_ZpT_150To250_18',\n",
    "        'Z1Jets_NuNu_ZpT_250To400_18',\n",
    "        'Z1Jets_NuNu_ZpT_400Toinf_18'],\n",
    "    \"MCZ2Jets\": [\n",
    "        'Z2Jets_NuNu_ZpT_50To150_18',\n",
    "        'Z2Jets_NuNu_ZpT_150To250_18',\n",
    "        'Z2Jets_NuNu_ZpT_250To400_18',\n",
    "        'Z2Jets_NuNu_ZpT_400Toinf_18'],\n",
    "    \"MCWlvJets\": [\n",
    "        'WJets_LNu_WPt_100To250_18',\n",
    "        'WJets_LNu_WPt_250To400_18',\n",
    "        'WJets_LNu_WPt_400To600_18',\n",
    "        'WJets_LNu_WPt_600Toinf_18'],\n",
    "    \"MCDYJets\": [\n",
    "        'DYJets_LL_HT_70To100_18',\n",
    "        'DYJets_LL_HT_100To200_18', \n",
    "        'DYJets_LL_HT_200To400_18',\n",
    "        'DYJets_LL_HT_400To600_18',\n",
    "        'DYJets_LL_HT_600To800_18',\n",
    "        'DYJets_LL_HT_800To1200_18',\n",
    "        'DYJets_LL_HT_1200To2500_18',\n",
    "        'DYJets_LL_HT_2500ToInf_18'],\n",
    "    \"MCDYJets_M4to50\": [\n",
    "        'DYJets_LL_M4to50_HT_70To100_18', \n",
    "        'DYJets_LL_M4to50_HT_100To200_18',\n",
    "        'DYJets_LL_M4to50_HT_200To400_18',\n",
    "        'DYJets_LL_M4to50_HT_400To600_18',\n",
    "        'DYJets_LL_M4to50_HT_600ToInf_18'],\n",
    "    \"MCSingleTop1\": [\n",
    "        'ST_tchannel_top_18',\n",
    "        'ST_tchannel_antitop_18'],\n",
    "    \"MCSingleTop2\": [\n",
    "        'ST_tW_top_18',\n",
    "        'ST_tW_antitop_18'],\n",
    "    \"MCVV\": [\n",
    "        'WZ_1L1Nu2Q_18',\n",
    "        'WZ_2L2Q_18',\n",
    "        'WZ_3L1Nu_18',\n",
    "        'ZZ_2L2Nu_18',\n",
    "        'ZZ_2L2Q_18',\n",
    "        'ZZ_2Q2Nu_18',\n",
    "        'ZZ_4L_18',\n",
    "        'WW_2L2Nu_18',\n",
    "        'WW_1L1Nu2Q_18'],\n",
    "    \"MCHiggs\": [\n",
    "        'VBFHToBB_18',\n",
    "        'ttHTobb_18',\n",
    "        'WminusH_HToBB_WToLNu_18',\n",
    "        'WplusH_HToBB_WToLNu_18',\n",
    "        'ggZH_HToBB_ZToNuNu_18',\n",
    "        'ggZH_HToBB_ZToLL_18',\n",
    "        'ZH_HToBB_ZToLL_18',\n",
    "        'ZH_HToBB_ZToNuNu_18'],\n",
    "    \"MCQCD\": [\n",
    "        'QCD_HT100To200_18',\n",
    "        'QCD_HT200To300_18',\n",
    "        'QCD_HT300To500_18',\n",
    "        'QCD_HT500To700_18',\n",
    "        'QCD_HT700To1000_18',\n",
    "        'QCD_HT1000To1500_18',\n",
    "        'QCD_HT1500To2000_18',\n",
    "        'QCD_HT2000Toinf_18'],\n",
    "    \"MCDYincl\": ['DYJetsToLL_inclu_v1_18'],\n",
    "    \"MCDYJetsZpT1\": [\n",
    "        'DYJets_LL_ZpT_0To50_18',\n",
    "        'DYJets_LL_ZpT_50To100_18'],\n",
    "    \"MCDYJetsZpT2\": [\n",
    "        'DYJets_LL_ZpT_100To250_18',\n",
    "        'DYJets_LL_ZpT_250To400_18'],\n",
    "    \"MCDYJetsZpT3\": [\n",
    "        'DYJets_LL_ZpT_400To650_18',\n",
    "        'DYJets_LL_ZpT_650Toinf_18'],\n",
    "}"
   ]
  },
  {
   "cell_type": "code",
   "execution_count": 11,
   "id": "20edff6f-04aa-44da-bd46-4a8961b6c920",
   "metadata": {},
   "outputs": [],
   "source": [
    "temp = {}\n",
    "for key in mc_group_mapping :\n",
    "    temp[key] = {}\n",
    "    for sample in mc_group_mapping[key]:\n",
    "        temp[key][sample] = fileset[sample]\n"
   ]
  },
  {
   "cell_type": "code",
   "execution_count": 12,
   "id": "528c54f5-dd1d-40b5-b142-58e738f592fa",
   "metadata": {},
   "outputs": [],
   "source": [
    "with open(\"2018_samples.json\", \"w\") as outfile: \n",
    "    json.dump(temp, outfile)"
   ]
  },
  {
   "cell_type": "code",
   "execution_count": null,
   "id": "1fa11311-0917-4872-86bc-2ad96641baed",
   "metadata": {},
   "outputs": [],
   "source": []
  }
 ],
 "metadata": {
  "kernelspec": {
   "display_name": "Python 3 (ipykernel)",
   "language": "python",
   "name": "python3"
  },
  "language_info": {
   "codemirror_mode": {
    "name": "ipython",
    "version": 3
   },
   "file_extension": ".py",
   "mimetype": "text/x-python",
   "name": "python",
   "nbconvert_exporter": "python",
   "pygments_lexer": "ipython3",
   "version": "3.10.8"
  }
 },
 "nbformat": 4,
 "nbformat_minor": 5
}
